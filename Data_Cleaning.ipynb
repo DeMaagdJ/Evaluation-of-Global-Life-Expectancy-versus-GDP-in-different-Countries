{
 "cells": [
  {
   "cell_type": "code",
   "execution_count": 44,
   "metadata": {},
   "outputs": [],
   "source": [
    "# Dependencies and Setup\n",
    "import pandas as pd\n",
    "import os\n",
    "import matplotlib.pyplot as plt\n",
    "import numpy as np\n",
    "import hvplot.pandas\n",
    "from geopy.geocoders import Nominatim\n",
    "import scipy.stats as st"
   ]
  },
  {
   "cell_type": "code",
   "execution_count": 45,
   "metadata": {},
   "outputs": [],
   "source": [
    "csv = os.path.join(\"Resources/Life_expectancy_data_Proj_1.csv\")\n",
    "GDP = os.path.join(\"Resources/GDPbillions.csv\")"
   ]
  },
  {
   "cell_type": "code",
   "execution_count": 46,
   "metadata": {},
   "outputs": [],
   "source": [
    "df = pd.read_csv(csv)"
   ]
  },
  {
   "cell_type": "code",
   "execution_count": 47,
   "metadata": {},
   "outputs": [
    {
     "data": {
      "text/plain": [
       "Country     object\n",
       "Year       float64\n",
       "Female     float64\n",
       "Male       float64\n",
       "Total      float64\n",
       "dtype: object"
      ]
     },
     "execution_count": 47,
     "metadata": {},
     "output_type": "execute_result"
    }
   ],
   "source": [
    "df.dropna(how='any')\n",
    "df.dtypes"
   ]
  },
  {
   "cell_type": "code",
   "execution_count": 48,
   "metadata": {},
   "outputs": [
    {
     "data": {
      "text/html": [
       "<div>\n",
       "<style scoped>\n",
       "    .dataframe tbody tr th:only-of-type {\n",
       "        vertical-align: middle;\n",
       "    }\n",
       "\n",
       "    .dataframe tbody tr th {\n",
       "        vertical-align: top;\n",
       "    }\n",
       "\n",
       "    .dataframe thead th {\n",
       "        text-align: right;\n",
       "    }\n",
       "</style>\n",
       "<table border=\"1\" class=\"dataframe\">\n",
       "  <thead>\n",
       "    <tr style=\"text-align: right;\">\n",
       "      <th></th>\n",
       "      <th>Country</th>\n",
       "      <th>Year</th>\n",
       "      <th>Female</th>\n",
       "      <th>Male</th>\n",
       "      <th>Total</th>\n",
       "    </tr>\n",
       "  </thead>\n",
       "  <tbody>\n",
       "    <tr>\n",
       "      <th>0</th>\n",
       "      <td>Australia</td>\n",
       "      <td>1921.0</td>\n",
       "      <td>63.18</td>\n",
       "      <td>59.10</td>\n",
       "      <td>60.97</td>\n",
       "    </tr>\n",
       "    <tr>\n",
       "      <th>1</th>\n",
       "      <td>Australia</td>\n",
       "      <td>1922.0</td>\n",
       "      <td>65.11</td>\n",
       "      <td>60.88</td>\n",
       "      <td>62.83</td>\n",
       "    </tr>\n",
       "    <tr>\n",
       "      <th>2</th>\n",
       "      <td>Australia</td>\n",
       "      <td>1923.0</td>\n",
       "      <td>63.66</td>\n",
       "      <td>59.98</td>\n",
       "      <td>61.68</td>\n",
       "    </tr>\n",
       "    <tr>\n",
       "      <th>3</th>\n",
       "      <td>Australia</td>\n",
       "      <td>1924.0</td>\n",
       "      <td>64.51</td>\n",
       "      <td>60.77</td>\n",
       "      <td>62.48</td>\n",
       "    </tr>\n",
       "    <tr>\n",
       "      <th>4</th>\n",
       "      <td>Australia</td>\n",
       "      <td>1925.0</td>\n",
       "      <td>65.38</td>\n",
       "      <td>61.30</td>\n",
       "      <td>63.17</td>\n",
       "    </tr>\n",
       "  </tbody>\n",
       "</table>\n",
       "</div>"
      ],
      "text/plain": [
       "     Country    Year  Female   Male  Total\n",
       "0  Australia  1921.0   63.18  59.10  60.97\n",
       "1  Australia  1922.0   65.11  60.88  62.83\n",
       "2  Australia  1923.0   63.66  59.98  61.68\n",
       "3  Australia  1924.0   64.51  60.77  62.48\n",
       "4  Australia  1925.0   65.38  61.30  63.17"
      ]
     },
     "execution_count": 48,
     "metadata": {},
     "output_type": "execute_result"
    }
   ],
   "source": [
    "df.head()"
   ]
  },
  {
   "cell_type": "code",
   "execution_count": 49,
   "metadata": {},
   "outputs": [
    {
     "data": {
      "text/plain": [
       "Country    414\n",
       "Year       411\n",
       "Female     411\n",
       "Male       411\n",
       "Total      411\n",
       "dtype: int64"
      ]
     },
     "execution_count": 49,
     "metadata": {},
     "output_type": "execute_result"
    }
   ],
   "source": [
    "df.count()"
   ]
  },
  {
   "cell_type": "code",
   "execution_count": 50,
   "metadata": {},
   "outputs": [],
   "source": [
    "life_df1 = df.loc[df[\"Year\"] > 2007, [\"Country\", \"Year\", \"Female\", \"Male\", \"Total\"]]"
   ]
  },
  {
   "cell_type": "code",
   "execution_count": 51,
   "metadata": {},
   "outputs": [],
   "source": [
    "life_df2 = life_df1.loc[life_df1[\"Year\"] < 2019, [\"Country\", \"Year\", \"Female\", \"Male\", \"Total\"]]"
   ]
  },
  {
   "cell_type": "code",
   "execution_count": 53,
   "metadata": {},
   "outputs": [
    {
     "data": {
      "text/html": [
       "<div>\n",
       "<style scoped>\n",
       "    .dataframe tbody tr th:only-of-type {\n",
       "        vertical-align: middle;\n",
       "    }\n",
       "\n",
       "    .dataframe tbody tr th {\n",
       "        vertical-align: top;\n",
       "    }\n",
       "\n",
       "    .dataframe thead th {\n",
       "        text-align: right;\n",
       "    }\n",
       "</style>\n",
       "<table border=\"1\" class=\"dataframe\">\n",
       "  <thead>\n",
       "    <tr style=\"text-align: right;\">\n",
       "      <th></th>\n",
       "      <th>Country</th>\n",
       "      <th>Year</th>\n",
       "      <th>Female</th>\n",
       "      <th>Male</th>\n",
       "      <th>Total</th>\n",
       "    </tr>\n",
       "  </thead>\n",
       "  <tbody>\n",
       "    <tr>\n",
       "      <th>87</th>\n",
       "      <td>Australia</td>\n",
       "      <td>2008.0</td>\n",
       "      <td>83.70</td>\n",
       "      <td>79.14</td>\n",
       "      <td>81.43</td>\n",
       "    </tr>\n",
       "    <tr>\n",
       "      <th>88</th>\n",
       "      <td>Australia</td>\n",
       "      <td>2009.0</td>\n",
       "      <td>84.00</td>\n",
       "      <td>79.44</td>\n",
       "      <td>81.73</td>\n",
       "    </tr>\n",
       "    <tr>\n",
       "      <th>89</th>\n",
       "      <td>Australia</td>\n",
       "      <td>2010.0</td>\n",
       "      <td>84.20</td>\n",
       "      <td>79.81</td>\n",
       "      <td>82.02</td>\n",
       "    </tr>\n",
       "    <tr>\n",
       "      <th>90</th>\n",
       "      <td>Australia</td>\n",
       "      <td>2011.0</td>\n",
       "      <td>84.25</td>\n",
       "      <td>79.92</td>\n",
       "      <td>82.09</td>\n",
       "    </tr>\n",
       "    <tr>\n",
       "      <th>91</th>\n",
       "      <td>Australia</td>\n",
       "      <td>2012.0</td>\n",
       "      <td>84.30</td>\n",
       "      <td>80.27</td>\n",
       "      <td>82.30</td>\n",
       "    </tr>\n",
       "  </tbody>\n",
       "</table>\n",
       "</div>"
      ],
      "text/plain": [
       "      Country    Year  Female   Male  Total\n",
       "87  Australia  2008.0   83.70  79.14  81.43\n",
       "88  Australia  2009.0   84.00  79.44  81.73\n",
       "89  Australia  2010.0   84.20  79.81  82.02\n",
       "90  Australia  2011.0   84.25  79.92  82.09\n",
       "91  Australia  2012.0   84.30  80.27  82.30"
      ]
     },
     "execution_count": 53,
     "metadata": {},
     "output_type": "execute_result"
    }
   ],
   "source": [
    "life_df2.head()"
   ]
  },
  {
   "cell_type": "code",
   "execution_count": 54,
   "metadata": {},
   "outputs": [
    {
     "data": {
      "text/html": [
       "<div>\n",
       "<style scoped>\n",
       "    .dataframe tbody tr th:only-of-type {\n",
       "        vertical-align: middle;\n",
       "    }\n",
       "\n",
       "    .dataframe tbody tr th {\n",
       "        vertical-align: top;\n",
       "    }\n",
       "\n",
       "    .dataframe thead th {\n",
       "        text-align: right;\n",
       "    }\n",
       "</style>\n",
       "<table border=\"1\" class=\"dataframe\">\n",
       "  <thead>\n",
       "    <tr style=\"text-align: right;\">\n",
       "      <th></th>\n",
       "      <th>Australia</th>\n",
       "      <th>Chile</th>\n",
       "      <th>Hong Kong</th>\n",
       "      <th>Hungary</th>\n",
       "      <th>United States</th>\n",
       "    </tr>\n",
       "    <tr>\n",
       "      <th>Year</th>\n",
       "      <th></th>\n",
       "      <th></th>\n",
       "      <th></th>\n",
       "      <th></th>\n",
       "      <th></th>\n",
       "    </tr>\n",
       "  </thead>\n",
       "  <tbody>\n",
       "    <tr>\n",
       "      <th>2008.0</th>\n",
       "      <td>81.43</td>\n",
       "      <td>78.24</td>\n",
       "      <td>82.03</td>\n",
       "      <td>73.96</td>\n",
       "      <td>78.17</td>\n",
       "    </tr>\n",
       "    <tr>\n",
       "      <th>2009.0</th>\n",
       "      <td>81.73</td>\n",
       "      <td>78.40</td>\n",
       "      <td>82.59</td>\n",
       "      <td>74.18</td>\n",
       "      <td>78.52</td>\n",
       "    </tr>\n",
       "    <tr>\n",
       "      <th>2010.0</th>\n",
       "      <td>82.02</td>\n",
       "      <td>78.15</td>\n",
       "      <td>82.80</td>\n",
       "      <td>74.52</td>\n",
       "      <td>78.71</td>\n",
       "    </tr>\n",
       "    <tr>\n",
       "      <th>2011.0</th>\n",
       "      <td>82.09</td>\n",
       "      <td>78.78</td>\n",
       "      <td>83.24</td>\n",
       "      <td>74.91</td>\n",
       "      <td>78.76</td>\n",
       "    </tr>\n",
       "    <tr>\n",
       "      <th>2012.0</th>\n",
       "      <td>82.30</td>\n",
       "      <td>78.79</td>\n",
       "      <td>83.28</td>\n",
       "      <td>75.18</td>\n",
       "      <td>78.87</td>\n",
       "    </tr>\n",
       "    <tr>\n",
       "      <th>2013.0</th>\n",
       "      <td>82.55</td>\n",
       "      <td>78.99</td>\n",
       "      <td>83.84</td>\n",
       "      <td>75.68</td>\n",
       "      <td>78.88</td>\n",
       "    </tr>\n",
       "    <tr>\n",
       "      <th>2014.0</th>\n",
       "      <td>82.52</td>\n",
       "      <td>79.09</td>\n",
       "      <td>83.94</td>\n",
       "      <td>75.85</td>\n",
       "      <td>78.94</td>\n",
       "    </tr>\n",
       "    <tr>\n",
       "      <th>2015.0</th>\n",
       "      <td>82.60</td>\n",
       "      <td>79.30</td>\n",
       "      <td>84.15</td>\n",
       "      <td>75.65</td>\n",
       "      <td>78.79</td>\n",
       "    </tr>\n",
       "    <tr>\n",
       "      <th>2016.0</th>\n",
       "      <td>82.81</td>\n",
       "      <td>79.57</td>\n",
       "      <td>84.31</td>\n",
       "      <td>76.16</td>\n",
       "      <td>78.76</td>\n",
       "    </tr>\n",
       "    <tr>\n",
       "      <th>2017.0</th>\n",
       "      <td>82.72</td>\n",
       "      <td>79.74</td>\n",
       "      <td>84.72</td>\n",
       "      <td>76.00</td>\n",
       "      <td>78.73</td>\n",
       "    </tr>\n",
       "    <tr>\n",
       "      <th>2018.0</th>\n",
       "      <td>83.26</td>\n",
       "      <td>79.99</td>\n",
       "      <td>85.05</td>\n",
       "      <td>76.20</td>\n",
       "      <td>78.88</td>\n",
       "    </tr>\n",
       "  </tbody>\n",
       "</table>\n",
       "</div>"
      ],
      "text/plain": [
       "        Australia  Chile  Hong Kong  Hungary  United States\n",
       "Year                                                       \n",
       "2008.0      81.43  78.24      82.03    73.96          78.17\n",
       "2009.0      81.73  78.40      82.59    74.18          78.52\n",
       "2010.0      82.02  78.15      82.80    74.52          78.71\n",
       "2011.0      82.09  78.78      83.24    74.91          78.76\n",
       "2012.0      82.30  78.79      83.28    75.18          78.87\n",
       "2013.0      82.55  78.99      83.84    75.68          78.88\n",
       "2014.0      82.52  79.09      83.94    75.85          78.94\n",
       "2015.0      82.60  79.30      84.15    75.65          78.79\n",
       "2016.0      82.81  79.57      84.31    76.16          78.76\n",
       "2017.0      82.72  79.74      84.72    76.00          78.73\n",
       "2018.0      83.26  79.99      85.05    76.20          78.88"
      ]
     },
     "execution_count": 54,
     "metadata": {},
     "output_type": "execute_result"
    }
   ],
   "source": [
    "# Use the code provided to separate the data by year\n",
    "Aus = life_df2[(life_df2[\"Country\"] == 'Australia')]\n",
    "Chil = life_df2[(life_df2[\"Country\"] == 'Chile')]\n",
    "HngKng = life_df2[(life_df2[\"Country\"] == 'Hong Kong')]\n",
    "Hun = life_df2[(life_df2[\"Country\"] == 'Hungary')]\n",
    "USA = life_df2[(life_df2[\"Country\"] == 'United States')]\n",
    "\n",
    "\n",
    "#Group by \"Country\" and take the mean of each of life expectancy disregarding gender.\n",
    "mean_life_01 = Aus.groupby([\"Year\"]).mean()[\"Total\"]\n",
    "mean_life_02 = Chil.groupby([\"Year\"]).mean()[\"Total\"]\n",
    "mean_life_03 = HngKng.groupby([\"Year\"]).mean()[\"Total\"]\n",
    "mean_life_04 = Hun.groupby([\"Year\"]).mean()[\"Total\"]\n",
    "mean_life_05 = USA.groupby([\"Year\"]).mean()[\"Total\"]\n",
    "\n",
    "\n",
    "#Data frame of life expectancy by country\n",
    "life_ex_country_df = pd.DataFrame({\"Australia\": mean_life_01,\n",
    "    \"Chile\": mean_life_02,\n",
    "    \"Hong Kong\": mean_life_03,\n",
    "    \"Hungary\": mean_life_04,\n",
    "    \"United States\": mean_life_05                               \n",
    "   })\n",
    "\n",
    "life_ex_country_df\n",
    "\n",
    "\n"
   ]
  },
  {
   "cell_type": "code",
   "execution_count": 55,
   "metadata": {},
   "outputs": [],
   "source": [
    "\n",
    "y_axis = life_ex_country_df.values.tolist()\n",
    "x_axis = [life_ex_country_df.columns.values.tolist()]"
   ]
  },
  {
   "cell_type": "code",
   "execution_count": 56,
   "metadata": {},
   "outputs": [
    {
     "data": {
      "image/png": "[encoded data removed]",
      "text/plain": [
       "<Figure size 432x288 with 1 Axes>"
      ]
     },
     "metadata": {
      "needs_background": "light"
     },
     "output_type": "display_data"
    }
   ],
   "source": [
    "plot = life_ex_country_df.plot.line()"
   ]
  },
  {
   "cell_type": "code",
   "execution_count": 57,
   "metadata": {},
   "outputs": [
    {
     "data": {
      "text/html": [
       "<div>\n",
       "<style scoped>\n",
       "    .dataframe tbody tr th:only-of-type {\n",
       "        vertical-align: middle;\n",
       "    }\n",
       "\n",
       "    .dataframe tbody tr th {\n",
       "        vertical-align: top;\n",
       "    }\n",
       "\n",
       "    .dataframe thead th {\n",
       "        text-align: right;\n",
       "    }\n",
       "</style>\n",
       "<table border=\"1\" class=\"dataframe\">\n",
       "  <thead>\n",
       "    <tr style=\"text-align: right;\">\n",
       "      <th></th>\n",
       "      <th>2008</th>\n",
       "      <th>2009</th>\n",
       "      <th>2010</th>\n",
       "      <th>2011</th>\n",
       "      <th>2012</th>\n",
       "      <th>2013</th>\n",
       "      <th>2014</th>\n",
       "      <th>2015</th>\n",
       "      <th>2016</th>\n",
       "      <th>2017</th>\n",
       "      <th>2018</th>\n",
       "    </tr>\n",
       "    <tr>\n",
       "      <th>Country</th>\n",
       "      <th></th>\n",
       "      <th></th>\n",
       "      <th></th>\n",
       "      <th></th>\n",
       "      <th></th>\n",
       "      <th></th>\n",
       "      <th></th>\n",
       "      <th></th>\n",
       "      <th></th>\n",
       "      <th></th>\n",
       "      <th></th>\n",
       "    </tr>\n",
       "  </thead>\n",
       "  <tbody>\n",
       "    <tr>\n",
       "      <th>Australia</th>\n",
       "      <td>1055.64</td>\n",
       "      <td>928.63</td>\n",
       "      <td>1148.61</td>\n",
       "      <td>1398.41</td>\n",
       "      <td>1546.89</td>\n",
       "      <td>1576.38</td>\n",
       "      <td>1467.55</td>\n",
       "      <td>1350.62</td>\n",
       "      <td>1206.54</td>\n",
       "      <td>1326.52</td>\n",
       "      <td>1428.29</td>\n",
       "    </tr>\n",
       "    <tr>\n",
       "      <th>Chile</th>\n",
       "      <td>179.66</td>\n",
       "      <td>171.41</td>\n",
       "      <td>217.11</td>\n",
       "      <td>251.22</td>\n",
       "      <td>267.18</td>\n",
       "      <td>277.24</td>\n",
       "      <td>259.41</td>\n",
       "      <td>242.50</td>\n",
       "      <td>249.30</td>\n",
       "      <td>276.36</td>\n",
       "      <td>295.40</td>\n",
       "    </tr>\n",
       "    <tr>\n",
       "      <th>Hong Kong</th>\n",
       "      <td>219.28</td>\n",
       "      <td>214.05</td>\n",
       "      <td>228.64</td>\n",
       "      <td>248.51</td>\n",
       "      <td>262.63</td>\n",
       "      <td>275.70</td>\n",
       "      <td>291.46</td>\n",
       "      <td>309.38</td>\n",
       "      <td>320.86</td>\n",
       "      <td>341.27</td>\n",
       "      <td>361.73</td>\n",
       "    </tr>\n",
       "    <tr>\n",
       "      <th>Hungary</th>\n",
       "      <td>158.33</td>\n",
       "      <td>131.07</td>\n",
       "      <td>132.18</td>\n",
       "      <td>141.94</td>\n",
       "      <td>128.81</td>\n",
       "      <td>135.68</td>\n",
       "      <td>141.03</td>\n",
       "      <td>125.17</td>\n",
       "      <td>128.61</td>\n",
       "      <td>143.11</td>\n",
       "      <td>160.56</td>\n",
       "    </tr>\n",
       "    <tr>\n",
       "      <th>United States</th>\n",
       "      <td>14769.86</td>\n",
       "      <td>14478.06</td>\n",
       "      <td>15048.96</td>\n",
       "      <td>15599.73</td>\n",
       "      <td>16253.97</td>\n",
       "      <td>16843.19</td>\n",
       "      <td>17550.68</td>\n",
       "      <td>18206.02</td>\n",
       "      <td>18695.11</td>\n",
       "      <td>19477.34</td>\n",
       "      <td>20533.06</td>\n",
       "    </tr>\n",
       "  </tbody>\n",
       "</table>\n",
       "</div>"
      ],
      "text/plain": [
       "                   2008      2009      2010      2011      2012      2013  \\\n",
       "Country                                                                     \n",
       "Australia       1055.64    928.63   1148.61   1398.41   1546.89   1576.38   \n",
       "Chile            179.66    171.41    217.11    251.22    267.18    277.24   \n",
       "Hong Kong        219.28    214.05    228.64    248.51    262.63    275.70   \n",
       "Hungary          158.33    131.07    132.18    141.94    128.81    135.68   \n",
       "United States  14769.86  14478.06  15048.96  15599.73  16253.97  16843.19   \n",
       "\n",
       "                   2014      2015      2016      2017      2018  \n",
       "Country                                                          \n",
       "Australia       1467.55   1350.62   1206.54   1326.52   1428.29  \n",
       "Chile            259.41    242.50    249.30    276.36    295.40  \n",
       "Hong Kong        291.46    309.38    320.86    341.27    361.73  \n",
       "Hungary          141.03    125.17    128.61    143.11    160.56  \n",
       "United States  17550.68  18206.02  18695.11  19477.34  20533.06  "
      ]
     },
     "execution_count": 57,
     "metadata": {},
     "output_type": "execute_result"
    }
   ],
   "source": [
    "csv1= os.path.join(\"Resources/GDPbillions.csv\")\n",
    "new_df=pd.read_csv(csv1)\n",
    "gdp_df=new_df.set_index('Country')\n",
    "gdp_df\n"
   ]
  },
  {
   "cell_type": "code",
   "execution_count": 58,
   "metadata": {},
   "outputs": [
    {
     "data": {
      "image/png": "[encoded data removed]",
      "text/plain": [
       "<Figure size 432x288 with 1 Axes>"
      ]
     },
     "metadata": {
      "needs_background": "light"
     },
     "output_type": "display_data"
    },
    {
     "data": {
      "text/plain": [
       "<Figure size 432x288 with 0 Axes>"
      ]
     },
     "metadata": {},
     "output_type": "display_data"
    }
   ],
   "source": [
    "for index, row in gdp_df.iterrows():\n",
    "    plt.plot(row, label=index)\n",
    "    plt.legend()\n",
    "plt.xlabel=(\"Years\")\n",
    "plt.ylabel=('GDP in $Billions')\n",
    "plt.show()\n",
    "plt.tight_layout()"
   ]
  },
  {
   "cell_type": "code",
   "execution_count": 59,
   "metadata": {},
   "outputs": [
    {
     "data": {
      "text/html": [
       "<div>\n",
       "<style scoped>\n",
       "    .dataframe tbody tr th:only-of-type {\n",
       "        vertical-align: middle;\n",
       "    }\n",
       "\n",
       "    .dataframe tbody tr th {\n",
       "        vertical-align: top;\n",
       "    }\n",
       "\n",
       "    .dataframe thead th {\n",
       "        text-align: right;\n",
       "    }\n",
       "</style>\n",
       "<table border=\"1\" class=\"dataframe\">\n",
       "  <thead>\n",
       "    <tr style=\"text-align: right;\">\n",
       "      <th></th>\n",
       "      <th>2008</th>\n",
       "      <th>2009</th>\n",
       "      <th>2010</th>\n",
       "      <th>2011</th>\n",
       "      <th>2012</th>\n",
       "      <th>2013</th>\n",
       "      <th>2014</th>\n",
       "      <th>2015</th>\n",
       "      <th>2016</th>\n",
       "      <th>2017</th>\n",
       "      <th>2018</th>\n",
       "    </tr>\n",
       "    <tr>\n",
       "      <th>Country</th>\n",
       "      <th></th>\n",
       "      <th></th>\n",
       "      <th></th>\n",
       "      <th></th>\n",
       "      <th></th>\n",
       "      <th></th>\n",
       "      <th></th>\n",
       "      <th></th>\n",
       "      <th></th>\n",
       "      <th></th>\n",
       "      <th></th>\n",
       "    </tr>\n",
       "  </thead>\n",
       "  <tbody>\n",
       "    <tr>\n",
       "      <th>Australia</th>\n",
       "      <td>81.43</td>\n",
       "      <td>81.73</td>\n",
       "      <td>82.02</td>\n",
       "      <td>82.09</td>\n",
       "      <td>82.30</td>\n",
       "      <td>82.55</td>\n",
       "      <td>82.52</td>\n",
       "      <td>82.60</td>\n",
       "      <td>82.81</td>\n",
       "      <td>82.72</td>\n",
       "      <td>83.26</td>\n",
       "    </tr>\n",
       "    <tr>\n",
       "      <th>Chile</th>\n",
       "      <td>78.24</td>\n",
       "      <td>78.40</td>\n",
       "      <td>78.15</td>\n",
       "      <td>78.78</td>\n",
       "      <td>78.79</td>\n",
       "      <td>78.99</td>\n",
       "      <td>79.09</td>\n",
       "      <td>79.30</td>\n",
       "      <td>79.57</td>\n",
       "      <td>79.74</td>\n",
       "      <td>79.99</td>\n",
       "    </tr>\n",
       "    <tr>\n",
       "      <th>Hong Kong</th>\n",
       "      <td>82.03</td>\n",
       "      <td>82.59</td>\n",
       "      <td>82.80</td>\n",
       "      <td>83.24</td>\n",
       "      <td>83.28</td>\n",
       "      <td>83.84</td>\n",
       "      <td>83.94</td>\n",
       "      <td>84.15</td>\n",
       "      <td>84.31</td>\n",
       "      <td>84.72</td>\n",
       "      <td>85.05</td>\n",
       "    </tr>\n",
       "    <tr>\n",
       "      <th>Hungary</th>\n",
       "      <td>73.96</td>\n",
       "      <td>74.18</td>\n",
       "      <td>74.52</td>\n",
       "      <td>74.91</td>\n",
       "      <td>75.18</td>\n",
       "      <td>75.68</td>\n",
       "      <td>75.85</td>\n",
       "      <td>75.65</td>\n",
       "      <td>76.16</td>\n",
       "      <td>76.00</td>\n",
       "      <td>76.20</td>\n",
       "    </tr>\n",
       "    <tr>\n",
       "      <th>USA</th>\n",
       "      <td>78.17</td>\n",
       "      <td>78.52</td>\n",
       "      <td>78.71</td>\n",
       "      <td>78.76</td>\n",
       "      <td>78.87</td>\n",
       "      <td>78.88</td>\n",
       "      <td>78.94</td>\n",
       "      <td>78.79</td>\n",
       "      <td>78.76</td>\n",
       "      <td>78.73</td>\n",
       "      <td>78.88</td>\n",
       "    </tr>\n",
       "  </tbody>\n",
       "</table>\n",
       "</div>"
      ],
      "text/plain": [
       "            2008   2009   2010   2011   2012   2013   2014   2015   2016  \\\n",
       "Country                                                                    \n",
       "Australia  81.43  81.73  82.02  82.09  82.30  82.55  82.52  82.60  82.81   \n",
       "Chile      78.24  78.40  78.15  78.78  78.79  78.99  79.09  79.30  79.57   \n",
       "Hong Kong  82.03  82.59  82.80  83.24  83.28  83.84  83.94  84.15  84.31   \n",
       "Hungary    73.96  74.18  74.52  74.91  75.18  75.68  75.85  75.65  76.16   \n",
       "USA        78.17  78.52  78.71  78.76  78.87  78.88  78.94  78.79  78.76   \n",
       "\n",
       "            2017   2018  \n",
       "Country                  \n",
       "Australia  82.72  83.26  \n",
       "Chile      79.74  79.99  \n",
       "Hong Kong  84.72  85.05  \n",
       "Hungary    76.00  76.20  \n",
       "USA        78.73  78.88  "
      ]
     },
     "execution_count": 59,
     "metadata": {},
     "output_type": "execute_result"
    }
   ],
   "source": [
    "yr2008 = life_df2[(life_df2[\"Year\"] == 2008)]\n",
    "yr2009 = life_df2[(life_df2[\"Year\"] == 2009)]\n",
    "yr2010 = life_df2[(life_df2[\"Year\"] == 2010)]\n",
    "yr2011 = life_df2[(life_df2[\"Year\"] == 2011)]\n",
    "yr2012 = life_df2[(life_df2[\"Year\"] == 2012)]\n",
    "yr2013 = life_df2[(life_df2[\"Year\"] == 2013)]\n",
    "yr2014 = life_df2[(life_df2[\"Year\"] == 2014)]\n",
    "yr2015 = life_df2[(life_df2[\"Year\"] == 2015)]\n",
    "yr2016 = life_df2[(life_df2[\"Year\"] == 2016)]\n",
    "yr2017 = life_df2[(life_df2[\"Year\"] == 2017)]\n",
    "yr2018 = life_df2[(life_df2[\"Year\"] == 2018)]\n",
    "\n",
    "lfe_yr08 = yr2008.groupby([\"Country\"]).first(numeric_only=True)[\"Total\"]\n",
    "lfe_yr09 = yr2009.groupby([\"Country\"]).first(numeric_only=True)[\"Total\"]\n",
    "lfe_yr10 = yr2010.groupby([\"Country\"]).first(numeric_only=True)[\"Total\"]\n",
    "lfe_yr11 = yr2011.groupby([\"Country\"]).first(numeric_only=True)[\"Total\"]\n",
    "lfe_yr12 = yr2012.groupby([\"Country\"]).first(numeric_only=True)[\"Total\"]\n",
    "lfe_yr13 = yr2013.groupby([\"Country\"]).first(numeric_only=True)[\"Total\"]\n",
    "lfe_yr14 = yr2014.groupby([\"Country\"]).first(numeric_only=True)[\"Total\"]\n",
    "lfe_yr15 = yr2015.groupby([\"Country\"]).first(numeric_only=True)[\"Total\"]\n",
    "lfe_yr16 = yr2016.groupby([\"Country\"]).first(numeric_only=True)[\"Total\"]\n",
    "lfe_yr17 = yr2017.groupby([\"Country\"]).first(numeric_only=True)[\"Total\"]\n",
    "lfe_yr18 = yr2018.groupby([\"Country\"]).first(numeric_only=True)[\"Total\"]\n",
    "\n",
    "life_ex_year_df = pd.DataFrame({\"2008\": lfe_yr08,\n",
    "    \"2009\": lfe_yr09,\n",
    "    \"2010\": lfe_yr10,\n",
    "    \"2011\": lfe_yr11,\n",
    "    \"2012\": lfe_yr12,\n",
    "    \"2013\": lfe_yr13,\n",
    "    \"2014\": lfe_yr14,\n",
    "    \"2015\": lfe_yr15,\n",
    "    \"2016\": lfe_yr16,\n",
    "    \"2017\": lfe_yr17,\n",
    "    \"2018\": lfe_yr18\n",
    "   })\n",
    "\n",
    "life_ex_year_df = life_ex_year_df.drop(\"United States\", axis = 0, inplace= False)\n",
    "life_ex_year_df"
   ]
  },
  {
   "cell_type": "code",
   "execution_count": 60,
   "metadata": {},
   "outputs": [],
   "source": [
    "Aus_x = life_ex_year_df.loc[\"Australia\"]\n",
    "Aus_y = gdp_df.loc[\"Australia\"]\n",
    "Chil_x = life_ex_year_df.loc[\"Chile\"]\n",
    "Chil_y = gdp_df.loc[\"Chile\"]\n",
    "HngKng_x = life_ex_year_df.loc[\"Hong Kong\"]\n",
    "HngKng_y = gdp_df.loc[\"Hong Kong\"]\n",
    "Hun_x = life_ex_year_df.loc[\"Hungary\"]\n",
    "Hun_y = gdp_df.loc[\"Hungary\"]\n",
    "USA_x = life_ex_year_df.loc[\"USA\"]\n",
    "USA_y = gdp_df.loc[\"United States\"]"
   ]
  },
  {
   "cell_type": "code",
   "execution_count": 61,
   "metadata": {},
   "outputs": [
    {
     "name": "stdout",
     "output_type": "stream",
     "text": [
      "The r value of Australlia's GDP vs. Life Expectancy is 0.6\n"
     ]
    },
    {
     "data": {
      "image/png": "[encoded data removed]",
      "text/plain": [
       "<Figure size 432x288 with 1 Axes>"
      ]
     },
     "metadata": {
      "needs_background": "light"
     },
     "output_type": "display_data"
    }
   ],
   "source": [
    "Aus_scat = plt.scatter(Aus_x, Aus_y, marker = 'o')\n",
    "correlation = st.pearsonr(Aus_x, Aus_y)\n",
    "plt.xlabel='Life Expectancy Years'\n",
    "plt.ylabel='GDP in $Billions'\n",
    "plt.tight_layout()\n",
    "print(f\"The r value of Australlia's GDP vs. Life Expectancy is {round(correlation[0],2)}\")"
   ]
  },
  {
   "cell_type": "code",
   "execution_count": 62,
   "metadata": {},
   "outputs": [
    {
     "name": "stdout",
     "output_type": "stream",
     "text": [
      "The r value of Chile's GDP vs. Life Expectancy is 0.77\n"
     ]
    },
    {
     "data": {
      "image/png": "[encoded data removed]",
      "text/plain": [
       "<Figure size 432x288 with 1 Axes>"
      ]
     },
     "metadata": {
      "needs_background": "light"
     },
     "output_type": "display_data"
    }
   ],
   "source": [
    "Chil_scat = plt.scatter(Chil_x, Chil_y, marker = 'o' )\n",
    "correlation = st.pearsonr(Chil_x, Chil_y)\n",
    "plt.xlabel= 'Life Expectancy Years'\n",
    "plt.ylabel= 'GDP in $Billions'\n",
    "plt.tight_layout()\n",
    "print(f\"The r value of Chile's GDP vs. Life Expectancy is {round(correlation[0],2)}\")"
   ]
  },
  {
   "cell_type": "code",
   "execution_count": 63,
   "metadata": {},
   "outputs": [
    {
     "name": "stdout",
     "output_type": "stream",
     "text": [
      "The r value of Hong Kong's GDP vs. Life Expectancy is 0.98\n"
     ]
    },
    {
     "data": {
      "image/png": "[encoded data removed]",
      "text/plain": [
       "<Figure size 432x288 with 1 Axes>"
      ]
     },
     "metadata": {
      "needs_background": "light"
     },
     "output_type": "display_data"
    }
   ],
   "source": [
    "HngKng_scat = plt.scatter(HngKng_x, HngKng_y, marker = 'o')\n",
    "correlation = st.pearsonr(HngKng_x, HngKng_y)\n",
    "plt.xlabel = 'Life Expectancy Years'\n",
    "plt.ylabe = 'GDP in $Billions'\n",
    "plt.tight_layout()\n",
    "print(f\"The r value of Hong Kong's GDP vs. Life Expectancy is {round(correlation[0],2)}\")"
   ]
  },
  {
   "cell_type": "code",
   "execution_count": 64,
   "metadata": {},
   "outputs": [
    {
     "name": "stdout",
     "output_type": "stream",
     "text": [
      "The r value of Hungary's GDP vs. Life Expectancy is -0.03\n"
     ]
    },
    {
     "data": {
      "image/png": "[encoded data removed]",
      "text/plain": [
       "<Figure size 432x288 with 1 Axes>"
      ]
     },
     "metadata": {
      "needs_background": "light"
     },
     "output_type": "display_data"
    }
   ],
   "source": [
    "Hun_scat = plt.scatter(Hun_x, Hun_y, marker = 'o')\n",
    "correlation = st.pearsonr(Hun_x, Hun_y)\n",
    "plt.xlabel= 'Life Expectancy Years'\n",
    "plt.ylabel= 'GDP in $Billions'\n",
    "plt.tight_layout()\n",
    "print(f\"The r value of Hungary's GDP vs. Life Expectancy is {round(correlation[0],2)}\")"
   ]
  },
  {
   "cell_type": "code",
   "execution_count": 65,
   "metadata": {},
   "outputs": [
    {
     "name": "stdout",
     "output_type": "stream",
     "text": [
      "The r value of United States' GDP vs. Life Expectancy is 0.55\n"
     ]
    },
    {
     "data": {
      "image/png": "[encoded data removed]",
      "text/plain": [
       "<Figure size 432x288 with 1 Axes>"
      ]
     },
     "metadata": {
      "needs_background": "light"
     },
     "output_type": "display_data"
    }
   ],
   "source": [
    "USA_scat= plt.scatter(USA_x, USA_y, marker = 'o')\n",
    "correlation = st.pearsonr(USA_x, USA_y)\n",
    "plt.xlabel = 'Life Expectancy Years'\n",
    "plt.ylabel = 'GDP in $Billions'\n",
    "plt.tight_layout()\n",
    "print(f\"The r value of United States' GDP vs. Life Expectancy is {round(correlation[0],2)}\")"
   ]
  },
  {
   "cell_type": "markdown",
   "metadata": {},
   "source": [
    "### Create a map that displays a point for every country "
   ]
  },
  {
   "cell_type": "code",
   "execution_count": 66,
   "metadata": {},
   "outputs": [
    {
     "data": {
      "text/html": [
       "<div>\n",
       "<style scoped>\n",
       "    .dataframe tbody tr th:only-of-type {\n",
       "        vertical-align: middle;\n",
       "    }\n",
       "\n",
       "    .dataframe tbody tr th {\n",
       "        vertical-align: top;\n",
       "    }\n",
       "\n",
       "    .dataframe thead th {\n",
       "        text-align: right;\n",
       "    }\n",
       "</style>\n",
       "<table border=\"1\" class=\"dataframe\">\n",
       "  <thead>\n",
       "    <tr style=\"text-align: right;\">\n",
       "      <th></th>\n",
       "      <th>City</th>\n",
       "      <th>Country</th>\n",
       "      <th>Latitude</th>\n",
       "      <th>Longitude</th>\n",
       "    </tr>\n",
       "  </thead>\n",
       "  <tbody>\n",
       "    <tr>\n",
       "      <th>0</th>\n",
       "      <td>Sydney</td>\n",
       "      <td>Australia</td>\n",
       "      <td>-33.8698</td>\n",
       "      <td>151.208</td>\n",
       "    </tr>\n",
       "    <tr>\n",
       "      <th>1</th>\n",
       "      <td>Santiago</td>\n",
       "      <td>Chile</td>\n",
       "      <td>-33.4378</td>\n",
       "      <td>-70.6505</td>\n",
       "    </tr>\n",
       "    <tr>\n",
       "      <th>2</th>\n",
       "      <td>Hong Kong</td>\n",
       "      <td>Hong Kong</td>\n",
       "      <td>22.2793</td>\n",
       "      <td>114.163</td>\n",
       "    </tr>\n",
       "    <tr>\n",
       "      <th>3</th>\n",
       "      <td>Budapeste</td>\n",
       "      <td>Hungary</td>\n",
       "      <td>47.498</td>\n",
       "      <td>19.0404</td>\n",
       "    </tr>\n",
       "    <tr>\n",
       "      <th>4</th>\n",
       "      <td>Washington DC</td>\n",
       "      <td>United States</td>\n",
       "      <td>38.895</td>\n",
       "      <td>-77.0365</td>\n",
       "    </tr>\n",
       "  </tbody>\n",
       "</table>\n",
       "</div>"
      ],
      "text/plain": [
       "            City        Country Latitude Longitude\n",
       "0         Sydney      Australia -33.8698   151.208\n",
       "1       Santiago          Chile -33.4378  -70.6505\n",
       "2      Hong Kong      Hong Kong  22.2793   114.163\n",
       "3      Budapeste        Hungary   47.498   19.0404\n",
       "4  Washington DC  United States   38.895  -77.0365"
      ]
     },
     "execution_count": 66,
     "metadata": {},
     "output_type": "execute_result"
    }
   ],
   "source": [
    "# Initialize Nominatim API\n",
    "geolocator = Nominatim(user_agent=\"Data_Cleaning\")\n",
    "\n",
    "# Create a dictionary containing coordinates\n",
    "coordinates = {\n",
    "    \"City\": [\"Sydney\", \"Santiago\", \"Hong Kong\", \"Budapeste\", \"Washington DC\"],\n",
    "    \"Country\": [\"Australia\", \"Chile\", \"Hong Kong\", \"Hungary\", \"United States\"],\n",
    "}\n",
    "\n",
    "# Create a Pandas DataFrame containing coordinates\n",
    "coordinates_df = pd.DataFrame(coordinates)\n",
    "coordinates_df[\"Latitude\"]= \"\"\n",
    "coordinates_df[\"Longitude\"]= \"\"\n",
    "for index, c in coordinates_df.iterrows():\n",
    "    city = c[\"City\"]\n",
    "    country = c[\"Country\"]\n",
    "    location = geolocator.geocode(f\"{city},{country}\")\n",
    "    c[\"Latitude\"] = location.latitude\n",
    "    c[\"Longitude\"] = location.longitude\n",
    "\n",
    "# Display sample data\n",
    "coordinates_df"
   ]
  },
  {
   "cell_type": "code",
   "execution_count": 67,
   "metadata": {
    "scrolled": true
   },
   "outputs": [
    {
     "data": {},
     "metadata": {},
     "output_type": "display_data"
    },
    {
     "data": {
      "application/vnd.holoviews_exec.v0+json": "",
      "text/html": [
       "<div id='1004'>\n",
       "  <div class=\"bk-root\" id=\"de134f2b-d191-4f5f-b1ab-e92026b76a90\" data-root-id=\"1004\"></div>\n",
       "</div>\n",
       "<script type=\"application/javascript\">(function(root) {\n",
       "  function embed_document(root) {\n",
       "    var docs_json = {\"b26a714b-53e4-4501-b7d1-f0b844a2bfec\":{\"defs\":[{\"extends\":null,\"module\":null,\"name\":\"ReactiveHTML1\",\"overrides\":[],\"properties\":[]},{\"extends\":null,\"module\":null,\"name\":\"FlexBox1\",\"overrides\":[],\"properties\":[{\"default\":\"flex-start\",\"kind\":null,\"name\":\"align_content\"},{\"default\":\"flex-start\",\"kind\":null,\"name\":\"align_items\"},{\"default\":\"row\",\"kind\":null,\"name\":\"flex_direction\"},{\"default\":\"wrap\",\"kind\":null,\"name\":\"flex_wrap\"},{\"default\":\"flex-start\",\"kind\":null,\"name\":\"justify_content\"}]},{\"extends\":null,\"module\":null,\"name\":\"GridStack1\",\"overrides\":[],\"properties\":[{\"default\":\"warn\",\"kind\":null,\"name\":\"mode\"},{\"default\":null,\"kind\":null,\"name\":\"ncols\"},{\"default\":null,\"kind\":null,\"name\":\"nrows\"},{\"default\":true,\"kind\":null,\"name\":\"allow_resize\"},{\"default\":true,\"kind\":null,\"name\":\"allow_drag\"},{\"default\":[],\"kind\":null,\"name\":\"state\"}]},{\"extends\":null,\"module\":null,\"name\":\"click1\",\"overrides\":[],\"properties\":[{\"default\":\"\",\"kind\":null,\"name\":\"terminal_output\"},{\"default\":\"\",\"kind\":null,\"name\":\"debug_name\"},{\"default\":0,\"kind\":null,\"name\":\"clears\"}]},{\"extends\":null,\"module\":null,\"name\":\"NotificationAreaBase1\",\"overrides\":[],\"properties\":[{\"default\":\"bottom-right\",\"kind\":null,\"name\":\"position\"},{\"default\":0,\"kind\":null,\"name\":\"_clear\"}]},{\"extends\":null,\"module\":null,\"name\":\"NotificationArea1\",\"overrides\":[],\"properties\":[{\"default\":[],\"kind\":null,\"name\":\"notifications\"},{\"default\":\"bottom-right\",\"kind\":null,\"name\":\"position\"},{\"default\":0,\"kind\":null,\"name\":\"_clear\"},{\"default\":[{\"background\":\"#ffc107\",\"icon\":{\"className\":\"fas fa-exclamation-triangle\",\"color\":\"white\",\"tagName\":\"i\"},\"type\":\"warning\"},{\"background\":\"#007bff\",\"icon\":{\"className\":\"fas fa-info-circle\",\"color\":\"white\",\"tagName\":\"i\"},\"type\":\"info\"}],\"kind\":null,\"name\":\"types\"}]},{\"extends\":null,\"module\":null,\"name\":\"Notification\",\"overrides\":[],\"properties\":[{\"default\":null,\"kind\":null,\"name\":\"background\"},{\"default\":3000,\"kind\":null,\"name\":\"duration\"},{\"default\":null,\"kind\":null,\"name\":\"icon\"},{\"default\":\"\",\"kind\":null,\"name\":\"message\"},{\"default\":null,\"kind\":null,\"name\":\"notification_type\"},{\"default\":false,\"kind\":null,\"name\":\"_destroyed\"}]},{\"extends\":null,\"module\":null,\"name\":\"TemplateActions1\",\"overrides\":[],\"properties\":[{\"default\":0,\"kind\":null,\"name\":\"open_modal\"},{\"default\":0,\"kind\":null,\"name\":\"close_modal\"}]},{\"extends\":null,\"module\":null,\"name\":\"MaterialTemplateActions1\",\"overrides\":[],\"properties\":[{\"default\":0,\"kind\":null,\"name\":\"open_modal\"},{\"default\":0,\"kind\":null,\"name\":\"close_modal\"}]}],\"roots\":{\"references\":[{\"attributes\":{\"fill_color\":{\"field\":\"color\",\"transform\":{\"id\":\"1080\"}},\"hatch_color\":{\"field\":\"color\",\"transform\":{\"id\":\"1080\"}},\"line_color\":{\"field\":\"color\",\"transform\":{\"id\":\"1080\"}},\"size\":{\"value\":5.477225575051661},\"x\":{\"field\":\"Longitude\"},\"y\":{\"field\":\"Latitude\"}},\"id\":\"1087\",\"type\":\"Scatter\"},{\"attributes\":{\"match_aspect\":true,\"overlay\":{\"id\":\"1039\"}},\"id\":\"1037\",\"type\":\"BoxZoomTool\"},{\"attributes\":{\"axis\":{\"id\":\"1030\"},\"coordinates\":null,\"dimension\":1,\"grid_line_color\":null,\"group\":null,\"ticker\":null},\"id\":\"1033\",\"type\":\"Grid\"},{\"attributes\":{\"margin\":[5,5,5,5],\"name\":\"HSpacer01542\",\"sizing_mode\":\"stretch_width\"},\"id\":\"1005\",\"type\":\"Spacer\"},{\"attributes\":{\"code\":\"\\n        var projections = Bokeh.require(\\\"core/util/projections\\\");\\n        var x = special_vars.data_x\\n        var y = special_vars.data_y\\n        var coords = projections.wgs84_mercator.invert(x, y)\\n        return \\\"\\\" + (coords[1]).toFixed(4)\\n    \"},\"id\":\"1100\",\"type\":\"CustomJSHover\"},{\"attributes\":{},\"id\":\"1082\",\"type\":\"Selection\"},{\"attributes\":{\"attribution\":\"&copy; <a href=\\\"http://downloads.esri.com/ArcGISOnline/docs/tou_summary.pdf\\\">Esri</a>, NatGeo, Garmin, HERE, UNEP-WCMC, USGS, NASA, ESA, METI, NRCAN, GEBCO, NOAA, Increment P\",\"url\":\"https://server.arcgisonline.com/ArcGIS/rest/services/NatGeo_World_Map/MapServer/tile/{Z}/{Y}/{X}\"},\"id\":\"1075\",\"type\":\"WMTSTileSource\"},{\"attributes\":{\"margin\":[5,5,5,5],\"name\":\"HSpacer01543\",\"sizing_mode\":\"stretch_width\"},\"id\":\"1111\",\"type\":\"Spacer\"},{\"attributes\":{},\"id\":\"1024\",\"type\":\"LinearScale\"},{\"attributes\":{\"callback\":null,\"formatters\":{\"$x\":{\"id\":\"1099\"},\"$y\":{\"id\":\"1100\"}},\"renderers\":[{\"id\":\"1089\"}],\"tags\":[\"hv_created\"],\"tooltips\":[[\"Longitude\",\"$x{custom}\"],[\"Latitude\",\"$y{custom}\"],[\"Country\",\"@{Country}\"]]},\"id\":\"1014\",\"type\":\"HoverTool\"},{\"attributes\":{\"data\":{\"Country\":[\"Australia\",\"Chile\",\"Hong Kong\",\"Hungary\",\"United States\"],\"Latitude\":{\"__ndarray__\":\"TwAjTaWaTsEkpclHyilOwaOE4YnjakNBHEGTYo/6VkHQ6inoVfRRQQ==\",\"dtype\":\"float64\",\"order\":\"little\",\"shape\":[5]},\"Longitude\":{\"__ndarray__\":\"J1ZI1HoNcEFMQf8IcQBewYwlGUdYPWhBcXR0jsUrQEEnOpaWVltgwQ==\",\"dtype\":\"float64\",\"order\":\"little\",\"shape\":[5]},\"color\":[\"Australia\",\"Chile\",\"Hong Kong\",\"Hungary\",\"United States\"]},\"selected\":{\"id\":\"1082\"},\"selection_policy\":{\"id\":\"1094\"}},\"id\":\"1081\",\"type\":\"ColumnDataSource\"},{\"attributes\":{},\"id\":\"1034\",\"type\":\"SaveTool\"},{\"attributes\":{\"bottom_units\":\"screen\",\"coordinates\":null,\"fill_alpha\":0.5,\"fill_color\":\"lightgrey\",\"group\":null,\"left_units\":\"screen\",\"level\":\"overlay\",\"line_alpha\":1.0,\"line_color\":\"black\",\"line_dash\":[4,4],\"line_width\":2,\"right_units\":\"screen\",\"syncable\":false,\"top_units\":\"screen\"},\"id\":\"1039\",\"type\":\"BoxAnnotation\"},{\"attributes\":{},\"id\":\"1035\",\"type\":\"PanTool\"},{\"attributes\":{},\"id\":\"1094\",\"type\":\"UnionRenderers\"},{\"attributes\":{\"dimension\":\"lat\"},\"id\":\"1051\",\"type\":\"MercatorTicker\"},{\"attributes\":{\"axis_label\":\"y\",\"coordinates\":null,\"formatter\":{\"id\":\"1052\"},\"group\":null,\"major_label_policy\":{\"id\":\"1062\"},\"ticker\":{\"id\":\"1051\"}},\"id\":\"1030\",\"type\":\"LinearAxis\"},{\"attributes\":{\"fill_alpha\":{\"value\":0.2},\"fill_color\":{\"field\":\"color\",\"transform\":{\"id\":\"1080\"}},\"hatch_alpha\":{\"value\":0.2},\"hatch_color\":{\"field\":\"color\",\"transform\":{\"id\":\"1080\"}},\"line_alpha\":{\"value\":0.2},\"line_color\":{\"field\":\"color\",\"transform\":{\"id\":\"1080\"}},\"size\":{\"value\":5.477225575051661},\"x\":{\"field\":\"Longitude\"},\"y\":{\"field\":\"Latitude\"}},\"id\":\"1088\",\"type\":\"Scatter\"},{\"attributes\":{\"fill_color\":{\"field\":\"color\",\"transform\":{\"id\":\"1080\"}},\"hatch_color\":{\"field\":\"color\",\"transform\":{\"id\":\"1080\"}},\"line_color\":{\"field\":\"color\",\"transform\":{\"id\":\"1080\"}},\"size\":{\"value\":5.477225575051661},\"x\":{\"field\":\"Longitude\"},\"y\":{\"field\":\"Latitude\"}},\"id\":\"1086\",\"type\":\"Scatter\"},{\"attributes\":{\"dimension\":\"lon\"},\"id\":\"1049\",\"type\":\"MercatorTicker\"},{\"attributes\":{\"dimension\":\"lat\"},\"id\":\"1052\",\"type\":\"MercatorTickFormatter\"},{\"attributes\":{\"end\":18647293.28140221,\"min_interval\":5,\"reset_end\":18647293.28140221,\"reset_start\":-10390532.71958019,\"start\":-10390532.71958019,\"tags\":[[[\"Longitude\",\"Longitude\",null]]]},\"id\":\"1010\",\"type\":\"Range1d\"},{\"attributes\":{\"source\":{\"id\":\"1081\"}},\"id\":\"1090\",\"type\":\"CDSView\"},{\"attributes\":{\"coordinates\":null,\"group\":null,\"text_color\":\"black\",\"text_font_size\":\"12pt\"},\"id\":\"1018\",\"type\":\"Title\"},{\"attributes\":{\"coordinates\":null,\"group\":null,\"level\":\"glyph\",\"tile_source\":{\"id\":\"1075\"}},\"id\":\"1078\",\"type\":\"TileRenderer\"},{\"attributes\":{\"axis_label\":\"x\",\"coordinates\":null,\"formatter\":{\"id\":\"1050\"},\"group\":null,\"major_label_policy\":{\"id\":\"1055\"},\"ticker\":{\"id\":\"1049\"}},\"id\":\"1026\",\"type\":\"LinearAxis\"},{\"attributes\":{},\"id\":\"1038\",\"type\":\"ResetTool\"},{\"attributes\":{\"dimension\":\"lon\"},\"id\":\"1050\",\"type\":\"MercatorTickFormatter\"},{\"attributes\":{\"factors\":[\"Australia\",\"Chile\",\"Hong Kong\",\"Hungary\",\"United States\"],\"palette\":[\"#1f77b3\",\"#ff7e0e\",\"#2ba02b\",\"#d62628\",\"#9367bc\"]},\"id\":\"1080\",\"type\":\"CategoricalColorMapper\"},{\"attributes\":{\"children\":[{\"id\":\"1005\"},{\"id\":\"1017\"},{\"id\":\"1111\"}],\"margin\":[0,0,0,0],\"name\":\"Row01538\",\"tags\":[\"embedded\"]},\"id\":\"1004\",\"type\":\"Row\"},{\"attributes\":{\"click_policy\":\"mute\",\"coordinates\":null,\"group\":null,\"items\":[{\"id\":\"1098\"}],\"location\":[0,0]},\"id\":\"1097\",\"type\":\"Legend\"},{\"attributes\":{\"fill_color\":{\"field\":\"color\",\"transform\":{\"id\":\"1080\"}},\"hatch_color\":{\"field\":\"color\",\"transform\":{\"id\":\"1080\"}},\"line_color\":{\"field\":\"color\",\"transform\":{\"id\":\"1080\"}},\"size\":{\"value\":5.477225575051661},\"x\":{\"field\":\"Longitude\"},\"y\":{\"field\":\"Latitude\"}},\"id\":\"1084\",\"type\":\"Scatter\"},{\"attributes\":{\"zoom_on_axis\":false},\"id\":\"1036\",\"type\":\"WheelZoomTool\"},{\"attributes\":{},\"id\":\"1055\",\"type\":\"AllLabels\"},{\"attributes\":{\"code\":\"\\n        var projections = Bokeh.require(\\\"core/util/projections\\\");\\n        var x = special_vars.data_x\\n        var y = special_vars.data_y\\n        var coords = projections.wgs84_mercator.invert(x, y)\\n        return \\\"\\\" + (coords[0]).toFixed(4)\\n    \"},\"id\":\"1099\",\"type\":\"CustomJSHover\"},{\"attributes\":{\"active_drag\":{\"id\":\"1035\"},\"active_scroll\":{\"id\":\"1036\"},\"tools\":[{\"id\":\"1014\"},{\"id\":\"1034\"},{\"id\":\"1035\"},{\"id\":\"1036\"},{\"id\":\"1037\"},{\"id\":\"1038\"}]},\"id\":\"1040\",\"type\":\"Toolbar\"},{\"attributes\":{\"label\":{\"field\":\"color\"},\"renderers\":[{\"id\":\"1089\"}]},\"id\":\"1098\",\"type\":\"LegendItem\"},{\"attributes\":{\"fill_alpha\":{\"value\":0.1},\"fill_color\":{\"field\":\"color\",\"transform\":{\"id\":\"1080\"}},\"hatch_alpha\":{\"value\":0.1},\"hatch_color\":{\"field\":\"color\",\"transform\":{\"id\":\"1080\"}},\"line_alpha\":{\"value\":0.1},\"line_color\":{\"field\":\"color\",\"transform\":{\"id\":\"1080\"}},\"size\":{\"value\":5.477225575051661},\"x\":{\"field\":\"Longitude\"},\"y\":{\"field\":\"Latitude\"}},\"id\":\"1085\",\"type\":\"Scatter\"},{\"attributes\":{},\"id\":\"1062\",\"type\":\"AllLabels\"},{\"attributes\":{},\"id\":\"1022\",\"type\":\"LinearScale\"},{\"attributes\":{\"axis\":{\"id\":\"1026\"},\"coordinates\":null,\"grid_line_color\":null,\"group\":null,\"ticker\":null},\"id\":\"1029\",\"type\":\"Grid\"},{\"attributes\":{\"end\":11376853.596663069,\"min_interval\":5,\"reset_end\":11376853.596663069,\"reset_start\":-9364450.689752938,\"start\":-9364450.689752938,\"tags\":[[[\"Latitude\",\"Latitude\",null]]]},\"id\":\"1011\",\"type\":\"Range1d\"},{\"attributes\":{\"coordinates\":null,\"data_source\":{\"id\":\"1081\"},\"glyph\":{\"id\":\"1084\"},\"group\":null,\"hover_glyph\":{\"id\":\"1087\"},\"muted_glyph\":{\"id\":\"1088\"},\"nonselection_glyph\":{\"id\":\"1085\"},\"selection_glyph\":{\"id\":\"1086\"},\"view\":{\"id\":\"1090\"}},\"id\":\"1089\",\"type\":\"GlyphRenderer\"},{\"attributes\":{\"below\":[{\"id\":\"1026\"}],\"center\":[{\"id\":\"1029\"},{\"id\":\"1033\"}],\"frame_height\":500,\"frame_width\":700,\"height\":null,\"left\":[{\"id\":\"1030\"}],\"margin\":[5,5,5,5],\"match_aspect\":true,\"min_border_bottom\":10,\"min_border_left\":10,\"min_border_right\":10,\"min_border_top\":10,\"renderers\":[{\"id\":\"1078\"},{\"id\":\"1089\"}],\"right\":[{\"id\":\"1097\"}],\"sizing_mode\":\"fixed\",\"title\":{\"id\":\"1018\"},\"toolbar\":{\"id\":\"1040\"},\"width\":null,\"x_range\":{\"id\":\"1010\"},\"x_scale\":{\"id\":\"1022\"},\"y_range\":{\"id\":\"1011\"},\"y_scale\":{\"id\":\"1024\"}},\"id\":\"1017\",\"subtype\":\"Figure\",\"type\":\"Plot\"}],\"root_ids\":[\"1004\"]},\"title\":\"Bokeh Application\",\"version\":\"2.4.3\"}};\n",
       "    var render_items = [{\"docid\":\"b26a714b-53e4-4501-b7d1-f0b844a2bfec\",\"root_ids\":[\"1004\"],\"roots\":{\"1004\":\"de134f2b-d191-4f5f-b1ab-e92026b76a90\"}}];\n",
       "    root.Bokeh.embed.embed_items_notebook(docs_json, render_items);\n",
       "    for (const render_item of render_items) {\n",
       "      for (const root_id of render_item.root_ids) {\n",
       "\tconst id_el = document.getElementById(root_id)\n",
       "\tif (id_el.children.length && (id_el.children[0].className === 'bk-root')) {\n",
       "\t  const root_el = id_el.children[0]\n",
       "\t  root_el.id = root_el.id + '-rendered'\n",
       "\t}\n",
       "      }\n",
       "    }\n",
       "  }\n",
       "  if (root.Bokeh !== undefined && root.Bokeh.Panel !== undefined) {\n",
       "    embed_document(root);\n",
       "  } else {\n",
       "    var attempts = 0;\n",
       "    var timer = setInterval(function(root) {\n",
       "      if (root.Bokeh !== undefined && root.Bokeh.Panel !== undefined) {\n",
       "        clearInterval(timer);\n",
       "        embed_document(root);\n",
       "      } else if (document.readyState == \"complete\") {\n",
       "        attempts++;\n",
       "        if (attempts > 200) {\n",
       "          clearInterval(timer);\n",
       "          console.log(\"Bokeh: ERROR: Unable to run BokehJS code because BokehJS library is missing\");\n",
       "        }\n",
       "      }\n",
       "    }, 25, root)\n",
       "  }\n",
       "})(window);</script>"
      ],
      "text/plain": [
       ":Overlay\n",
       "   .Tiles.I  :Tiles   [x,y]\n",
       "   .Points.I :Points   [Longitude,Latitude]   (Country)"
      ]
     },
     "execution_count": 67,
     "metadata": {
      "application/vnd.holoviews_exec.v0+json": {
       "id": "1004"
      }
     },
     "output_type": "execute_result"
    }
   ],
   "source": [
    "%%capture --no-display\n",
    "\n",
    "# Configure the map plot_1\n",
    "map_plot_1 = coordinates_df.hvplot.points(\n",
    "    \"Longitude\",\n",
    "    \"Latitude\",\n",
    "    geo = True,\n",
    "    tiles = \"EsriNatGeo\",\n",
    "    frame_width = 700,\n",
    "    frame_height = 500,\n",
    "    scale = 0.5,\n",
    "    color = \"Country\"\n",
    ")\n",
    "\n",
    "# Display the map plot\n",
    "map_plot_1"
   ]
  },
  {
   "cell_type": "markdown",
   "metadata": {},
   "source": [
    "### Add the 2018 - GDP and Life Expectancy in the hover message for country"
   ]
  },
  {
   "cell_type": "code",
   "execution_count": 68,
   "metadata": {
    "scrolled": true
   },
   "outputs": [
    {
     "data": {
      "text/html": [
       "<div>\n",
       "<style scoped>\n",
       "    .dataframe tbody tr th:only-of-type {\n",
       "        vertical-align: middle;\n",
       "    }\n",
       "\n",
       "    .dataframe tbody tr th {\n",
       "        vertical-align: top;\n",
       "    }\n",
       "\n",
       "    .dataframe thead th {\n",
       "        text-align: right;\n",
       "    }\n",
       "</style>\n",
       "<table border=\"1\" class=\"dataframe\">\n",
       "  <thead>\n",
       "    <tr style=\"text-align: right;\">\n",
       "      <th></th>\n",
       "      <th>Country</th>\n",
       "      <th>Latitude</th>\n",
       "      <th>Longitude</th>\n",
       "      <th>GDP 2018 (Billions)</th>\n",
       "      <th>Year</th>\n",
       "      <th>Life Expectancy</th>\n",
       "    </tr>\n",
       "  </thead>\n",
       "  <tbody>\n",
       "    <tr>\n",
       "      <th>0</th>\n",
       "      <td>Australia</td>\n",
       "      <td>-33.8698</td>\n",
       "      <td>151.208</td>\n",
       "      <td>1428.29</td>\n",
       "      <td>2018.0</td>\n",
       "      <td>83.26</td>\n",
       "    </tr>\n",
       "    <tr>\n",
       "      <th>1</th>\n",
       "      <td>Chile</td>\n",
       "      <td>-33.4378</td>\n",
       "      <td>-70.6505</td>\n",
       "      <td>295.40</td>\n",
       "      <td>2018.0</td>\n",
       "      <td>79.99</td>\n",
       "    </tr>\n",
       "    <tr>\n",
       "      <th>2</th>\n",
       "      <td>Hong Kong</td>\n",
       "      <td>22.2793</td>\n",
       "      <td>114.163</td>\n",
       "      <td>361.73</td>\n",
       "      <td>2018.0</td>\n",
       "      <td>85.05</td>\n",
       "    </tr>\n",
       "    <tr>\n",
       "      <th>3</th>\n",
       "      <td>Hungary</td>\n",
       "      <td>47.498</td>\n",
       "      <td>19.0404</td>\n",
       "      <td>160.56</td>\n",
       "      <td>2018.0</td>\n",
       "      <td>76.20</td>\n",
       "    </tr>\n",
       "    <tr>\n",
       "      <th>4</th>\n",
       "      <td>United States</td>\n",
       "      <td>38.895</td>\n",
       "      <td>-77.0365</td>\n",
       "      <td>20533.06</td>\n",
       "      <td>2018.0</td>\n",
       "      <td>78.88</td>\n",
       "    </tr>\n",
       "  </tbody>\n",
       "</table>\n",
       "</div>"
      ],
      "text/plain": [
       "         Country Latitude Longitude  GDP 2018 (Billions)    Year  \\\n",
       "0      Australia -33.8698   151.208              1428.29  2018.0   \n",
       "1          Chile -33.4378  -70.6505               295.40  2018.0   \n",
       "2      Hong Kong  22.2793   114.163               361.73  2018.0   \n",
       "3        Hungary   47.498   19.0404               160.56  2018.0   \n",
       "4  United States   38.895  -77.0365             20533.06  2018.0   \n",
       "\n",
       "   Life Expectancy  \n",
       "0            83.26  \n",
       "1            79.99  \n",
       "2            85.05  \n",
       "3            76.20  \n",
       "4            78.88  "
      ]
     },
     "execution_count": 68,
     "metadata": {},
     "output_type": "execute_result"
    }
   ],
   "source": [
    "# Merge coordinates_df + life_ex_country_df + gdp_df and create an new df file only 2018\n",
    "gdp_2018 = gdp_df[\"2018\"]\n",
    "life_expectancy_2018 = df.loc[df[\"Year\"]== 2018, [\"Country\", \"Year\", \"Female\", \"Male\", \"Total\"]]\n",
    "\n",
    "temp_df = coordinates_df.merge(gdp_2018,on=[\"Country\"])\n",
    "all_data_2018_df = temp_df.merge(life_expectancy_2018,on=[\"Country\"])\n",
    "all_data_2018_df.rename(columns={\"2018\": \"GDP 2018 (Billions)\", \"Total\": \"Life Expectancy\"}, inplace=True)\n",
    "all_data_2018_df.drop(columns=[\"City\",\"Female\",\"Male\"], inplace=True)\n",
    "\n",
    "all_data_2018_df\n"
   ]
  },
  {
   "cell_type": "code",
   "execution_count": 69,
   "metadata": {},
   "outputs": [
    {
     "data": {},
     "metadata": {},
     "output_type": "display_data"
    },
    {
     "data": {
      "application/vnd.holoviews_exec.v0+json": "",
      "text/html": [
       "<div id='1143'>\n",
       "  <div class=\"bk-root\" id=\"3c6fea9d-c328-4666-bd57-7fb36e60a0a6\" data-root-id=\"1143\"></div>\n",
       "</div>\n",
       "<script type=\"application/javascript\">(function(root) {\n",
       "  function embed_document(root) {\n",
       "    var docs_json = {\"176454ae-ef8e-4cc5-92e1-80fba63f02e3\":{\"defs\":[{\"extends\":null,\"module\":null,\"name\":\"ReactiveHTML1\",\"overrides\":[],\"properties\":[]},{\"extends\":null,\"module\":null,\"name\":\"FlexBox1\",\"overrides\":[],\"properties\":[{\"default\":\"flex-start\",\"kind\":null,\"name\":\"align_content\"},{\"default\":\"flex-start\",\"kind\":null,\"name\":\"align_items\"},{\"default\":\"row\",\"kind\":null,\"name\":\"flex_direction\"},{\"default\":\"wrap\",\"kind\":null,\"name\":\"flex_wrap\"},{\"default\":\"flex-start\",\"kind\":null,\"name\":\"justify_content\"}]},{\"extends\":null,\"module\":null,\"name\":\"GridStack1\",\"overrides\":[],\"properties\":[{\"default\":\"warn\",\"kind\":null,\"name\":\"mode\"},{\"default\":null,\"kind\":null,\"name\":\"ncols\"},{\"default\":null,\"kind\":null,\"name\":\"nrows\"},{\"default\":true,\"kind\":null,\"name\":\"allow_resize\"},{\"default\":true,\"kind\":null,\"name\":\"allow_drag\"},{\"default\":[],\"kind\":null,\"name\":\"state\"}]},{\"extends\":null,\"module\":null,\"name\":\"click1\",\"overrides\":[],\"properties\":[{\"default\":\"\",\"kind\":null,\"name\":\"terminal_output\"},{\"default\":\"\",\"kind\":null,\"name\":\"debug_name\"},{\"default\":0,\"kind\":null,\"name\":\"clears\"}]},{\"extends\":null,\"module\":null,\"name\":\"NotificationAreaBase1\",\"overrides\":[],\"properties\":[{\"default\":\"bottom-right\",\"kind\":null,\"name\":\"position\"},{\"default\":0,\"kind\":null,\"name\":\"_clear\"}]},{\"extends\":null,\"module\":null,\"name\":\"NotificationArea1\",\"overrides\":[],\"properties\":[{\"default\":[],\"kind\":null,\"name\":\"notifications\"},{\"default\":\"bottom-right\",\"kind\":null,\"name\":\"position\"},{\"default\":0,\"kind\":null,\"name\":\"_clear\"},{\"default\":[{\"background\":\"#ffc107\",\"icon\":{\"className\":\"fas fa-exclamation-triangle\",\"color\":\"white\",\"tagName\":\"i\"},\"type\":\"warning\"},{\"background\":\"#007bff\",\"icon\":{\"className\":\"fas fa-info-circle\",\"color\":\"white\",\"tagName\":\"i\"},\"type\":\"info\"}],\"kind\":null,\"name\":\"types\"}]},{\"extends\":null,\"module\":null,\"name\":\"Notification\",\"overrides\":[],\"properties\":[{\"default\":null,\"kind\":null,\"name\":\"background\"},{\"default\":3000,\"kind\":null,\"name\":\"duration\"},{\"default\":null,\"kind\":null,\"name\":\"icon\"},{\"default\":\"\",\"kind\":null,\"name\":\"message\"},{\"default\":null,\"kind\":null,\"name\":\"notification_type\"},{\"default\":false,\"kind\":null,\"name\":\"_destroyed\"}]},{\"extends\":null,\"module\":null,\"name\":\"TemplateActions1\",\"overrides\":[],\"properties\":[{\"default\":0,\"kind\":null,\"name\":\"open_modal\"},{\"default\":0,\"kind\":null,\"name\":\"close_modal\"}]},{\"extends\":null,\"module\":null,\"name\":\"MaterialTemplateActions1\",\"overrides\":[],\"properties\":[{\"default\":0,\"kind\":null,\"name\":\"open_modal\"},{\"default\":0,\"kind\":null,\"name\":\"close_modal\"}]}],\"roots\":{\"references\":[{\"attributes\":{\"bottom_units\":\"screen\",\"coordinates\":null,\"fill_alpha\":0.5,\"fill_color\":\"lightgrey\",\"group\":null,\"left_units\":\"screen\",\"level\":\"overlay\",\"line_alpha\":1.0,\"line_color\":\"black\",\"line_dash\":[4,4],\"line_width\":2,\"right_units\":\"screen\",\"syncable\":false,\"top_units\":\"screen\"},\"id\":\"1178\",\"type\":\"BoxAnnotation\"},{\"attributes\":{\"dimension\":\"lat\"},\"id\":\"1190\",\"type\":\"MercatorTicker\"},{\"attributes\":{\"dimension\":\"lon\"},\"id\":\"1188\",\"type\":\"MercatorTicker\"},{\"attributes\":{\"label\":{\"field\":\"color\"},\"renderers\":[{\"id\":\"1228\"}]},\"id\":\"1237\",\"type\":\"LegendItem\"},{\"attributes\":{},\"id\":\"1233\",\"type\":\"UnionRenderers\"},{\"attributes\":{\"factors\":[\"Australia\",\"Chile\",\"Hong Kong\",\"Hungary\",\"United States\"],\"palette\":[\"#1f77b3\",\"#ff7e0e\",\"#2ba02b\",\"#d62628\",\"#9367bc\"]},\"id\":\"1219\",\"type\":\"CategoricalColorMapper\"},{\"attributes\":{},\"id\":\"1174\",\"type\":\"PanTool\"},{\"attributes\":{\"code\":\"\\n        var projections = Bokeh.require(\\\"core/util/projections\\\");\\n        var x = special_vars.data_x\\n        var y = special_vars.data_y\\n        var coords = projections.wgs84_mercator.invert(x, y)\\n        return \\\"\\\" + (coords[0]).toFixed(4)\\n    \"},\"id\":\"1238\",\"type\":\"CustomJSHover\"},{\"attributes\":{\"fill_alpha\":{\"value\":0.1},\"fill_color\":{\"field\":\"color\",\"transform\":{\"id\":\"1219\"}},\"hatch_alpha\":{\"value\":0.1},\"hatch_color\":{\"field\":\"color\",\"transform\":{\"id\":\"1219\"}},\"line_alpha\":{\"value\":0.1},\"line_color\":{\"field\":\"color\",\"transform\":{\"id\":\"1219\"}},\"size\":{\"value\":5.477225575051661},\"x\":{\"field\":\"Longitude\"},\"y\":{\"field\":\"Latitude\"}},\"id\":\"1224\",\"type\":\"Scatter\"},{\"attributes\":{\"match_aspect\":true,\"overlay\":{\"id\":\"1178\"}},\"id\":\"1176\",\"type\":\"BoxZoomTool\"},{\"attributes\":{\"attribution\":\"&copy; <a href=\\\"http://downloads.esri.com/ArcGISOnline/docs/tou_summary.pdf\\\">Esri</a>, NatGeo, Garmin, HERE, UNEP-WCMC, USGS, NASA, ESA, METI, NRCAN, GEBCO, NOAA, Increment P\",\"url\":\"https://server.arcgisonline.com/ArcGIS/rest/services/NatGeo_World_Map/MapServer/tile/{Z}/{Y}/{X}\"},\"id\":\"1214\",\"type\":\"WMTSTileSource\"},{\"attributes\":{\"coordinates\":null,\"data_source\":{\"id\":\"1220\"},\"glyph\":{\"id\":\"1223\"},\"group\":null,\"hover_glyph\":{\"id\":\"1226\"},\"muted_glyph\":{\"id\":\"1227\"},\"nonselection_glyph\":{\"id\":\"1224\"},\"selection_glyph\":{\"id\":\"1225\"},\"view\":{\"id\":\"1229\"}},\"id\":\"1228\",\"type\":\"GlyphRenderer\"},{\"attributes\":{\"zoom_on_axis\":false},\"id\":\"1175\",\"type\":\"WheelZoomTool\"},{\"attributes\":{},\"id\":\"1173\",\"type\":\"SaveTool\"},{\"attributes\":{\"callback\":null,\"formatters\":{\"$x\":{\"id\":\"1238\"},\"$y\":{\"id\":\"1239\"}},\"renderers\":[{\"id\":\"1228\"}],\"tags\":[\"hv_created\"],\"tooltips\":[[\"Longitude\",\"$x{custom}\"],[\"Latitude\",\"$y{custom}\"],[\"Country\",\"@{Country}\"],[\"Life Expectancy\",\"@{Life_Expectancy}\"],[\"GDP 2018 (Billions)\",\"@{GDP_2018_left_parenthesis_Billions_right_parenthesis}\"]]},\"id\":\"1153\",\"type\":\"HoverTool\"},{\"attributes\":{},\"id\":\"1201\",\"type\":\"AllLabels\"},{\"attributes\":{\"dimension\":\"lat\"},\"id\":\"1191\",\"type\":\"MercatorTickFormatter\"},{\"attributes\":{\"axis_label\":\"y\",\"coordinates\":null,\"formatter\":{\"id\":\"1191\"},\"group\":null,\"major_label_policy\":{\"id\":\"1201\"},\"ticker\":{\"id\":\"1190\"}},\"id\":\"1169\",\"type\":\"LinearAxis\"},{\"attributes\":{\"fill_alpha\":{\"value\":0.2},\"fill_color\":{\"field\":\"color\",\"transform\":{\"id\":\"1219\"}},\"hatch_alpha\":{\"value\":0.2},\"hatch_color\":{\"field\":\"color\",\"transform\":{\"id\":\"1219\"}},\"line_alpha\":{\"value\":0.2},\"line_color\":{\"field\":\"color\",\"transform\":{\"id\":\"1219\"}},\"size\":{\"value\":5.477225575051661},\"x\":{\"field\":\"Longitude\"},\"y\":{\"field\":\"Latitude\"}},\"id\":\"1227\",\"type\":\"Scatter\"},{\"attributes\":{\"axis_label\":\"x\",\"coordinates\":null,\"formatter\":{\"id\":\"1189\"},\"group\":null,\"major_label_policy\":{\"id\":\"1194\"},\"ticker\":{\"id\":\"1188\"}},\"id\":\"1165\",\"type\":\"LinearAxis\"},{\"attributes\":{\"click_policy\":\"mute\",\"coordinates\":null,\"group\":null,\"items\":[{\"id\":\"1237\"}],\"location\":[0,0]},\"id\":\"1236\",\"type\":\"Legend\"},{\"attributes\":{\"fill_color\":{\"field\":\"color\",\"transform\":{\"id\":\"1219\"}},\"hatch_color\":{\"field\":\"color\",\"transform\":{\"id\":\"1219\"}},\"line_color\":{\"field\":\"color\",\"transform\":{\"id\":\"1219\"}},\"size\":{\"value\":5.477225575051661},\"x\":{\"field\":\"Longitude\"},\"y\":{\"field\":\"Latitude\"}},\"id\":\"1226\",\"type\":\"Scatter\"},{\"attributes\":{\"axis\":{\"id\":\"1169\"},\"coordinates\":null,\"dimension\":1,\"grid_line_color\":null,\"group\":null,\"ticker\":null},\"id\":\"1172\",\"type\":\"Grid\"},{\"attributes\":{\"fill_color\":{\"field\":\"color\",\"transform\":{\"id\":\"1219\"}},\"hatch_color\":{\"field\":\"color\",\"transform\":{\"id\":\"1219\"}},\"line_color\":{\"field\":\"color\",\"transform\":{\"id\":\"1219\"}},\"size\":{\"value\":5.477225575051661},\"x\":{\"field\":\"Longitude\"},\"y\":{\"field\":\"Latitude\"}},\"id\":\"1223\",\"type\":\"Scatter\"},{\"attributes\":{},\"id\":\"1194\",\"type\":\"AllLabels\"},{\"attributes\":{},\"id\":\"1221\",\"type\":\"Selection\"},{\"attributes\":{\"margin\":[5,5,5,5],\"name\":\"HSpacer01672\",\"sizing_mode\":\"stretch_width\"},\"id\":\"1250\",\"type\":\"Spacer\"},{\"attributes\":{\"below\":[{\"id\":\"1165\"}],\"center\":[{\"id\":\"1168\"},{\"id\":\"1172\"}],\"frame_height\":500,\"frame_width\":700,\"height\":null,\"left\":[{\"id\":\"1169\"}],\"margin\":[5,5,5,5],\"match_aspect\":true,\"min_border_bottom\":10,\"min_border_left\":10,\"min_border_right\":10,\"min_border_top\":10,\"renderers\":[{\"id\":\"1217\"},{\"id\":\"1228\"}],\"right\":[{\"id\":\"1236\"}],\"sizing_mode\":\"fixed\",\"title\":{\"id\":\"1157\"},\"toolbar\":{\"id\":\"1179\"},\"width\":null,\"x_range\":{\"id\":\"1149\"},\"x_scale\":{\"id\":\"1161\"},\"y_range\":{\"id\":\"1150\"},\"y_scale\":{\"id\":\"1163\"}},\"id\":\"1156\",\"subtype\":\"Figure\",\"type\":\"Plot\"},{\"attributes\":{\"margin\":[5,5,5,5],\"name\":\"HSpacer01671\",\"sizing_mode\":\"stretch_width\"},\"id\":\"1144\",\"type\":\"Spacer\"},{\"attributes\":{\"fill_color\":{\"field\":\"color\",\"transform\":{\"id\":\"1219\"}},\"hatch_color\":{\"field\":\"color\",\"transform\":{\"id\":\"1219\"}},\"line_color\":{\"field\":\"color\",\"transform\":{\"id\":\"1219\"}},\"size\":{\"value\":5.477225575051661},\"x\":{\"field\":\"Longitude\"},\"y\":{\"field\":\"Latitude\"}},\"id\":\"1225\",\"type\":\"Scatter\"},{\"attributes\":{\"children\":[{\"id\":\"1144\"},{\"id\":\"1156\"},{\"id\":\"1250\"}],\"margin\":[0,0,0,0],\"name\":\"Row01667\",\"tags\":[\"embedded\"]},\"id\":\"1143\",\"type\":\"Row\"},{\"attributes\":{\"coordinates\":null,\"group\":null,\"text_color\":\"black\",\"text_font_size\":\"12pt\"},\"id\":\"1157\",\"type\":\"Title\"},{\"attributes\":{\"code\":\"\\n        var projections = Bokeh.require(\\\"core/util/projections\\\");\\n        var x = special_vars.data_x\\n        var y = special_vars.data_y\\n        var coords = projections.wgs84_mercator.invert(x, y)\\n        return \\\"\\\" + (coords[1]).toFixed(4)\\n    \"},\"id\":\"1239\",\"type\":\"CustomJSHover\"},{\"attributes\":{\"coordinates\":null,\"group\":null,\"level\":\"glyph\",\"tile_source\":{\"id\":\"1214\"}},\"id\":\"1217\",\"type\":\"TileRenderer\"},{\"attributes\":{\"active_drag\":{\"id\":\"1174\"},\"active_scroll\":{\"id\":\"1175\"},\"tools\":[{\"id\":\"1153\"},{\"id\":\"1173\"},{\"id\":\"1174\"},{\"id\":\"1175\"},{\"id\":\"1176\"},{\"id\":\"1177\"}]},\"id\":\"1179\",\"type\":\"Toolbar\"},{\"attributes\":{\"axis\":{\"id\":\"1165\"},\"coordinates\":null,\"grid_line_color\":null,\"group\":null,\"ticker\":null},\"id\":\"1168\",\"type\":\"Grid\"},{\"attributes\":{\"source\":{\"id\":\"1220\"}},\"id\":\"1229\",\"type\":\"CDSView\"},{\"attributes\":{\"end\":11376853.596663069,\"min_interval\":5,\"reset_end\":11376853.596663069,\"reset_start\":-9364450.689752938,\"start\":-9364450.689752938,\"tags\":[[[\"Latitude\",\"Latitude\",null]]]},\"id\":\"1150\",\"type\":\"Range1d\"},{\"attributes\":{},\"id\":\"1177\",\"type\":\"ResetTool\"},{\"attributes\":{\"end\":18647293.28140221,\"min_interval\":5,\"reset_end\":18647293.28140221,\"reset_start\":-10390532.71958019,\"start\":-10390532.71958019,\"tags\":[[[\"Longitude\",\"Longitude\",null]]]},\"id\":\"1149\",\"type\":\"Range1d\"},{\"attributes\":{},\"id\":\"1163\",\"type\":\"LinearScale\"},{\"attributes\":{\"dimension\":\"lon\"},\"id\":\"1189\",\"type\":\"MercatorTickFormatter\"},{\"attributes\":{\"data\":{\"Country\":[\"Australia\",\"Chile\",\"Hong Kong\",\"Hungary\",\"United States\"],\"GDP_2018_left_parenthesis_Billions_right_parenthesis\":{\"__ndarray__\":\"XI/C9ShRlkBmZmZmZnZyQEjhehSum3ZAUrgehesRZEBxPQrXQw3UQA==\",\"dtype\":\"float64\",\"order\":\"little\",\"shape\":[5]},\"Latitude\":{\"__ndarray__\":\"TwAjTaWaTsEkpclHyilOwaOE4YnjakNBHEGTYo/6VkHQ6inoVfRRQQ==\",\"dtype\":\"float64\",\"order\":\"little\",\"shape\":[5]},\"Life_Expectancy\":{\"__ndarray__\":\"cT0K16PQVECPwvUoXP9TQDMzMzMzQ1VAzczMzMwMU0C4HoXrUbhTQA==\",\"dtype\":\"float64\",\"order\":\"little\",\"shape\":[5]},\"Longitude\":{\"__ndarray__\":\"J1ZI1HoNcEFMQf8IcQBewYwlGUdYPWhBcXR0jsUrQEEnOpaWVltgwQ==\",\"dtype\":\"float64\",\"order\":\"little\",\"shape\":[5]},\"color\":[\"Australia\",\"Chile\",\"Hong Kong\",\"Hungary\",\"United States\"]},\"selected\":{\"id\":\"1221\"},\"selection_policy\":{\"id\":\"1233\"}},\"id\":\"1220\",\"type\":\"ColumnDataSource\"},{\"attributes\":{},\"id\":\"1161\",\"type\":\"LinearScale\"}],\"root_ids\":[\"1143\"]},\"title\":\"Bokeh Application\",\"version\":\"2.4.3\"}};\n",
       "    var render_items = [{\"docid\":\"176454ae-ef8e-4cc5-92e1-80fba63f02e3\",\"root_ids\":[\"1143\"],\"roots\":{\"1143\":\"3c6fea9d-c328-4666-bd57-7fb36e60a0a6\"}}];\n",
       "    root.Bokeh.embed.embed_items_notebook(docs_json, render_items);\n",
       "    for (const render_item of render_items) {\n",
       "      for (const root_id of render_item.root_ids) {\n",
       "\tconst id_el = document.getElementById(root_id)\n",
       "\tif (id_el.children.length && (id_el.children[0].className === 'bk-root')) {\n",
       "\t  const root_el = id_el.children[0]\n",
       "\t  root_el.id = root_el.id + '-rendered'\n",
       "\t}\n",
       "      }\n",
       "    }\n",
       "  }\n",
       "  if (root.Bokeh !== undefined && root.Bokeh.Panel !== undefined) {\n",
       "    embed_document(root);\n",
       "  } else {\n",
       "    var attempts = 0;\n",
       "    var timer = setInterval(function(root) {\n",
       "      if (root.Bokeh !== undefined && root.Bokeh.Panel !== undefined) {\n",
       "        clearInterval(timer);\n",
       "        embed_document(root);\n",
       "      } else if (document.readyState == \"complete\") {\n",
       "        attempts++;\n",
       "        if (attempts > 200) {\n",
       "          clearInterval(timer);\n",
       "          console.log(\"Bokeh: ERROR: Unable to run BokehJS code because BokehJS library is missing\");\n",
       "        }\n",
       "      }\n",
       "    }, 25, root)\n",
       "  }\n",
       "})(window);</script>"
      ],
      "text/plain": [
       ":Overlay\n",
       "   .Tiles.I  :Tiles   [x,y]\n",
       "   .Points.I :Points   [Longitude,Latitude]   (Country,Life Expectancy,GDP 2018 (Billions))"
      ]
     },
     "execution_count": 69,
     "metadata": {
      "application/vnd.holoviews_exec.v0+json": {
       "id": "1143"
      }
     },
     "output_type": "execute_result"
    }
   ],
   "source": [
    "%%capture --no-display\n",
    "\n",
    "# Configure the map plot_1\n",
    "map_plot_2 = all_data_2018_df.hvplot.points(\n",
    "    \"Longitude\",\n",
    "    \"Latitude\",\n",
    "    geo = True,\n",
    "    tiles = \"EsriNatGeo\",\n",
    "    frame_width = 700,\n",
    "    frame_height = 500,\n",
    "    scale = 0.5,\n",
    "    hover_cols = [\"Life Expectancy\", \"GDP 2018 (Billions)\"],\n",
    "    color = \"Country\"\n",
    ")\n",
    "\n",
    "# Display the map plot\n",
    "map_plot_2"
   ]
  },
  {
   "cell_type": "code",
   "execution_count": null,
   "metadata": {},
   "outputs": [],
   "source": []
  }
 ],
 "metadata": {
  "kernelspec": {
   "display_name": "PythonData",
   "language": "python",
   "name": "pythondata"
  },
  "language_info": {
   "codemirror_mode": {
    "name": "ipython",
    "version": 3
   },
   "file_extension": ".py",
   "mimetype": "text/x-python",
   "name": "python",
   "nbconvert_exporter": "python",
   "pygments_lexer": "ipython3",
   "version": "3.7.7"
  }
 },
 "nbformat": 4,
 "nbformat_minor": 4
}

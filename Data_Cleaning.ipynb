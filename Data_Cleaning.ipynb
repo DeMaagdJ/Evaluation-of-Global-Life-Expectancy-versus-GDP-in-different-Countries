{
 "cells": [
  {
   "cell_type": "code",
   "execution_count": 49,
   "metadata": {},
   "outputs": [],
   "source": [
    "# Dependencies and Setup\n",
    "import pandas as pd\n",
    "import os\n",
    "import matplotlib.pyplot as plt\n",
    "import numpy as np\n",
    "import hvplot.pandas\n",
    "from geopy.geocoders import Nominatim\n",
    "import scipy.stats as st"
   ]
  },
  {
   "cell_type": "code",
   "execution_count": 2,
   "metadata": {},
   "outputs": [],
   "source": [
    "csv = os.path.join(\"Resources/Life_expectancy_data_Proj_1.csv\")\n",
    "GDP = os.path.join(\"Resources/GDPbillions.csv\")\n",
    "csv2= os.path.join(\"Resources/percapita.csv\")"
   ]
  },
  {
   "cell_type": "code",
   "execution_count": 3,
   "metadata": {},
   "outputs": [],
   "source": [
    "df = pd.read_csv(csv)"
   ]
  },
  {
   "cell_type": "code",
   "execution_count": 4,
   "metadata": {},
   "outputs": [
    {
     "data": {
      "text/plain": [
       "Country     object\n",
       "Year       float64\n",
       "Female     float64\n",
       "Male       float64\n",
       "Total      float64\n",
       "dtype: object"
      ]
     },
     "execution_count": 4,
     "metadata": {},
     "output_type": "execute_result"
    }
   ],
   "source": [
    "df.dropna(how='any')\n",
    "df.dtypes"
   ]
  },
  {
   "cell_type": "code",
   "execution_count": 5,
   "metadata": {},
   "outputs": [
    {
     "data": {
      "text/html": [
       "<div>\n",
       "<style scoped>\n",
       "    .dataframe tbody tr th:only-of-type {\n",
       "        vertical-align: middle;\n",
       "    }\n",
       "\n",
       "    .dataframe tbody tr th {\n",
       "        vertical-align: top;\n",
       "    }\n",
       "\n",
       "    .dataframe thead th {\n",
       "        text-align: right;\n",
       "    }\n",
       "</style>\n",
       "<table border=\"1\" class=\"dataframe\">\n",
       "  <thead>\n",
       "    <tr style=\"text-align: right;\">\n",
       "      <th></th>\n",
       "      <th>Country</th>\n",
       "      <th>Year</th>\n",
       "      <th>Female</th>\n",
       "      <th>Male</th>\n",
       "      <th>Total</th>\n",
       "    </tr>\n",
       "  </thead>\n",
       "  <tbody>\n",
       "    <tr>\n",
       "      <th>0</th>\n",
       "      <td>Australia</td>\n",
       "      <td>1921.0</td>\n",
       "      <td>63.18</td>\n",
       "      <td>59.10</td>\n",
       "      <td>60.97</td>\n",
       "    </tr>\n",
       "    <tr>\n",
       "      <th>1</th>\n",
       "      <td>Australia</td>\n",
       "      <td>1922.0</td>\n",
       "      <td>65.11</td>\n",
       "      <td>60.88</td>\n",
       "      <td>62.83</td>\n",
       "    </tr>\n",
       "    <tr>\n",
       "      <th>2</th>\n",
       "      <td>Australia</td>\n",
       "      <td>1923.0</td>\n",
       "      <td>63.66</td>\n",
       "      <td>59.98</td>\n",
       "      <td>61.68</td>\n",
       "    </tr>\n",
       "    <tr>\n",
       "      <th>3</th>\n",
       "      <td>Australia</td>\n",
       "      <td>1924.0</td>\n",
       "      <td>64.51</td>\n",
       "      <td>60.77</td>\n",
       "      <td>62.48</td>\n",
       "    </tr>\n",
       "    <tr>\n",
       "      <th>4</th>\n",
       "      <td>Australia</td>\n",
       "      <td>1925.0</td>\n",
       "      <td>65.38</td>\n",
       "      <td>61.30</td>\n",
       "      <td>63.17</td>\n",
       "    </tr>\n",
       "  </tbody>\n",
       "</table>\n",
       "</div>"
      ],
      "text/plain": [
       "     Country    Year  Female   Male  Total\n",
       "0  Australia  1921.0   63.18  59.10  60.97\n",
       "1  Australia  1922.0   65.11  60.88  62.83\n",
       "2  Australia  1923.0   63.66  59.98  61.68\n",
       "3  Australia  1924.0   64.51  60.77  62.48\n",
       "4  Australia  1925.0   65.38  61.30  63.17"
      ]
     },
     "execution_count": 5,
     "metadata": {},
     "output_type": "execute_result"
    }
   ],
   "source": [
    "df.head()"
   ]
  },
  {
   "cell_type": "code",
   "execution_count": 6,
   "metadata": {},
   "outputs": [
    {
     "data": {
      "text/plain": [
       "Country    414\n",
       "Year       411\n",
       "Female     411\n",
       "Male       411\n",
       "Total      411\n",
       "dtype: int64"
      ]
     },
     "execution_count": 6,
     "metadata": {},
     "output_type": "execute_result"
    }
   ],
   "source": [
    "df.count()"
   ]
  },
  {
   "cell_type": "code",
   "execution_count": 7,
   "metadata": {},
   "outputs": [],
   "source": [
    "life_df1 = df.loc[df[\"Year\"] > 2007, [\"Country\", \"Year\", \"Female\", \"Male\", \"Total\"]]"
   ]
  },
  {
   "cell_type": "code",
   "execution_count": 8,
   "metadata": {},
   "outputs": [],
   "source": [
    "life_df2 = life_df1.loc[life_df1[\"Year\"] < 2019, [\"Country\", \"Year\", \"Female\", \"Male\", \"Total\"]]"
   ]
  },
  {
   "cell_type": "code",
   "execution_count": 9,
   "metadata": {},
   "outputs": [
    {
     "data": {
      "text/html": [
       "<div>\n",
       "<style scoped>\n",
       "    .dataframe tbody tr th:only-of-type {\n",
       "        vertical-align: middle;\n",
       "    }\n",
       "\n",
       "    .dataframe tbody tr th {\n",
       "        vertical-align: top;\n",
       "    }\n",
       "\n",
       "    .dataframe thead th {\n",
       "        text-align: right;\n",
       "    }\n",
       "</style>\n",
       "<table border=\"1\" class=\"dataframe\">\n",
       "  <thead>\n",
       "    <tr style=\"text-align: right;\">\n",
       "      <th></th>\n",
       "      <th>Country</th>\n",
       "      <th>Year</th>\n",
       "      <th>Female</th>\n",
       "      <th>Male</th>\n",
       "      <th>Total</th>\n",
       "    </tr>\n",
       "  </thead>\n",
       "  <tbody>\n",
       "    <tr>\n",
       "      <th>87</th>\n",
       "      <td>Australia</td>\n",
       "      <td>2008.0</td>\n",
       "      <td>83.70</td>\n",
       "      <td>79.14</td>\n",
       "      <td>81.43</td>\n",
       "    </tr>\n",
       "    <tr>\n",
       "      <th>88</th>\n",
       "      <td>Australia</td>\n",
       "      <td>2009.0</td>\n",
       "      <td>84.00</td>\n",
       "      <td>79.44</td>\n",
       "      <td>81.73</td>\n",
       "    </tr>\n",
       "    <tr>\n",
       "      <th>89</th>\n",
       "      <td>Australia</td>\n",
       "      <td>2010.0</td>\n",
       "      <td>84.20</td>\n",
       "      <td>79.81</td>\n",
       "      <td>82.02</td>\n",
       "    </tr>\n",
       "    <tr>\n",
       "      <th>90</th>\n",
       "      <td>Australia</td>\n",
       "      <td>2011.0</td>\n",
       "      <td>84.25</td>\n",
       "      <td>79.92</td>\n",
       "      <td>82.09</td>\n",
       "    </tr>\n",
       "    <tr>\n",
       "      <th>91</th>\n",
       "      <td>Australia</td>\n",
       "      <td>2012.0</td>\n",
       "      <td>84.30</td>\n",
       "      <td>80.27</td>\n",
       "      <td>82.30</td>\n",
       "    </tr>\n",
       "  </tbody>\n",
       "</table>\n",
       "</div>"
      ],
      "text/plain": [
       "      Country    Year  Female   Male  Total\n",
       "87  Australia  2008.0   83.70  79.14  81.43\n",
       "88  Australia  2009.0   84.00  79.44  81.73\n",
       "89  Australia  2010.0   84.20  79.81  82.02\n",
       "90  Australia  2011.0   84.25  79.92  82.09\n",
       "91  Australia  2012.0   84.30  80.27  82.30"
      ]
     },
     "execution_count": 9,
     "metadata": {},
     "output_type": "execute_result"
    }
   ],
   "source": [
    "life_df2.head()"
   ]
  },
  {
   "cell_type": "code",
   "execution_count": 10,
   "metadata": {},
   "outputs": [
    {
     "data": {
      "text/html": [
       "<div>\n",
       "<style scoped>\n",
       "    .dataframe tbody tr th:only-of-type {\n",
       "        vertical-align: middle;\n",
       "    }\n",
       "\n",
       "    .dataframe tbody tr th {\n",
       "        vertical-align: top;\n",
       "    }\n",
       "\n",
       "    .dataframe thead th {\n",
       "        text-align: right;\n",
       "    }\n",
       "</style>\n",
       "<table border=\"1\" class=\"dataframe\">\n",
       "  <thead>\n",
       "    <tr style=\"text-align: right;\">\n",
       "      <th></th>\n",
       "      <th>Australia</th>\n",
       "      <th>Chile</th>\n",
       "      <th>Hong Kong</th>\n",
       "      <th>Hungary</th>\n",
       "      <th>United States</th>\n",
       "    </tr>\n",
       "    <tr>\n",
       "      <th>Year</th>\n",
       "      <th></th>\n",
       "      <th></th>\n",
       "      <th></th>\n",
       "      <th></th>\n",
       "      <th></th>\n",
       "    </tr>\n",
       "  </thead>\n",
       "  <tbody>\n",
       "    <tr>\n",
       "      <th>2008.0</th>\n",
       "      <td>81.43</td>\n",
       "      <td>78.24</td>\n",
       "      <td>82.03</td>\n",
       "      <td>73.96</td>\n",
       "      <td>78.17</td>\n",
       "    </tr>\n",
       "    <tr>\n",
       "      <th>2009.0</th>\n",
       "      <td>81.73</td>\n",
       "      <td>78.40</td>\n",
       "      <td>82.59</td>\n",
       "      <td>74.18</td>\n",
       "      <td>78.52</td>\n",
       "    </tr>\n",
       "    <tr>\n",
       "      <th>2010.0</th>\n",
       "      <td>82.02</td>\n",
       "      <td>78.15</td>\n",
       "      <td>82.80</td>\n",
       "      <td>74.52</td>\n",
       "      <td>78.71</td>\n",
       "    </tr>\n",
       "    <tr>\n",
       "      <th>2011.0</th>\n",
       "      <td>82.09</td>\n",
       "      <td>78.78</td>\n",
       "      <td>83.24</td>\n",
       "      <td>74.91</td>\n",
       "      <td>78.76</td>\n",
       "    </tr>\n",
       "    <tr>\n",
       "      <th>2012.0</th>\n",
       "      <td>82.30</td>\n",
       "      <td>78.79</td>\n",
       "      <td>83.28</td>\n",
       "      <td>75.18</td>\n",
       "      <td>78.87</td>\n",
       "    </tr>\n",
       "    <tr>\n",
       "      <th>2013.0</th>\n",
       "      <td>82.55</td>\n",
       "      <td>78.99</td>\n",
       "      <td>83.84</td>\n",
       "      <td>75.68</td>\n",
       "      <td>78.88</td>\n",
       "    </tr>\n",
       "    <tr>\n",
       "      <th>2014.0</th>\n",
       "      <td>82.52</td>\n",
       "      <td>79.09</td>\n",
       "      <td>83.94</td>\n",
       "      <td>75.85</td>\n",
       "      <td>78.94</td>\n",
       "    </tr>\n",
       "    <tr>\n",
       "      <th>2015.0</th>\n",
       "      <td>82.60</td>\n",
       "      <td>79.30</td>\n",
       "      <td>84.15</td>\n",
       "      <td>75.65</td>\n",
       "      <td>78.79</td>\n",
       "    </tr>\n",
       "    <tr>\n",
       "      <th>2016.0</th>\n",
       "      <td>82.81</td>\n",
       "      <td>79.57</td>\n",
       "      <td>84.31</td>\n",
       "      <td>76.16</td>\n",
       "      <td>78.76</td>\n",
       "    </tr>\n",
       "    <tr>\n",
       "      <th>2017.0</th>\n",
       "      <td>82.72</td>\n",
       "      <td>79.74</td>\n",
       "      <td>84.72</td>\n",
       "      <td>76.00</td>\n",
       "      <td>78.73</td>\n",
       "    </tr>\n",
       "    <tr>\n",
       "      <th>2018.0</th>\n",
       "      <td>83.26</td>\n",
       "      <td>79.99</td>\n",
       "      <td>85.05</td>\n",
       "      <td>76.20</td>\n",
       "      <td>78.88</td>\n",
       "    </tr>\n",
       "  </tbody>\n",
       "</table>\n",
       "</div>"
      ],
      "text/plain": [
       "        Australia  Chile  Hong Kong  Hungary  United States\n",
       "Year                                                       \n",
       "2008.0      81.43  78.24      82.03    73.96          78.17\n",
       "2009.0      81.73  78.40      82.59    74.18          78.52\n",
       "2010.0      82.02  78.15      82.80    74.52          78.71\n",
       "2011.0      82.09  78.78      83.24    74.91          78.76\n",
       "2012.0      82.30  78.79      83.28    75.18          78.87\n",
       "2013.0      82.55  78.99      83.84    75.68          78.88\n",
       "2014.0      82.52  79.09      83.94    75.85          78.94\n",
       "2015.0      82.60  79.30      84.15    75.65          78.79\n",
       "2016.0      82.81  79.57      84.31    76.16          78.76\n",
       "2017.0      82.72  79.74      84.72    76.00          78.73\n",
       "2018.0      83.26  79.99      85.05    76.20          78.88"
      ]
     },
     "execution_count": 10,
     "metadata": {},
     "output_type": "execute_result"
    }
   ],
   "source": [
    "# Use the code provided to separate the data by year\n",
    "Aus = life_df2[(life_df2[\"Country\"] == 'Australia')]\n",
    "Chil = life_df2[(life_df2[\"Country\"] == 'Chile')]\n",
    "HngKng = life_df2[(life_df2[\"Country\"] == 'Hong Kong')]\n",
    "Hun = life_df2[(life_df2[\"Country\"] == 'Hungary')]\n",
    "USA = life_df2[(life_df2[\"Country\"] == 'United States')]\n",
    "\n",
    "\n",
    "#Group by \"Country\" and take the mean of each of life expectancy disregarding gender.\n",
    "mean_life_01 = Aus.groupby([\"Year\"]).mean()[\"Total\"]\n",
    "mean_life_02 = Chil.groupby([\"Year\"]).mean()[\"Total\"]\n",
    "mean_life_03 = HngKng.groupby([\"Year\"]).mean()[\"Total\"]\n",
    "mean_life_04 = Hun.groupby([\"Year\"]).mean()[\"Total\"]\n",
    "mean_life_05 = USA.groupby([\"Year\"]).mean()[\"Total\"]\n",
    "\n",
    "\n",
    "#Data frame of life expectancy by country\n",
    "life_ex_country_df = pd.DataFrame({\"Australia\": mean_life_01,\n",
    "    \"Chile\": mean_life_02,\n",
    "    \"Hong Kong\": mean_life_03,\n",
    "    \"Hungary\": mean_life_04,\n",
    "    \"United States\": mean_life_05                               \n",
    "   })\n",
    "\n",
    "life_ex_country_df\n",
    "\n",
    "\n"
   ]
  },
  {
   "cell_type": "markdown",
   "metadata": {},
   "source": [
    "## Life Expectancy Between 2008-2018"
   ]
  },
  {
   "cell_type": "code",
   "execution_count": 11,
   "metadata": {},
   "outputs": [],
   "source": [
    "\n",
    "y_axis = life_ex_country_df.values.tolist()\n",
    "x_axis = [life_ex_country_df.columns.values.tolist()]"
   ]
  },
  {
   "cell_type": "code",
   "execution_count": 12,
   "metadata": {},
   "outputs": [
    {
     "data": {
      "image/png": "[encoded data removed]",
      "text/plain": [
       "<Figure size 640x480 with 1 Axes>"
      ]
     },
     "metadata": {},
     "output_type": "display_data"
    }
   ],
   "source": [
    "plot = life_ex_country_df.plot.line()"
   ]
  },
  {
   "cell_type": "code",
   "execution_count": 13,
   "metadata": {},
   "outputs": [
    {
     "data": {
      "text/html": [
       "<div>\n",
       "<style scoped>\n",
       "    .dataframe tbody tr th:only-of-type {\n",
       "        vertical-align: middle;\n",
       "    }\n",
       "\n",
       "    .dataframe tbody tr th {\n",
       "        vertical-align: top;\n",
       "    }\n",
       "\n",
       "    .dataframe thead th {\n",
       "        text-align: right;\n",
       "    }\n",
       "</style>\n",
       "<table border=\"1\" class=\"dataframe\">\n",
       "  <thead>\n",
       "    <tr style=\"text-align: right;\">\n",
       "      <th></th>\n",
       "      <th>2008</th>\n",
       "      <th>2009</th>\n",
       "      <th>2010</th>\n",
       "      <th>2011</th>\n",
       "      <th>2012</th>\n",
       "      <th>2013</th>\n",
       "      <th>2014</th>\n",
       "      <th>2015</th>\n",
       "      <th>2016</th>\n",
       "      <th>2017</th>\n",
       "      <th>2018</th>\n",
       "    </tr>\n",
       "    <tr>\n",
       "      <th>Country</th>\n",
       "      <th></th>\n",
       "      <th></th>\n",
       "      <th></th>\n",
       "      <th></th>\n",
       "      <th></th>\n",
       "      <th></th>\n",
       "      <th></th>\n",
       "      <th></th>\n",
       "      <th></th>\n",
       "      <th></th>\n",
       "      <th></th>\n",
       "    </tr>\n",
       "  </thead>\n",
       "  <tbody>\n",
       "    <tr>\n",
       "      <th>Australia</th>\n",
       "      <td>1055.64</td>\n",
       "      <td>928.63</td>\n",
       "      <td>1148.61</td>\n",
       "      <td>1398.41</td>\n",
       "      <td>1546.89</td>\n",
       "      <td>1576.38</td>\n",
       "      <td>1467.55</td>\n",
       "      <td>1350.62</td>\n",
       "      <td>1206.54</td>\n",
       "      <td>1326.52</td>\n",
       "      <td>1428.29</td>\n",
       "    </tr>\n",
       "    <tr>\n",
       "      <th>Chile</th>\n",
       "      <td>179.66</td>\n",
       "      <td>171.41</td>\n",
       "      <td>217.11</td>\n",
       "      <td>251.22</td>\n",
       "      <td>267.18</td>\n",
       "      <td>277.24</td>\n",
       "      <td>259.41</td>\n",
       "      <td>242.50</td>\n",
       "      <td>249.30</td>\n",
       "      <td>276.36</td>\n",
       "      <td>295.40</td>\n",
       "    </tr>\n",
       "    <tr>\n",
       "      <th>Hong Kong</th>\n",
       "      <td>219.28</td>\n",
       "      <td>214.05</td>\n",
       "      <td>228.64</td>\n",
       "      <td>248.51</td>\n",
       "      <td>262.63</td>\n",
       "      <td>275.70</td>\n",
       "      <td>291.46</td>\n",
       "      <td>309.38</td>\n",
       "      <td>320.86</td>\n",
       "      <td>341.27</td>\n",
       "      <td>361.73</td>\n",
       "    </tr>\n",
       "    <tr>\n",
       "      <th>Hungary</th>\n",
       "      <td>158.33</td>\n",
       "      <td>131.07</td>\n",
       "      <td>132.18</td>\n",
       "      <td>141.94</td>\n",
       "      <td>128.81</td>\n",
       "      <td>135.68</td>\n",
       "      <td>141.03</td>\n",
       "      <td>125.17</td>\n",
       "      <td>128.61</td>\n",
       "      <td>143.11</td>\n",
       "      <td>160.56</td>\n",
       "    </tr>\n",
       "    <tr>\n",
       "      <th>United States</th>\n",
       "      <td>14769.86</td>\n",
       "      <td>14478.06</td>\n",
       "      <td>15048.96</td>\n",
       "      <td>15599.73</td>\n",
       "      <td>16253.97</td>\n",
       "      <td>16843.19</td>\n",
       "      <td>17550.68</td>\n",
       "      <td>18206.02</td>\n",
       "      <td>18695.11</td>\n",
       "      <td>19477.34</td>\n",
       "      <td>20533.06</td>\n",
       "    </tr>\n",
       "  </tbody>\n",
       "</table>\n",
       "</div>"
      ],
      "text/plain": [
       "                   2008      2009      2010      2011      2012      2013  \\\n",
       "Country                                                                     \n",
       "Australia       1055.64    928.63   1148.61   1398.41   1546.89   1576.38   \n",
       "Chile            179.66    171.41    217.11    251.22    267.18    277.24   \n",
       "Hong Kong        219.28    214.05    228.64    248.51    262.63    275.70   \n",
       "Hungary          158.33    131.07    132.18    141.94    128.81    135.68   \n",
       "United States  14769.86  14478.06  15048.96  15599.73  16253.97  16843.19   \n",
       "\n",
       "                   2014      2015      2016      2017      2018  \n",
       "Country                                                          \n",
       "Australia       1467.55   1350.62   1206.54   1326.52   1428.29  \n",
       "Chile            259.41    242.50    249.30    276.36    295.40  \n",
       "Hong Kong        291.46    309.38    320.86    341.27    361.73  \n",
       "Hungary          141.03    125.17    128.61    143.11    160.56  \n",
       "United States  17550.68  18206.02  18695.11  19477.34  20533.06  "
      ]
     },
     "execution_count": 13,
     "metadata": {},
     "output_type": "execute_result"
    }
   ],
   "source": [
    "csv1= os.path.join(\"Resources/GDPbillions.csv\")\n",
    "new_df=pd.read_csv(csv1)\n",
    "gdp_df=new_df.set_index('Country')\n",
    "\n",
    "gdp_df\n"
   ]
  },
  {
   "cell_type": "code",
   "execution_count": 50,
   "metadata": {},
   "outputs": [
    {
     "data": {
      "text/plain": [
       "<matplotlib.legend.Legend at 0x7fda384d80a0>"
      ]
     },
     "execution_count": 50,
     "metadata": {},
     "output_type": "execute_result"
    },
    {
     "data": {
      "image/png": "[encoded data removed]",
      "text/plain": [
       "<Figure size 640x480 with 1 Axes>"
      ]
     },
     "metadata": {},
     "output_type": "display_data"
    }
   ],
   "source": [
    "#Plotting average life expectancy and sorting in descending order\n",
    "new_df= life_df2.groupby('Country').mean()['Total']\n",
    "new_df= new_df.to_frame().reset_index()\n",
    "new1_df= new_df.sort_values(['Total'], ascending=[False])\n",
    "new1_df=new1_df.set_index([\"Country\"])\n",
    "ax=new1_df.plot(kind='bar')\n",
    "ax.bar_label(ax.containers[0])\n",
    "ax.set_xlabel('Life expectancy')\n",
    "ax.set_ylabel('Years')\n",
    "ax.legend([])"
   ]
  },
  {
   "cell_type": "markdown",
   "metadata": {},
   "source": [
    "# GDP Between 2008-2018"
   ]
  },
  {
   "cell_type": "code",
   "execution_count": 14,
   "metadata": {},
   "outputs": [
    {
     "data": {
      "image/png": "[encoded data removed]",
      "text/plain": [
       "<Figure size 640x480 with 1 Axes>"
      ]
     },
     "metadata": {},
     "output_type": "display_data"
    },
    {
     "data": {
      "text/plain": [
       "<Figure size 640x480 with 0 Axes>"
      ]
     },
     "metadata": {},
     "output_type": "display_data"
    }
   ],
   "source": [
    "for index, row in gdp_df.iterrows():\n",
    "    plt.plot(row, label=index)\n",
    "    plt.legend()\n",
    "plt.xlabel=(\"Years\")\n",
    "plt.ylabel=('GDP in $Billions')\n",
    "plt.show()\n",
    "plt.tight_layout()"
   ]
  },
  {
   "cell_type": "code",
   "execution_count": null,
   "metadata": {},
   "outputs": [],
   "source": [
    "pcap_df=pd.read_csv(csv2)\n",
    "percap_df =pcap_df.set_index('Country')\n",
    "percap_df"
   ]
  },
  {
   "cell_type": "code",
   "execution_count": 52,
   "metadata": {},
   "outputs": [
    {
     "ename": "NameError",
     "evalue": "name 'percap_df' is not defined",
     "output_type": "error",
     "traceback": [
      "\u001b[0;31m---------------------------------------------------------------------------\u001b[0m",
      "\u001b[0;31mNameError\u001b[0m                                 Traceback (most recent call last)",
      "\u001b[0;32m/var/folders/xw/z2rhr7zj1kvg3zdq580t0_340000gp/T/ipykernel_93268/571242196.py\u001b[0m in \u001b[0;36m<module>\u001b[0;34m\u001b[0m\n\u001b[1;32m      1\u001b[0m \u001b[0;31m#Plotting average GDP over the 10 years\u001b[0m\u001b[0;34m\u001b[0m\u001b[0;34m\u001b[0m\u001b[0m\n\u001b[0;32m----> 2\u001b[0;31m \u001b[0mpercap1_df\u001b[0m\u001b[0;34m=\u001b[0m\u001b[0mpercap_df\u001b[0m\u001b[0;34m.\u001b[0m\u001b[0mtranspose\u001b[0m\u001b[0;34m(\u001b[0m\u001b[0;34m)\u001b[0m\u001b[0;34m\u001b[0m\u001b[0;34m\u001b[0m\u001b[0m\n\u001b[0m\u001b[1;32m      3\u001b[0m \u001b[0maus_gdp\u001b[0m \u001b[0;34m=\u001b[0m \u001b[0mgdp1_df\u001b[0m\u001b[0;34m[\u001b[0m\u001b[0;34m'Australia'\u001b[0m\u001b[0;34m]\u001b[0m\u001b[0;34m.\u001b[0m\u001b[0mmean\u001b[0m\u001b[0;34m(\u001b[0m\u001b[0;34m)\u001b[0m\u001b[0;34m\u001b[0m\u001b[0;34m\u001b[0m\u001b[0m\n\u001b[1;32m      4\u001b[0m \u001b[0mchi_gdp\u001b[0m \u001b[0;34m=\u001b[0m \u001b[0mgdp1_df\u001b[0m\u001b[0;34m[\u001b[0m\u001b[0;34m'Chile'\u001b[0m\u001b[0;34m]\u001b[0m\u001b[0;34m.\u001b[0m\u001b[0mmean\u001b[0m\u001b[0;34m(\u001b[0m\u001b[0;34m)\u001b[0m\u001b[0;34m\u001b[0m\u001b[0;34m\u001b[0m\u001b[0m\n\u001b[1;32m      5\u001b[0m \u001b[0mhon_gdp\u001b[0m \u001b[0;34m=\u001b[0m \u001b[0mgdp1_df\u001b[0m\u001b[0;34m[\u001b[0m\u001b[0;34m'Hong Kong '\u001b[0m\u001b[0;34m]\u001b[0m\u001b[0;34m.\u001b[0m\u001b[0mmean\u001b[0m\u001b[0;34m(\u001b[0m\u001b[0;34m)\u001b[0m\u001b[0;34m\u001b[0m\u001b[0;34m\u001b[0m\u001b[0m\n",
      "\u001b[0;31mNameError\u001b[0m: name 'percap_df' is not defined"
     ]
    }
   ],
   "source": [
    "#Plotting average GDP over the 10 years\n",
    "percap1_df=percap_df.transpose()\n",
    "aus_gdp = gdp1_df['Australia'].mean()\n",
    "chi_gdp = gdp1_df['Chile'].mean()\n",
    "hon_gdp = gdp1_df['Hong Kong '].mean()\n",
    "hun_gdp = gdp1_df['Hungary'].mean()\n",
    "usa_gdp = gdp1_df['United States'].mean()\n",
    "avg_gdp=pd.DataFrame({'Average GDP':[hon_gdp,aus_gdp,chi_gdp,usa_gdp,hun_gdp]},\n",
    "                        index = ['Hong Kong ','Australia','Chile','United states','Hungary'])\n",
    "ax=avg_gdp.plot(kind='bar')\n",
    "ax.bar_label(ax.containers[0])\n",
    "ax.set_xlabel('Average GDP')\n",
    "ax.set_ylabel('Billion $')\n",
    "ax.legend([])"
   ]
  },
  {
   "cell_type": "code",
   "execution_count": null,
   "metadata": {},
   "outputs": [],
   "source": [
    "#Plotting average Percapita Income over the 10 years\n",
    "aus_per = percap1_df['Australia'].mean()\n",
    "chi_per = percap1_df['Chile'].mean()\n",
    "hon_per = percap1_df['Hong Kong '].mean()\n",
    "hun_per = percap1_df['Hungary'].mean()\n",
    "usa_per = percap1_df['United States'].mean()\n",
    "avg_percap=pd.DataFrame({'Average Percapita':[hon_per,aus_per,chi_per,usa_per,hun_per]},\n",
    "                        index = ['Hong Kong ','Australia','Chile','United states','Hungary'])\n",
    "ax=avg_percap.plot(kind='bar')\n",
    "ax.bar_label(ax.containers[0])\n",
    "ax.set_xlabel('Average Percapita Income')\n",
    "ax.set_ylabel('x 1000$')\n",
    "ax.legend([])"
   ]
  },
  {
   "cell_type": "code",
   "execution_count": null,
   "metadata": {},
   "outputs": [],
   "source": [
    "#Plotting male vs female for each country\n",
    "male_df= life_df2.groupby('Country').mean()['Male']\n",
    "female_df= life_df2.groupby('Country').mean()['Female']\n",
    "gender_df= pd.concat([male_df,female_df],axis=1)\n",
    "gender_df = gender_df.sort_values(['Female'], ascending=[False])\n",
    "ax=gender_df.plot.bar()\n",
    "ax.set_ylabel('Life expectancy in Years')"
   ]
  },
  {
   "cell_type": "code",
   "execution_count": null,
   "metadata": {},
   "outputs": [],
   "source": [
    "#Plotting changes in percapita income over the 10 years\n",
    "for index, row in percap_df.iterrows():\n",
    "    plt.plot(row, label=index)\n",
    "    plt.legend()\n",
    "plt.xlabel=(\"Years\")\n",
    "plt.ylabel=('Percapita in K$')\n",
    "plt.show()\n",
    "plt.tight_layout()"
   ]
  },
  {
   "cell_type": "markdown",
   "metadata": {},
   "source": [
    "## Correlation Between Life Expectancy & GDP"
   ]
  },
  {
   "cell_type": "code",
   "execution_count": 15,
   "metadata": {},
   "outputs": [
    {
     "data": {
      "text/html": [
       "<div>\n",
       "<style scoped>\n",
       "    .dataframe tbody tr th:only-of-type {\n",
       "        vertical-align: middle;\n",
       "    }\n",
       "\n",
       "    .dataframe tbody tr th {\n",
       "        vertical-align: top;\n",
       "    }\n",
       "\n",
       "    .dataframe thead th {\n",
       "        text-align: right;\n",
       "    }\n",
       "</style>\n",
       "<table border=\"1\" class=\"dataframe\">\n",
       "  <thead>\n",
       "    <tr style=\"text-align: right;\">\n",
       "      <th></th>\n",
       "      <th>2008</th>\n",
       "      <th>2009</th>\n",
       "      <th>2010</th>\n",
       "      <th>2011</th>\n",
       "      <th>2012</th>\n",
       "      <th>2013</th>\n",
       "      <th>2014</th>\n",
       "      <th>2015</th>\n",
       "      <th>2016</th>\n",
       "      <th>2017</th>\n",
       "      <th>2018</th>\n",
       "    </tr>\n",
       "    <tr>\n",
       "      <th>Country</th>\n",
       "      <th></th>\n",
       "      <th></th>\n",
       "      <th></th>\n",
       "      <th></th>\n",
       "      <th></th>\n",
       "      <th></th>\n",
       "      <th></th>\n",
       "      <th></th>\n",
       "      <th></th>\n",
       "      <th></th>\n",
       "      <th></th>\n",
       "    </tr>\n",
       "  </thead>\n",
       "  <tbody>\n",
       "    <tr>\n",
       "      <th>Australia</th>\n",
       "      <td>81.43</td>\n",
       "      <td>81.73</td>\n",
       "      <td>82.02</td>\n",
       "      <td>82.09</td>\n",
       "      <td>82.30</td>\n",
       "      <td>82.55</td>\n",
       "      <td>82.52</td>\n",
       "      <td>82.60</td>\n",
       "      <td>82.81</td>\n",
       "      <td>82.72</td>\n",
       "      <td>83.26</td>\n",
       "    </tr>\n",
       "    <tr>\n",
       "      <th>Chile</th>\n",
       "      <td>78.24</td>\n",
       "      <td>78.40</td>\n",
       "      <td>78.15</td>\n",
       "      <td>78.78</td>\n",
       "      <td>78.79</td>\n",
       "      <td>78.99</td>\n",
       "      <td>79.09</td>\n",
       "      <td>79.30</td>\n",
       "      <td>79.57</td>\n",
       "      <td>79.74</td>\n",
       "      <td>79.99</td>\n",
       "    </tr>\n",
       "    <tr>\n",
       "      <th>Hong Kong</th>\n",
       "      <td>82.03</td>\n",
       "      <td>82.59</td>\n",
       "      <td>82.80</td>\n",
       "      <td>83.24</td>\n",
       "      <td>83.28</td>\n",
       "      <td>83.84</td>\n",
       "      <td>83.94</td>\n",
       "      <td>84.15</td>\n",
       "      <td>84.31</td>\n",
       "      <td>84.72</td>\n",
       "      <td>85.05</td>\n",
       "    </tr>\n",
       "    <tr>\n",
       "      <th>Hungary</th>\n",
       "      <td>73.96</td>\n",
       "      <td>74.18</td>\n",
       "      <td>74.52</td>\n",
       "      <td>74.91</td>\n",
       "      <td>75.18</td>\n",
       "      <td>75.68</td>\n",
       "      <td>75.85</td>\n",
       "      <td>75.65</td>\n",
       "      <td>76.16</td>\n",
       "      <td>76.00</td>\n",
       "      <td>76.20</td>\n",
       "    </tr>\n",
       "    <tr>\n",
       "      <th>USA</th>\n",
       "      <td>78.17</td>\n",
       "      <td>78.52</td>\n",
       "      <td>78.71</td>\n",
       "      <td>78.76</td>\n",
       "      <td>78.87</td>\n",
       "      <td>78.88</td>\n",
       "      <td>78.94</td>\n",
       "      <td>78.79</td>\n",
       "      <td>78.76</td>\n",
       "      <td>78.73</td>\n",
       "      <td>78.88</td>\n",
       "    </tr>\n",
       "  </tbody>\n",
       "</table>\n",
       "</div>"
      ],
      "text/plain": [
       "            2008   2009   2010   2011   2012   2013   2014   2015   2016  \\\n",
       "Country                                                                    \n",
       "Australia  81.43  81.73  82.02  82.09  82.30  82.55  82.52  82.60  82.81   \n",
       "Chile      78.24  78.40  78.15  78.78  78.79  78.99  79.09  79.30  79.57   \n",
       "Hong Kong  82.03  82.59  82.80  83.24  83.28  83.84  83.94  84.15  84.31   \n",
       "Hungary    73.96  74.18  74.52  74.91  75.18  75.68  75.85  75.65  76.16   \n",
       "USA        78.17  78.52  78.71  78.76  78.87  78.88  78.94  78.79  78.76   \n",
       "\n",
       "            2017   2018  \n",
       "Country                  \n",
       "Australia  82.72  83.26  \n",
       "Chile      79.74  79.99  \n",
       "Hong Kong  84.72  85.05  \n",
       "Hungary    76.00  76.20  \n",
       "USA        78.73  78.88  "
      ]
     },
     "execution_count": 15,
     "metadata": {},
     "output_type": "execute_result"
    }
   ],
   "source": [
    "#Seperate out and group \n",
    "yr2008 = life_df2[(life_df2[\"Year\"] == 2008)]\n",
    "yr2009 = life_df2[(life_df2[\"Year\"] == 2009)]\n",
    "yr2010 = life_df2[(life_df2[\"Year\"] == 2010)]\n",
    "yr2011 = life_df2[(life_df2[\"Year\"] == 2011)]\n",
    "yr2012 = life_df2[(life_df2[\"Year\"] == 2012)]\n",
    "yr2013 = life_df2[(life_df2[\"Year\"] == 2013)]\n",
    "yr2014 = life_df2[(life_df2[\"Year\"] == 2014)]\n",
    "yr2015 = life_df2[(life_df2[\"Year\"] == 2015)]\n",
    "yr2016 = life_df2[(life_df2[\"Year\"] == 2016)]\n",
    "yr2017 = life_df2[(life_df2[\"Year\"] == 2017)]\n",
    "yr2018 = life_df2[(life_df2[\"Year\"] == 2018)]\n",
    "\n",
    "lfe_yr08 = yr2008.groupby([\"Country\"]).first(numeric_only=True)[\"Total\"]\n",
    "lfe_yr09 = yr2009.groupby([\"Country\"]).first(numeric_only=True)[\"Total\"]\n",
    "lfe_yr10 = yr2010.groupby([\"Country\"]).first(numeric_only=True)[\"Total\"]\n",
    "lfe_yr11 = yr2011.groupby([\"Country\"]).first(numeric_only=True)[\"Total\"]\n",
    "lfe_yr12 = yr2012.groupby([\"Country\"]).first(numeric_only=True)[\"Total\"]\n",
    "lfe_yr13 = yr2013.groupby([\"Country\"]).first(numeric_only=True)[\"Total\"]\n",
    "lfe_yr14 = yr2014.groupby([\"Country\"]).first(numeric_only=True)[\"Total\"]\n",
    "lfe_yr15 = yr2015.groupby([\"Country\"]).first(numeric_only=True)[\"Total\"]\n",
    "lfe_yr16 = yr2016.groupby([\"Country\"]).first(numeric_only=True)[\"Total\"]\n",
    "lfe_yr17 = yr2017.groupby([\"Country\"]).first(numeric_only=True)[\"Total\"]\n",
    "lfe_yr18 = yr2018.groupby([\"Country\"]).first(numeric_only=True)[\"Total\"]\n",
    "\n",
    "life_ex_year_df = pd.DataFrame({\"2008\": lfe_yr08,\n",
    "    \"2009\": lfe_yr09,\n",
    "    \"2010\": lfe_yr10,\n",
    "    \"2011\": lfe_yr11,\n",
    "    \"2012\": lfe_yr12,\n",
    "    \"2013\": lfe_yr13,\n",
    "    \"2014\": lfe_yr14,\n",
    "    \"2015\": lfe_yr15,\n",
    "    \"2016\": lfe_yr16,\n",
    "    \"2017\": lfe_yr17,\n",
    "    \"2018\": lfe_yr18\n",
    "   })\n",
    "\n",
    "life_ex_year_df = life_ex_year_df.drop(\"United States\", axis = 0, inplace= False)\n",
    "life_ex_year_df.head()"
   ]
  },
  {
   "cell_type": "code",
   "execution_count": 16,
   "metadata": {},
   "outputs": [],
   "source": [
    "Aus_x = life_ex_year_df.loc[\"Australia\"]\n",
    "Aus_y = gdp_df.loc[\"Australia\"]\n",
    "Chil_x = life_ex_year_df.loc[\"Chile\"]\n",
    "Chil_y = gdp_df.loc[\"Chile\"]\n",
    "HngKng_x = life_ex_year_df.loc[\"Hong Kong\"]\n",
    "HngKng_y = gdp_df.loc[\"Hong Kong\"]\n",
    "Hun_x = life_ex_year_df.loc[\"Hungary\"]\n",
    "Hun_y = gdp_df.loc[\"Hungary\"]\n",
    "USA_x = life_ex_year_df.loc[\"USA\"]\n",
    "USA_y = gdp_df.loc[\"United States\"]"
   ]
  },
  {
   "cell_type": "code",
   "execution_count": 34,
   "metadata": {},
   "outputs": [
    {
     "name": "stdout",
     "output_type": "stream",
     "text": [
      "The r value of Australlia's GDP vs. Life Expectancy is 0.6\n"
     ]
    },
    {
     "data": {
      "image/png": "[encoded data removed]",
      "text/plain": [
       "<Figure size 640x480 with 1 Axes>"
      ]
     },
     "metadata": {},
     "output_type": "display_data"
    }
   ],
   "source": [
    "Aus_scat = plt.scatter(Aus_x, Aus_y, marker = 'o')\n",
    "correlation = st.pearsonr(Aus_x, Aus_y)\n",
    "Aus_slope, Aus_int, Aus_r, Aus_p, Aus_std_err = st.linregress(Aus_x, Aus_y)\n",
    "Aus_linereg = Aus_slope * Aus_x + Aus_int\n",
    "plt.plot(Aus_x, Aus_linereg,\"--\")\n",
    "plt.xlabel='Life Expectancy Years'\n",
    "plt.ylabel='GDP in $Billions'\n",
    "plt.tight_layout()\n",
    "print(f\"The r value of Australlia's GDP vs. Life Expectancy is {round(correlation[0],2)}\")"
   ]
  },
  {
   "cell_type": "code",
   "execution_count": 35,
   "metadata": {},
   "outputs": [
    {
     "name": "stdout",
     "output_type": "stream",
     "text": [
      "The r value of Chile's GDP vs. Life Expectancy is 0.77\n"
     ]
    },
    {
     "data": {
      "image/png": "[encoded data removed]",
      "text/plain": [
       "<Figure size 640x480 with 1 Axes>"
      ]
     },
     "metadata": {},
     "output_type": "display_data"
    }
   ],
   "source": [
    "Chil_scat = plt.scatter(Chil_x, Chil_y, marker = 'o' )\n",
    "correlation = st.pearsonr(Chil_x, Chil_y)\n",
    "plt.xlabel= 'Life Expectancy Years'\n",
    "Chil_slope, Chil_int, Chil_r, Chil_p, Chil_std_err = st.linregress(Chil_x, Chil_y)\n",
    "Chil_linereg = Chil_slope * Chil_x + Chil_int\n",
    "plt.plot(Chil_x, Chil_linereg,\"--\")\n",
    "plt.ylabel= 'GDP in $Billions'\n",
    "plt.tight_layout()\n",
    "print(f\"The r value of Chile's GDP vs. Life Expectancy is {round(correlation[0],2)}\")"
   ]
  },
  {
   "cell_type": "code",
   "execution_count": 36,
   "metadata": {},
   "outputs": [
    {
     "name": "stdout",
     "output_type": "stream",
     "text": [
      "The r value of Hong Kong's GDP vs. Life Expectancy is 0.98\n"
     ]
    },
    {
     "data": {
      "image/png": "[encoded data removed]",
      "text/plain": [
       "<Figure size 640x480 with 1 Axes>"
      ]
     },
     "metadata": {},
     "output_type": "display_data"
    }
   ],
   "source": [
    "HngKng_scat = plt.scatter(HngKng_x, HngKng_y, marker = 'o')\n",
    "correlation = st.pearsonr(HngKng_x, HngKng_y)\n",
    "HngKng_slope, HngKng_int, HngKng_r, HngKng_p, HngKng_std_err = st.linregress(HngKng_x, HngKng_y)\n",
    "HngKng_linereg = HngKng_slope * HngKng_x + HngKng_int\n",
    "plt.plot(HngKng_x, HngKng_linereg,\"--\")\n",
    "plt.xlabel = 'Life Expectancy Years'\n",
    "plt.ylabe = 'GDP in $Billions'\n",
    "plt.tight_layout()\n",
    "print(f\"The r value of Hong Kong's GDP vs. Life Expectancy is {round(correlation[0],2)}\")"
   ]
  },
  {
   "cell_type": "code",
   "execution_count": 37,
   "metadata": {},
   "outputs": [
    {
     "name": "stdout",
     "output_type": "stream",
     "text": [
      "The r value of Hungary's GDP vs. Life Expectancy is -0.03\n"
     ]
    },
    {
     "data": {
      "image/png": "[encoded data removed]",
      "text/plain": [
       "<Figure size 640x480 with 1 Axes>"
      ]
     },
     "metadata": {},
     "output_type": "display_data"
    }
   ],
   "source": [
    "Hun_scat = plt.scatter(Hun_x, Hun_y, marker = 'o')\n",
    "correlation = st.pearsonr(Hun_x, Hun_y)\n",
    "Hun_slope, Hun_int, Hun_r, Hun_p, Hun_std_err = st.linregress(Hun_x, Hun_y)\n",
    "Hun_linereg = Hun_slope * Hun_x + Hun_int\n",
    "plt.plot(Hun_x, Hun_linereg,\"--\")\n",
    "plt.xlabel= 'Life Expectancy Years'\n",
    "plt.ylabel= 'GDP in $Billions'\n",
    "plt.tight_layout()\n",
    "print(f\"The r value of Hungary's GDP vs. Life Expectancy is {round(correlation[0],2)}\")"
   ]
  },
  {
   "cell_type": "code",
   "execution_count": 40,
   "metadata": {},
   "outputs": [
    {
     "name": "stdout",
     "output_type": "stream",
     "text": [
      "The r value of United States' GDP vs. Life Expectancy is 0.55\n"
     ]
    },
    {
     "data": {
      "image/png": "[encoded data removed]",
      "text/plain": [
       "<Figure size 640x480 with 1 Axes>"
      ]
     },
     "metadata": {},
     "output_type": "display_data"
    }
   ],
   "source": [
    "USA_scat= plt.scatter(USA_x, USA_y, marker = 'o')\n",
    "correlation = st.pearsonr(USA_x, USA_y)\n",
    "USA_slope, USA_int, USA_r, USA_p, USA_std_err = st.linregress(USA_x, USA_y)\n",
    "USA_linereg = USA_slope * USA_x + USA_int\n",
    "plt.plot(USA_x, USA_linereg,\"--\")\n",
    "plt.xlabel = 'Life Expectancy Years'\n",
    "plt.ylabel = 'GDP in $Billions'\n",
    "plt.tight_layout()\n",
    "print(f\"The r value of United States' GDP vs. Life Expectancy is {round(correlation[0],2)}\")"
   ]
  },
  {
   "cell_type": "markdown",
   "metadata": {},
   "source": [
    "### Create a map that displays a point for every country "
   ]
  },
  {
   "cell_type": "code",
   "execution_count": 53,
   "metadata": {},
   "outputs": [
    {
     "data": {
      "text/html": [
       "<div>\n",
       "<style scoped>\n",
       "    .dataframe tbody tr th:only-of-type {\n",
       "        vertical-align: middle;\n",
       "    }\n",
       "\n",
       "    .dataframe tbody tr th {\n",
       "        vertical-align: top;\n",
       "    }\n",
       "\n",
       "    .dataframe thead th {\n",
       "        text-align: right;\n",
       "    }\n",
       "</style>\n",
       "<table border=\"1\" class=\"dataframe\">\n",
       "  <thead>\n",
       "    <tr style=\"text-align: right;\">\n",
       "      <th></th>\n",
       "      <th>City</th>\n",
       "      <th>Country</th>\n",
       "      <th>Latitude</th>\n",
       "      <th>Longitude</th>\n",
       "    </tr>\n",
       "  </thead>\n",
       "  <tbody>\n",
       "    <tr>\n",
       "      <th>0</th>\n",
       "      <td>Sydney</td>\n",
       "      <td>Australia</td>\n",
       "      <td>-33.869844</td>\n",
       "      <td>151.208285</td>\n",
       "    </tr>\n",
       "    <tr>\n",
       "      <th>1</th>\n",
       "      <td>Santiago</td>\n",
       "      <td>Chile</td>\n",
       "      <td>-33.437776</td>\n",
       "      <td>-70.65045</td>\n",
       "    </tr>\n",
       "    <tr>\n",
       "      <th>2</th>\n",
       "      <td>Hong Kong</td>\n",
       "      <td>Hong Kong</td>\n",
       "      <td>22.279328</td>\n",
       "      <td>114.162813</td>\n",
       "    </tr>\n",
       "    <tr>\n",
       "      <th>3</th>\n",
       "      <td>Budapeste</td>\n",
       "      <td>Hungary</td>\n",
       "      <td>47.497994</td>\n",
       "      <td>19.040359</td>\n",
       "    </tr>\n",
       "    <tr>\n",
       "      <th>4</th>\n",
       "      <td>Washington DC</td>\n",
       "      <td>United States</td>\n",
       "      <td>38.895037</td>\n",
       "      <td>-77.036543</td>\n",
       "    </tr>\n",
       "  </tbody>\n",
       "</table>\n",
       "</div>"
      ],
      "text/plain": [
       "            City        Country   Latitude   Longitude\n",
       "0         Sydney      Australia -33.869844  151.208285\n",
       "1       Santiago          Chile -33.437776   -70.65045\n",
       "2      Hong Kong      Hong Kong  22.279328  114.162813\n",
       "3      Budapeste        Hungary  47.497994   19.040359\n",
       "4  Washington DC  United States  38.895037  -77.036543"
      ]
     },
     "execution_count": 53,
     "metadata": {},
     "output_type": "execute_result"
    }
   ],
   "source": [
    "# Initialize Nominatim API\n",
    "geolocator = Nominatim(user_agent=\"Data_Cleaning\")\n",
    "\n",
    "# Create a dictionary containing coordinates\n",
    "coordinates = {\n",
    "    \"City\": [\"Sydney\", \"Santiago\", \"Hong Kong\", \"Budapeste\", \"Washington DC\"],\n",
    "    \"Country\": [\"Australia\", \"Chile\", \"Hong Kong\", \"Hungary\", \"United States\"],\n",
    "}\n",
    "\n",
    "# Create a Pandas DataFrame containing coordinates\n",
    "coordinates_df = pd.DataFrame(coordinates)\n",
    "coordinates_df[\"Latitude\"]= \"\"\n",
    "coordinates_df[\"Longitude\"]= \"\"\n",
    "for index, c in coordinates_df.iterrows():\n",
    "    city = c[\"City\"]\n",
    "    country = c[\"Country\"]\n",
    "    location = geolocator.geocode(f\"{city},{country}\")\n",
    "    c[\"Latitude\"] = location.latitude\n",
    "    c[\"Longitude\"] = location.longitude\n",
    "\n",
    "# Display sample data\n",
    "coordinates_df"
   ]
  },
  {
   "cell_type": "code",
   "execution_count": 23,
   "metadata": {
    "scrolled": true
   },
   "outputs": [
    {
     "ename": "ImportError",
     "evalue": "Geographic projection support requires GeoViews and cartopy.",
     "output_type": "error",
     "traceback": [
      "\u001b[0;31m---------------------------------------------------------------------------\u001b[0m",
      "\u001b[0;31mModuleNotFoundError\u001b[0m                       Traceback (most recent call last)",
      "\u001b[0;32m~/opt/anaconda3/lib/python3.9/site-packages/hvplot/util.py\u001b[0m in \u001b[0;36mprocess_crs\u001b[0;34m(crs)\u001b[0m\n\u001b[1;32m    231\u001b[0m     \u001b[0;32mtry\u001b[0m\u001b[0;34m:\u001b[0m\u001b[0;34m\u001b[0m\u001b[0;34m\u001b[0m\u001b[0m\n\u001b[0;32m--> 232\u001b[0;31m         \u001b[0;32mimport\u001b[0m \u001b[0mcartopy\u001b[0m\u001b[0;34m.\u001b[0m\u001b[0mcrs\u001b[0m \u001b[0;32mas\u001b[0m \u001b[0mccrs\u001b[0m\u001b[0;34m\u001b[0m\u001b[0;34m\u001b[0m\u001b[0m\n\u001b[0m\u001b[1;32m    233\u001b[0m         \u001b[0;32mimport\u001b[0m \u001b[0mgeoviews\u001b[0m \u001b[0;32mas\u001b[0m \u001b[0mgv\u001b[0m \u001b[0;31m# noqa\u001b[0m\u001b[0;34m\u001b[0m\u001b[0;34m\u001b[0m\u001b[0m\n",
      "\u001b[0;31mModuleNotFoundError\u001b[0m: No module named 'cartopy'",
      "\nDuring handling of the above exception, another exception occurred:\n",
      "\u001b[0;31mImportError\u001b[0m                               Traceback (most recent call last)",
      "\u001b[0;32m/var/folders/xw/z2rhr7zj1kvg3zdq580t0_340000gp/T/ipykernel_93268/770657668.py\u001b[0m in \u001b[0;36m<module>\u001b[0;34m\u001b[0m\n\u001b[1;32m      1\u001b[0m \u001b[0;31m# Configure the map plot_1\u001b[0m\u001b[0;34m\u001b[0m\u001b[0;34m\u001b[0m\u001b[0m\n\u001b[0;32m----> 2\u001b[0;31m map_plot_1 = coordinates_df.hvplot.points(\n\u001b[0m\u001b[1;32m      3\u001b[0m     \u001b[0;34m\"Longitude\"\u001b[0m\u001b[0;34m,\u001b[0m\u001b[0;34m\u001b[0m\u001b[0;34m\u001b[0m\u001b[0m\n\u001b[1;32m      4\u001b[0m     \u001b[0;34m\"Latitude\"\u001b[0m\u001b[0;34m,\u001b[0m\u001b[0;34m\u001b[0m\u001b[0;34m\u001b[0m\u001b[0m\n\u001b[1;32m      5\u001b[0m     \u001b[0mgeo\u001b[0m \u001b[0;34m=\u001b[0m \u001b[0;32mTrue\u001b[0m\u001b[0;34m,\u001b[0m\u001b[0;34m\u001b[0m\u001b[0;34m\u001b[0m\u001b[0m\n",
      "\u001b[0;32m~/opt/anaconda3/lib/python3.9/site-packages/hvplot/plotting/core.py\u001b[0m in \u001b[0;36mpoints\u001b[0;34m(self, x, y, **kwds)\u001b[0m\n\u001b[1;32m    520\u001b[0m             \u001b[0mThe\u001b[0m \u001b[0mHoloViews\u001b[0m \u001b[0mrepresentation\u001b[0m \u001b[0mof\u001b[0m \u001b[0mthe\u001b[0m \u001b[0mplot\u001b[0m\u001b[0;34m.\u001b[0m\u001b[0;34m\u001b[0m\u001b[0;34m\u001b[0m\u001b[0m\n\u001b[1;32m    521\u001b[0m         \"\"\"\n\u001b[0;32m--> 522\u001b[0;31m         \u001b[0;32mreturn\u001b[0m \u001b[0mself\u001b[0m\u001b[0;34m(\u001b[0m\u001b[0mx\u001b[0m\u001b[0;34m,\u001b[0m \u001b[0my\u001b[0m\u001b[0;34m,\u001b[0m \u001b[0mkind\u001b[0m\u001b[0;34m=\u001b[0m\u001b[0;34m'points'\u001b[0m\u001b[0;34m,\u001b[0m \u001b[0;34m**\u001b[0m\u001b[0mkwds\u001b[0m\u001b[0;34m)\u001b[0m\u001b[0;34m\u001b[0m\u001b[0;34m\u001b[0m\u001b[0m\n\u001b[0m\u001b[1;32m    523\u001b[0m \u001b[0;34m\u001b[0m\u001b[0m\n\u001b[1;32m    524\u001b[0m     \u001b[0;32mdef\u001b[0m \u001b[0mvectorfield\u001b[0m\u001b[0;34m(\u001b[0m\u001b[0mself\u001b[0m\u001b[0;34m,\u001b[0m \u001b[0mx\u001b[0m\u001b[0;34m=\u001b[0m\u001b[0;32mNone\u001b[0m\u001b[0;34m,\u001b[0m \u001b[0my\u001b[0m\u001b[0;34m=\u001b[0m\u001b[0;32mNone\u001b[0m\u001b[0;34m,\u001b[0m \u001b[0mangle\u001b[0m\u001b[0;34m=\u001b[0m\u001b[0;32mNone\u001b[0m\u001b[0;34m,\u001b[0m \u001b[0mmag\u001b[0m\u001b[0;34m=\u001b[0m\u001b[0;32mNone\u001b[0m\u001b[0;34m,\u001b[0m \u001b[0;34m**\u001b[0m\u001b[0mkwds\u001b[0m\u001b[0;34m)\u001b[0m\u001b[0;34m:\u001b[0m\u001b[0;34m\u001b[0m\u001b[0;34m\u001b[0m\u001b[0m\n",
      "\u001b[0;32m~/opt/anaconda3/lib/python3.9/site-packages/hvplot/plotting/core.py\u001b[0m in \u001b[0;36m__call__\u001b[0;34m(self, x, y, kind, **kwds)\u001b[0m\n\u001b[1;32m     80\u001b[0m                 \u001b[0;32mreturn\u001b[0m \u001b[0mpn\u001b[0m\u001b[0;34m.\u001b[0m\u001b[0mpanel\u001b[0m\u001b[0;34m(\u001b[0m\u001b[0mplot\u001b[0m\u001b[0;34m,\u001b[0m \u001b[0;34m**\u001b[0m\u001b[0mpanel_dict\u001b[0m\u001b[0;34m)\u001b[0m\u001b[0;34m\u001b[0m\u001b[0;34m\u001b[0m\u001b[0m\n\u001b[1;32m     81\u001b[0m \u001b[0;34m\u001b[0m\u001b[0m\n\u001b[0;32m---> 82\u001b[0;31m         \u001b[0;32mreturn\u001b[0m \u001b[0mself\u001b[0m\u001b[0;34m.\u001b[0m\u001b[0m_get_converter\u001b[0m\u001b[0;34m(\u001b[0m\u001b[0mx\u001b[0m\u001b[0;34m,\u001b[0m \u001b[0my\u001b[0m\u001b[0;34m,\u001b[0m \u001b[0mkind\u001b[0m\u001b[0;34m,\u001b[0m \u001b[0;34m**\u001b[0m\u001b[0mkwds\u001b[0m\u001b[0;34m)\u001b[0m\u001b[0;34m(\u001b[0m\u001b[0mkind\u001b[0m\u001b[0;34m,\u001b[0m \u001b[0mx\u001b[0m\u001b[0;34m,\u001b[0m \u001b[0my\u001b[0m\u001b[0;34m)\u001b[0m\u001b[0;34m\u001b[0m\u001b[0;34m\u001b[0m\u001b[0m\n\u001b[0m\u001b[1;32m     83\u001b[0m \u001b[0;34m\u001b[0m\u001b[0m\n\u001b[1;32m     84\u001b[0m     \u001b[0;32mdef\u001b[0m \u001b[0m_get_converter\u001b[0m\u001b[0;34m(\u001b[0m\u001b[0mself\u001b[0m\u001b[0;34m,\u001b[0m \u001b[0mx\u001b[0m\u001b[0;34m=\u001b[0m\u001b[0;32mNone\u001b[0m\u001b[0;34m,\u001b[0m \u001b[0my\u001b[0m\u001b[0;34m=\u001b[0m\u001b[0;32mNone\u001b[0m\u001b[0;34m,\u001b[0m \u001b[0mkind\u001b[0m\u001b[0;34m=\u001b[0m\u001b[0;32mNone\u001b[0m\u001b[0;34m,\u001b[0m \u001b[0;34m**\u001b[0m\u001b[0mkwds\u001b[0m\u001b[0;34m)\u001b[0m\u001b[0;34m:\u001b[0m\u001b[0;34m\u001b[0m\u001b[0;34m\u001b[0m\u001b[0m\n",
      "\u001b[0;32m~/opt/anaconda3/lib/python3.9/site-packages/hvplot/plotting/core.py\u001b[0m in \u001b[0;36m_get_converter\u001b[0;34m(self, x, y, kind, **kwds)\u001b[0m\n\u001b[1;32m     87\u001b[0m         \u001b[0my\u001b[0m \u001b[0;34m=\u001b[0m \u001b[0my\u001b[0m \u001b[0;32mor\u001b[0m \u001b[0mparams\u001b[0m\u001b[0;34m.\u001b[0m\u001b[0mpop\u001b[0m\u001b[0;34m(\u001b[0m\u001b[0;34m'y'\u001b[0m\u001b[0;34m,\u001b[0m \u001b[0;32mNone\u001b[0m\u001b[0;34m)\u001b[0m\u001b[0;34m\u001b[0m\u001b[0;34m\u001b[0m\u001b[0m\n\u001b[1;32m     88\u001b[0m         \u001b[0mkind\u001b[0m \u001b[0;34m=\u001b[0m \u001b[0mkind\u001b[0m \u001b[0;32mor\u001b[0m \u001b[0mparams\u001b[0m\u001b[0;34m.\u001b[0m\u001b[0mpop\u001b[0m\u001b[0;34m(\u001b[0m\u001b[0;34m'kind'\u001b[0m\u001b[0;34m,\u001b[0m \u001b[0;32mNone\u001b[0m\u001b[0;34m)\u001b[0m\u001b[0;34m\u001b[0m\u001b[0;34m\u001b[0m\u001b[0m\n\u001b[0;32m---> 89\u001b[0;31m         return HoloViewsConverter(\n\u001b[0m\u001b[1;32m     90\u001b[0m             \u001b[0mself\u001b[0m\u001b[0;34m.\u001b[0m\u001b[0m_data\u001b[0m\u001b[0;34m,\u001b[0m \u001b[0mx\u001b[0m\u001b[0;34m,\u001b[0m \u001b[0my\u001b[0m\u001b[0;34m,\u001b[0m \u001b[0mkind\u001b[0m\u001b[0;34m=\u001b[0m\u001b[0mkind\u001b[0m\u001b[0;34m,\u001b[0m \u001b[0;34m**\u001b[0m\u001b[0mparams\u001b[0m\u001b[0;34m\u001b[0m\u001b[0;34m\u001b[0m\u001b[0m\n\u001b[1;32m     91\u001b[0m         )\n",
      "\u001b[0;32m~/opt/anaconda3/lib/python3.9/site-packages/hvplot/converter.py\u001b[0m in \u001b[0;36m__init__\u001b[0;34m(self, data, x, y, kind, by, use_index, group_label, value_label, backlog, persist, use_dask, crs, fields, groupby, dynamic, grid, legend, rot, title, xlim, ylim, clim, symmetric, logx, logy, loglog, hover, subplots, label, invert, stacked, colorbar, datashade, rasterize, row, col, debug, framewise, aggregator, projection, global_extent, geo, precompute, flip_xaxis, flip_yaxis, dynspread, hover_cols, x_sampling, y_sampling, project, tools, attr_labels, coastline, tiles, sort_date, check_symmetric_max, transforms, stream, cnorm, features, rescale_discrete_levels, **kwds)\u001b[0m\n\u001b[1;32m    386\u001b[0m         \u001b[0mself\u001b[0m\u001b[0;34m.\u001b[0m\u001b[0mdynamic\u001b[0m \u001b[0;34m=\u001b[0m \u001b[0mdynamic\u001b[0m\u001b[0;34m\u001b[0m\u001b[0;34m\u001b[0m\u001b[0m\n\u001b[1;32m    387\u001b[0m         \u001b[0mself\u001b[0m\u001b[0;34m.\u001b[0m\u001b[0mgeo\u001b[0m \u001b[0;34m=\u001b[0m \u001b[0many\u001b[0m\u001b[0;34m(\u001b[0m\u001b[0;34m[\u001b[0m\u001b[0mgeo\u001b[0m\u001b[0;34m,\u001b[0m \u001b[0mcrs\u001b[0m\u001b[0;34m,\u001b[0m \u001b[0mglobal_extent\u001b[0m\u001b[0;34m,\u001b[0m \u001b[0mprojection\u001b[0m\u001b[0;34m,\u001b[0m \u001b[0mproject\u001b[0m\u001b[0;34m,\u001b[0m \u001b[0mcoastline\u001b[0m\u001b[0;34m,\u001b[0m \u001b[0mfeatures\u001b[0m\u001b[0;34m]\u001b[0m\u001b[0;34m)\u001b[0m\u001b[0;34m\u001b[0m\u001b[0;34m\u001b[0m\u001b[0m\n\u001b[0;32m--> 388\u001b[0;31m         \u001b[0mself\u001b[0m\u001b[0;34m.\u001b[0m\u001b[0mcrs\u001b[0m \u001b[0;34m=\u001b[0m \u001b[0mself\u001b[0m\u001b[0;34m.\u001b[0m\u001b[0m_process_crs\u001b[0m\u001b[0;34m(\u001b[0m\u001b[0mdata\u001b[0m\u001b[0;34m,\u001b[0m \u001b[0mcrs\u001b[0m\u001b[0;34m)\u001b[0m \u001b[0;32mif\u001b[0m \u001b[0mself\u001b[0m\u001b[0;34m.\u001b[0m\u001b[0mgeo\u001b[0m \u001b[0;32melse\u001b[0m \u001b[0;32mNone\u001b[0m\u001b[0;34m\u001b[0m\u001b[0;34m\u001b[0m\u001b[0m\n\u001b[0m\u001b[1;32m    389\u001b[0m         \u001b[0mself\u001b[0m\u001b[0;34m.\u001b[0m\u001b[0mproject\u001b[0m \u001b[0;34m=\u001b[0m \u001b[0mproject\u001b[0m\u001b[0;34m\u001b[0m\u001b[0;34m\u001b[0m\u001b[0m\n\u001b[1;32m    390\u001b[0m         \u001b[0mself\u001b[0m\u001b[0;34m.\u001b[0m\u001b[0mcoastline\u001b[0m \u001b[0;34m=\u001b[0m \u001b[0mcoastline\u001b[0m\u001b[0;34m\u001b[0m\u001b[0;34m\u001b[0m\u001b[0m\n",
      "\u001b[0;32m~/opt/anaconda3/lib/python3.9/site-packages/hvplot/converter.py\u001b[0m in \u001b[0;36m_process_crs\u001b[0;34m(self, data, crs)\u001b[0m\n\u001b[1;32m    628\u001b[0m         \u001b[0m_crs\u001b[0m \u001b[0;34m=\u001b[0m \u001b[0mgetattr\u001b[0m\u001b[0;34m(\u001b[0m\u001b[0mdata\u001b[0m\u001b[0;34m,\u001b[0m \u001b[0;34m'attrs'\u001b[0m\u001b[0;34m,\u001b[0m \u001b[0;34m{\u001b[0m\u001b[0;34m}\u001b[0m\u001b[0;34m)\u001b[0m\u001b[0;34m.\u001b[0m\u001b[0mget\u001b[0m\u001b[0;34m(\u001b[0m\u001b[0mcrs\u001b[0m \u001b[0;32mor\u001b[0m \u001b[0;34m'crs'\u001b[0m\u001b[0;34m,\u001b[0m \u001b[0mcrs\u001b[0m\u001b[0;34m)\u001b[0m\u001b[0;34m\u001b[0m\u001b[0;34m\u001b[0m\u001b[0m\n\u001b[1;32m    629\u001b[0m         \u001b[0;32mtry\u001b[0m\u001b[0;34m:\u001b[0m\u001b[0;34m\u001b[0m\u001b[0;34m\u001b[0m\u001b[0m\n\u001b[0;32m--> 630\u001b[0;31m             \u001b[0;32mreturn\u001b[0m \u001b[0mprocess_crs\u001b[0m\u001b[0;34m(\u001b[0m\u001b[0m_crs\u001b[0m\u001b[0;34m)\u001b[0m\u001b[0;34m\u001b[0m\u001b[0;34m\u001b[0m\u001b[0m\n\u001b[0m\u001b[1;32m    631\u001b[0m         \u001b[0;32mexcept\u001b[0m \u001b[0mValueError\u001b[0m\u001b[0;34m:\u001b[0m\u001b[0;34m\u001b[0m\u001b[0;34m\u001b[0m\u001b[0m\n\u001b[1;32m    632\u001b[0m             \u001b[0;31m# only raise error if crs was specified in kwargs\u001b[0m\u001b[0;34m\u001b[0m\u001b[0;34m\u001b[0m\u001b[0m\n",
      "\u001b[0;32m~/opt/anaconda3/lib/python3.9/site-packages/hvplot/util.py\u001b[0m in \u001b[0;36mprocess_crs\u001b[0;34m(crs)\u001b[0m\n\u001b[1;32m    234\u001b[0m         \u001b[0;32mimport\u001b[0m \u001b[0mpyproj\u001b[0m\u001b[0;34m\u001b[0m\u001b[0;34m\u001b[0m\u001b[0m\n\u001b[1;32m    235\u001b[0m     \u001b[0;32mexcept\u001b[0m \u001b[0mImportError\u001b[0m\u001b[0;34m:\u001b[0m\u001b[0;34m\u001b[0m\u001b[0;34m\u001b[0m\u001b[0m\n\u001b[0;32m--> 236\u001b[0;31m         \u001b[0;32mraise\u001b[0m \u001b[0mImportError\u001b[0m\u001b[0;34m(\u001b[0m\u001b[0;34m'Geographic projection support requires GeoViews and cartopy.'\u001b[0m\u001b[0;34m)\u001b[0m\u001b[0;34m\u001b[0m\u001b[0;34m\u001b[0m\u001b[0m\n\u001b[0m\u001b[1;32m    237\u001b[0m \u001b[0;34m\u001b[0m\u001b[0m\n\u001b[1;32m    238\u001b[0m     \u001b[0;32mif\u001b[0m \u001b[0mcrs\u001b[0m \u001b[0;32mis\u001b[0m \u001b[0;32mNone\u001b[0m\u001b[0;34m:\u001b[0m\u001b[0;34m\u001b[0m\u001b[0;34m\u001b[0m\u001b[0m\n",
      "\u001b[0;31mImportError\u001b[0m: Geographic projection support requires GeoViews and cartopy."
     ]
    }
   ],
   "source": [
    "%%capture --no-display\n",
    "\n",
    "# Configure the map plot_1\n",
    "map_plot_1 = coordinates_df.hvplot.points(\n",
    "    \"Longitude\",\n",
    "    \"Latitude\",\n",
    "    geo = True,\n",
    "    tiles = \"EsriNatGeo\",\n",
    "    frame_width = 700,\n",
    "    frame_height = 500,\n",
    "    scale = 0.5,\n",
    "    color = \"Country\"\n",
    ")\n",
    "\n",
    "# Display the map plot\n",
    "map_plot_1"
   ]
  },
  {
   "cell_type": "markdown",
   "metadata": {},
   "source": [
    "### Add the 2018 - GDP and Life Expectancy in the hover message for country"
   ]
  },
  {
   "cell_type": "code",
   "execution_count": 24,
   "metadata": {
    "scrolled": true
   },
   "outputs": [
    {
     "data": {
      "text/html": [
       "<div>\n",
       "<style scoped>\n",
       "    .dataframe tbody tr th:only-of-type {\n",
       "        vertical-align: middle;\n",
       "    }\n",
       "\n",
       "    .dataframe tbody tr th {\n",
       "        vertical-align: top;\n",
       "    }\n",
       "\n",
       "    .dataframe thead th {\n",
       "        text-align: right;\n",
       "    }\n",
       "</style>\n",
       "<table border=\"1\" class=\"dataframe\">\n",
       "  <thead>\n",
       "    <tr style=\"text-align: right;\">\n",
       "      <th></th>\n",
       "      <th>Country</th>\n",
       "      <th>Latitude</th>\n",
       "      <th>Longitude</th>\n",
       "      <th>GDP 2018 (Billions)</th>\n",
       "      <th>Year</th>\n",
       "      <th>Life Expectancy</th>\n",
       "    </tr>\n",
       "  </thead>\n",
       "  <tbody>\n",
       "    <tr>\n",
       "      <th>0</th>\n",
       "      <td>Australia</td>\n",
       "      <td>-33.869844</td>\n",
       "      <td>151.208285</td>\n",
       "      <td>1428.29</td>\n",
       "      <td>2018.0</td>\n",
       "      <td>83.26</td>\n",
       "    </tr>\n",
       "    <tr>\n",
       "      <th>1</th>\n",
       "      <td>Chile</td>\n",
       "      <td>-33.437776</td>\n",
       "      <td>-70.65045</td>\n",
       "      <td>295.40</td>\n",
       "      <td>2018.0</td>\n",
       "      <td>79.99</td>\n",
       "    </tr>\n",
       "    <tr>\n",
       "      <th>2</th>\n",
       "      <td>Hong Kong</td>\n",
       "      <td>22.279328</td>\n",
       "      <td>114.162813</td>\n",
       "      <td>361.73</td>\n",
       "      <td>2018.0</td>\n",
       "      <td>85.05</td>\n",
       "    </tr>\n",
       "    <tr>\n",
       "      <th>3</th>\n",
       "      <td>Hungary</td>\n",
       "      <td>47.497994</td>\n",
       "      <td>19.040359</td>\n",
       "      <td>160.56</td>\n",
       "      <td>2018.0</td>\n",
       "      <td>76.20</td>\n",
       "    </tr>\n",
       "    <tr>\n",
       "      <th>4</th>\n",
       "      <td>United States</td>\n",
       "      <td>38.895037</td>\n",
       "      <td>-77.036543</td>\n",
       "      <td>20533.06</td>\n",
       "      <td>2018.0</td>\n",
       "      <td>78.88</td>\n",
       "    </tr>\n",
       "  </tbody>\n",
       "</table>\n",
       "</div>"
      ],
      "text/plain": [
       "         Country   Latitude   Longitude  GDP 2018 (Billions)    Year  \\\n",
       "0      Australia -33.869844  151.208285              1428.29  2018.0   \n",
       "1          Chile -33.437776   -70.65045               295.40  2018.0   \n",
       "2      Hong Kong  22.279328  114.162813               361.73  2018.0   \n",
       "3        Hungary  47.497994   19.040359               160.56  2018.0   \n",
       "4  United States  38.895037  -77.036543             20533.06  2018.0   \n",
       "\n",
       "   Life Expectancy  \n",
       "0            83.26  \n",
       "1            79.99  \n",
       "2            85.05  \n",
       "3            76.20  \n",
       "4            78.88  "
      ]
     },
     "execution_count": 24,
     "metadata": {},
     "output_type": "execute_result"
    }
   ],
   "source": [
    "# Merge coordinates_df + life_ex_country_df + gdp_df and create an new df file only 2018\n",
    "gdp_2018 = gdp_df[\"2018\"]\n",
    "life_expectancy_2018 = df.loc[df[\"Year\"]== 2018, [\"Country\", \"Year\", \"Female\", \"Male\", \"Total\"]]\n",
    "\n",
    "temp_df = coordinates_df.merge(gdp_2018,on=[\"Country\"])\n",
    "all_data_2018_df = temp_df.merge(life_expectancy_2018,on=[\"Country\"])\n",
    "all_data_2018_df.rename(columns={\"2018\": \"GDP 2018 (Billions)\", \"Total\": \"Life Expectancy\"}, inplace=True)\n",
    "all_data_2018_df.drop(columns=[\"City\",\"Female\",\"Male\"], inplace=True)\n",
    "\n",
    "all_data_2018_df\n"
   ]
  },
  {
   "cell_type": "code",
   "execution_count": 25,
   "metadata": {
    "scrolled": true
   },
   "outputs": [
    {
     "ename": "ImportError",
     "evalue": "Geographic projection support requires GeoViews and cartopy.",
     "output_type": "error",
     "traceback": [
      "\u001b[0;31m---------------------------------------------------------------------------\u001b[0m",
      "\u001b[0;31mModuleNotFoundError\u001b[0m                       Traceback (most recent call last)",
      "\u001b[0;32m~/opt/anaconda3/lib/python3.9/site-packages/hvplot/util.py\u001b[0m in \u001b[0;36mprocess_crs\u001b[0;34m(crs)\u001b[0m\n\u001b[1;32m    231\u001b[0m     \u001b[0;32mtry\u001b[0m\u001b[0;34m:\u001b[0m\u001b[0;34m\u001b[0m\u001b[0;34m\u001b[0m\u001b[0m\n\u001b[0;32m--> 232\u001b[0;31m         \u001b[0;32mimport\u001b[0m \u001b[0mcartopy\u001b[0m\u001b[0;34m.\u001b[0m\u001b[0mcrs\u001b[0m \u001b[0;32mas\u001b[0m \u001b[0mccrs\u001b[0m\u001b[0;34m\u001b[0m\u001b[0;34m\u001b[0m\u001b[0m\n\u001b[0m\u001b[1;32m    233\u001b[0m         \u001b[0;32mimport\u001b[0m \u001b[0mgeoviews\u001b[0m \u001b[0;32mas\u001b[0m \u001b[0mgv\u001b[0m \u001b[0;31m# noqa\u001b[0m\u001b[0;34m\u001b[0m\u001b[0;34m\u001b[0m\u001b[0m\n",
      "\u001b[0;31mModuleNotFoundError\u001b[0m: No module named 'cartopy'",
      "\nDuring handling of the above exception, another exception occurred:\n",
      "\u001b[0;31mImportError\u001b[0m                               Traceback (most recent call last)",
      "\u001b[0;32m/var/folders/xw/z2rhr7zj1kvg3zdq580t0_340000gp/T/ipykernel_93268/264929872.py\u001b[0m in \u001b[0;36m<module>\u001b[0;34m\u001b[0m\n\u001b[1;32m      1\u001b[0m \u001b[0;31m# Configure the map plot_1\u001b[0m\u001b[0;34m\u001b[0m\u001b[0;34m\u001b[0m\u001b[0m\n\u001b[0;32m----> 2\u001b[0;31m map_plot_2 = all_data_2018_df.hvplot.points(\n\u001b[0m\u001b[1;32m      3\u001b[0m     \u001b[0;34m\"Longitude\"\u001b[0m\u001b[0;34m,\u001b[0m\u001b[0;34m\u001b[0m\u001b[0;34m\u001b[0m\u001b[0m\n\u001b[1;32m      4\u001b[0m     \u001b[0;34m\"Latitude\"\u001b[0m\u001b[0;34m,\u001b[0m\u001b[0;34m\u001b[0m\u001b[0;34m\u001b[0m\u001b[0m\n\u001b[1;32m      5\u001b[0m     \u001b[0mgeo\u001b[0m \u001b[0;34m=\u001b[0m \u001b[0;32mTrue\u001b[0m\u001b[0;34m,\u001b[0m\u001b[0;34m\u001b[0m\u001b[0;34m\u001b[0m\u001b[0m\n",
      "\u001b[0;32m~/opt/anaconda3/lib/python3.9/site-packages/hvplot/plotting/core.py\u001b[0m in \u001b[0;36mpoints\u001b[0;34m(self, x, y, **kwds)\u001b[0m\n\u001b[1;32m    520\u001b[0m             \u001b[0mThe\u001b[0m \u001b[0mHoloViews\u001b[0m \u001b[0mrepresentation\u001b[0m \u001b[0mof\u001b[0m \u001b[0mthe\u001b[0m \u001b[0mplot\u001b[0m\u001b[0;34m.\u001b[0m\u001b[0;34m\u001b[0m\u001b[0;34m\u001b[0m\u001b[0m\n\u001b[1;32m    521\u001b[0m         \"\"\"\n\u001b[0;32m--> 522\u001b[0;31m         \u001b[0;32mreturn\u001b[0m \u001b[0mself\u001b[0m\u001b[0;34m(\u001b[0m\u001b[0mx\u001b[0m\u001b[0;34m,\u001b[0m \u001b[0my\u001b[0m\u001b[0;34m,\u001b[0m \u001b[0mkind\u001b[0m\u001b[0;34m=\u001b[0m\u001b[0;34m'points'\u001b[0m\u001b[0;34m,\u001b[0m \u001b[0;34m**\u001b[0m\u001b[0mkwds\u001b[0m\u001b[0;34m)\u001b[0m\u001b[0;34m\u001b[0m\u001b[0;34m\u001b[0m\u001b[0m\n\u001b[0m\u001b[1;32m    523\u001b[0m \u001b[0;34m\u001b[0m\u001b[0m\n\u001b[1;32m    524\u001b[0m     \u001b[0;32mdef\u001b[0m \u001b[0mvectorfield\u001b[0m\u001b[0;34m(\u001b[0m\u001b[0mself\u001b[0m\u001b[0;34m,\u001b[0m \u001b[0mx\u001b[0m\u001b[0;34m=\u001b[0m\u001b[0;32mNone\u001b[0m\u001b[0;34m,\u001b[0m \u001b[0my\u001b[0m\u001b[0;34m=\u001b[0m\u001b[0;32mNone\u001b[0m\u001b[0;34m,\u001b[0m \u001b[0mangle\u001b[0m\u001b[0;34m=\u001b[0m\u001b[0;32mNone\u001b[0m\u001b[0;34m,\u001b[0m \u001b[0mmag\u001b[0m\u001b[0;34m=\u001b[0m\u001b[0;32mNone\u001b[0m\u001b[0;34m,\u001b[0m \u001b[0;34m**\u001b[0m\u001b[0mkwds\u001b[0m\u001b[0;34m)\u001b[0m\u001b[0;34m:\u001b[0m\u001b[0;34m\u001b[0m\u001b[0;34m\u001b[0m\u001b[0m\n",
      "\u001b[0;32m~/opt/anaconda3/lib/python3.9/site-packages/hvplot/plotting/core.py\u001b[0m in \u001b[0;36m__call__\u001b[0;34m(self, x, y, kind, **kwds)\u001b[0m\n\u001b[1;32m     80\u001b[0m                 \u001b[0;32mreturn\u001b[0m \u001b[0mpn\u001b[0m\u001b[0;34m.\u001b[0m\u001b[0mpanel\u001b[0m\u001b[0;34m(\u001b[0m\u001b[0mplot\u001b[0m\u001b[0;34m,\u001b[0m \u001b[0;34m**\u001b[0m\u001b[0mpanel_dict\u001b[0m\u001b[0;34m)\u001b[0m\u001b[0;34m\u001b[0m\u001b[0;34m\u001b[0m\u001b[0m\n\u001b[1;32m     81\u001b[0m \u001b[0;34m\u001b[0m\u001b[0m\n\u001b[0;32m---> 82\u001b[0;31m         \u001b[0;32mreturn\u001b[0m \u001b[0mself\u001b[0m\u001b[0;34m.\u001b[0m\u001b[0m_get_converter\u001b[0m\u001b[0;34m(\u001b[0m\u001b[0mx\u001b[0m\u001b[0;34m,\u001b[0m \u001b[0my\u001b[0m\u001b[0;34m,\u001b[0m \u001b[0mkind\u001b[0m\u001b[0;34m,\u001b[0m \u001b[0;34m**\u001b[0m\u001b[0mkwds\u001b[0m\u001b[0;34m)\u001b[0m\u001b[0;34m(\u001b[0m\u001b[0mkind\u001b[0m\u001b[0;34m,\u001b[0m \u001b[0mx\u001b[0m\u001b[0;34m,\u001b[0m \u001b[0my\u001b[0m\u001b[0;34m)\u001b[0m\u001b[0;34m\u001b[0m\u001b[0;34m\u001b[0m\u001b[0m\n\u001b[0m\u001b[1;32m     83\u001b[0m \u001b[0;34m\u001b[0m\u001b[0m\n\u001b[1;32m     84\u001b[0m     \u001b[0;32mdef\u001b[0m \u001b[0m_get_converter\u001b[0m\u001b[0;34m(\u001b[0m\u001b[0mself\u001b[0m\u001b[0;34m,\u001b[0m \u001b[0mx\u001b[0m\u001b[0;34m=\u001b[0m\u001b[0;32mNone\u001b[0m\u001b[0;34m,\u001b[0m \u001b[0my\u001b[0m\u001b[0;34m=\u001b[0m\u001b[0;32mNone\u001b[0m\u001b[0;34m,\u001b[0m \u001b[0mkind\u001b[0m\u001b[0;34m=\u001b[0m\u001b[0;32mNone\u001b[0m\u001b[0;34m,\u001b[0m \u001b[0;34m**\u001b[0m\u001b[0mkwds\u001b[0m\u001b[0;34m)\u001b[0m\u001b[0;34m:\u001b[0m\u001b[0;34m\u001b[0m\u001b[0;34m\u001b[0m\u001b[0m\n",
      "\u001b[0;32m~/opt/anaconda3/lib/python3.9/site-packages/hvplot/plotting/core.py\u001b[0m in \u001b[0;36m_get_converter\u001b[0;34m(self, x, y, kind, **kwds)\u001b[0m\n\u001b[1;32m     87\u001b[0m         \u001b[0my\u001b[0m \u001b[0;34m=\u001b[0m \u001b[0my\u001b[0m \u001b[0;32mor\u001b[0m \u001b[0mparams\u001b[0m\u001b[0;34m.\u001b[0m\u001b[0mpop\u001b[0m\u001b[0;34m(\u001b[0m\u001b[0;34m'y'\u001b[0m\u001b[0;34m,\u001b[0m \u001b[0;32mNone\u001b[0m\u001b[0;34m)\u001b[0m\u001b[0;34m\u001b[0m\u001b[0;34m\u001b[0m\u001b[0m\n\u001b[1;32m     88\u001b[0m         \u001b[0mkind\u001b[0m \u001b[0;34m=\u001b[0m \u001b[0mkind\u001b[0m \u001b[0;32mor\u001b[0m \u001b[0mparams\u001b[0m\u001b[0;34m.\u001b[0m\u001b[0mpop\u001b[0m\u001b[0;34m(\u001b[0m\u001b[0;34m'kind'\u001b[0m\u001b[0;34m,\u001b[0m \u001b[0;32mNone\u001b[0m\u001b[0;34m)\u001b[0m\u001b[0;34m\u001b[0m\u001b[0;34m\u001b[0m\u001b[0m\n\u001b[0;32m---> 89\u001b[0;31m         return HoloViewsConverter(\n\u001b[0m\u001b[1;32m     90\u001b[0m             \u001b[0mself\u001b[0m\u001b[0;34m.\u001b[0m\u001b[0m_data\u001b[0m\u001b[0;34m,\u001b[0m \u001b[0mx\u001b[0m\u001b[0;34m,\u001b[0m \u001b[0my\u001b[0m\u001b[0;34m,\u001b[0m \u001b[0mkind\u001b[0m\u001b[0;34m=\u001b[0m\u001b[0mkind\u001b[0m\u001b[0;34m,\u001b[0m \u001b[0;34m**\u001b[0m\u001b[0mparams\u001b[0m\u001b[0;34m\u001b[0m\u001b[0;34m\u001b[0m\u001b[0m\n\u001b[1;32m     91\u001b[0m         )\n",
      "\u001b[0;32m~/opt/anaconda3/lib/python3.9/site-packages/hvplot/converter.py\u001b[0m in \u001b[0;36m__init__\u001b[0;34m(self, data, x, y, kind, by, use_index, group_label, value_label, backlog, persist, use_dask, crs, fields, groupby, dynamic, grid, legend, rot, title, xlim, ylim, clim, symmetric, logx, logy, loglog, hover, subplots, label, invert, stacked, colorbar, datashade, rasterize, row, col, debug, framewise, aggregator, projection, global_extent, geo, precompute, flip_xaxis, flip_yaxis, dynspread, hover_cols, x_sampling, y_sampling, project, tools, attr_labels, coastline, tiles, sort_date, check_symmetric_max, transforms, stream, cnorm, features, rescale_discrete_levels, **kwds)\u001b[0m\n\u001b[1;32m    386\u001b[0m         \u001b[0mself\u001b[0m\u001b[0;34m.\u001b[0m\u001b[0mdynamic\u001b[0m \u001b[0;34m=\u001b[0m \u001b[0mdynamic\u001b[0m\u001b[0;34m\u001b[0m\u001b[0;34m\u001b[0m\u001b[0m\n\u001b[1;32m    387\u001b[0m         \u001b[0mself\u001b[0m\u001b[0;34m.\u001b[0m\u001b[0mgeo\u001b[0m \u001b[0;34m=\u001b[0m \u001b[0many\u001b[0m\u001b[0;34m(\u001b[0m\u001b[0;34m[\u001b[0m\u001b[0mgeo\u001b[0m\u001b[0;34m,\u001b[0m \u001b[0mcrs\u001b[0m\u001b[0;34m,\u001b[0m \u001b[0mglobal_extent\u001b[0m\u001b[0;34m,\u001b[0m \u001b[0mprojection\u001b[0m\u001b[0;34m,\u001b[0m \u001b[0mproject\u001b[0m\u001b[0;34m,\u001b[0m \u001b[0mcoastline\u001b[0m\u001b[0;34m,\u001b[0m \u001b[0mfeatures\u001b[0m\u001b[0;34m]\u001b[0m\u001b[0;34m)\u001b[0m\u001b[0;34m\u001b[0m\u001b[0;34m\u001b[0m\u001b[0m\n\u001b[0;32m--> 388\u001b[0;31m         \u001b[0mself\u001b[0m\u001b[0;34m.\u001b[0m\u001b[0mcrs\u001b[0m \u001b[0;34m=\u001b[0m \u001b[0mself\u001b[0m\u001b[0;34m.\u001b[0m\u001b[0m_process_crs\u001b[0m\u001b[0;34m(\u001b[0m\u001b[0mdata\u001b[0m\u001b[0;34m,\u001b[0m \u001b[0mcrs\u001b[0m\u001b[0;34m)\u001b[0m \u001b[0;32mif\u001b[0m \u001b[0mself\u001b[0m\u001b[0;34m.\u001b[0m\u001b[0mgeo\u001b[0m \u001b[0;32melse\u001b[0m \u001b[0;32mNone\u001b[0m\u001b[0;34m\u001b[0m\u001b[0;34m\u001b[0m\u001b[0m\n\u001b[0m\u001b[1;32m    389\u001b[0m         \u001b[0mself\u001b[0m\u001b[0;34m.\u001b[0m\u001b[0mproject\u001b[0m \u001b[0;34m=\u001b[0m \u001b[0mproject\u001b[0m\u001b[0;34m\u001b[0m\u001b[0;34m\u001b[0m\u001b[0m\n\u001b[1;32m    390\u001b[0m         \u001b[0mself\u001b[0m\u001b[0;34m.\u001b[0m\u001b[0mcoastline\u001b[0m \u001b[0;34m=\u001b[0m \u001b[0mcoastline\u001b[0m\u001b[0;34m\u001b[0m\u001b[0;34m\u001b[0m\u001b[0m\n",
      "\u001b[0;32m~/opt/anaconda3/lib/python3.9/site-packages/hvplot/converter.py\u001b[0m in \u001b[0;36m_process_crs\u001b[0;34m(self, data, crs)\u001b[0m\n\u001b[1;32m    628\u001b[0m         \u001b[0m_crs\u001b[0m \u001b[0;34m=\u001b[0m \u001b[0mgetattr\u001b[0m\u001b[0;34m(\u001b[0m\u001b[0mdata\u001b[0m\u001b[0;34m,\u001b[0m \u001b[0;34m'attrs'\u001b[0m\u001b[0;34m,\u001b[0m \u001b[0;34m{\u001b[0m\u001b[0;34m}\u001b[0m\u001b[0;34m)\u001b[0m\u001b[0;34m.\u001b[0m\u001b[0mget\u001b[0m\u001b[0;34m(\u001b[0m\u001b[0mcrs\u001b[0m \u001b[0;32mor\u001b[0m \u001b[0;34m'crs'\u001b[0m\u001b[0;34m,\u001b[0m \u001b[0mcrs\u001b[0m\u001b[0;34m)\u001b[0m\u001b[0;34m\u001b[0m\u001b[0;34m\u001b[0m\u001b[0m\n\u001b[1;32m    629\u001b[0m         \u001b[0;32mtry\u001b[0m\u001b[0;34m:\u001b[0m\u001b[0;34m\u001b[0m\u001b[0;34m\u001b[0m\u001b[0m\n\u001b[0;32m--> 630\u001b[0;31m             \u001b[0;32mreturn\u001b[0m \u001b[0mprocess_crs\u001b[0m\u001b[0;34m(\u001b[0m\u001b[0m_crs\u001b[0m\u001b[0;34m)\u001b[0m\u001b[0;34m\u001b[0m\u001b[0;34m\u001b[0m\u001b[0m\n\u001b[0m\u001b[1;32m    631\u001b[0m         \u001b[0;32mexcept\u001b[0m \u001b[0mValueError\u001b[0m\u001b[0;34m:\u001b[0m\u001b[0;34m\u001b[0m\u001b[0;34m\u001b[0m\u001b[0m\n\u001b[1;32m    632\u001b[0m             \u001b[0;31m# only raise error if crs was specified in kwargs\u001b[0m\u001b[0;34m\u001b[0m\u001b[0;34m\u001b[0m\u001b[0m\n",
      "\u001b[0;32m~/opt/anaconda3/lib/python3.9/site-packages/hvplot/util.py\u001b[0m in \u001b[0;36mprocess_crs\u001b[0;34m(crs)\u001b[0m\n\u001b[1;32m    234\u001b[0m         \u001b[0;32mimport\u001b[0m \u001b[0mpyproj\u001b[0m\u001b[0;34m\u001b[0m\u001b[0;34m\u001b[0m\u001b[0m\n\u001b[1;32m    235\u001b[0m     \u001b[0;32mexcept\u001b[0m \u001b[0mImportError\u001b[0m\u001b[0;34m:\u001b[0m\u001b[0;34m\u001b[0m\u001b[0;34m\u001b[0m\u001b[0m\n\u001b[0;32m--> 236\u001b[0;31m         \u001b[0;32mraise\u001b[0m \u001b[0mImportError\u001b[0m\u001b[0;34m(\u001b[0m\u001b[0;34m'Geographic projection support requires GeoViews and cartopy.'\u001b[0m\u001b[0;34m)\u001b[0m\u001b[0;34m\u001b[0m\u001b[0;34m\u001b[0m\u001b[0m\n\u001b[0m\u001b[1;32m    237\u001b[0m \u001b[0;34m\u001b[0m\u001b[0m\n\u001b[1;32m    238\u001b[0m     \u001b[0;32mif\u001b[0m \u001b[0mcrs\u001b[0m \u001b[0;32mis\u001b[0m \u001b[0;32mNone\u001b[0m\u001b[0;34m:\u001b[0m\u001b[0;34m\u001b[0m\u001b[0;34m\u001b[0m\u001b[0m\n",
      "\u001b[0;31mImportError\u001b[0m: Geographic projection support requires GeoViews and cartopy."
     ]
    }
   ],
   "source": [
    "%%capture --no-display\n",
    "\n",
    "# Configure the map plot_1\n",
    "map_plot_2 = all_data_2018_df.hvplot.points(\n",
    "    \"Longitude\",\n",
    "    \"Latitude\",\n",
    "    geo = True,\n",
    "    tiles = \"EsriNatGeo\",\n",
    "    frame_width = 700,\n",
    "    frame_height = 500,\n",
    "    scale = 0.5,\n",
    "    hover_cols = [\"Life Expectancy\", \"GDP 2018 (Billions)\"],\n",
    "    color = \"Country\"\n",
    ")\n",
    "\n",
    "# Display the map plot\n",
    "map_plot_2"
   ]
  },
  {
   "cell_type": "markdown",
   "metadata": {},
   "source": [
    "### Poverty Data"
   ]
  },
  {
   "cell_type": "code",
   "execution_count": 28,
   "metadata": {},
   "outputs": [
    {
     "data": {
      "text/html": [
       "<div>\n",
       "<style scoped>\n",
       "    .dataframe tbody tr th:only-of-type {\n",
       "        vertical-align: middle;\n",
       "    }\n",
       "\n",
       "    .dataframe tbody tr th {\n",
       "        vertical-align: top;\n",
       "    }\n",
       "\n",
       "    .dataframe thead th {\n",
       "        text-align: right;\n",
       "    }\n",
       "</style>\n",
       "<table border=\"1\" class=\"dataframe\">\n",
       "  <thead>\n",
       "    <tr style=\"text-align: right;\">\n",
       "      <th></th>\n",
       "      <th>Country Name</th>\n",
       "      <th>Country Code</th>\n",
       "      <th>Indicator Name</th>\n",
       "      <th>Indicator Code</th>\n",
       "      <th>1960</th>\n",
       "      <th>1961</th>\n",
       "      <th>1962</th>\n",
       "      <th>1963</th>\n",
       "      <th>1964</th>\n",
       "      <th>1965</th>\n",
       "      <th>...</th>\n",
       "      <th>2013</th>\n",
       "      <th>2014</th>\n",
       "      <th>2015</th>\n",
       "      <th>2016</th>\n",
       "      <th>2017</th>\n",
       "      <th>2018</th>\n",
       "      <th>2019</th>\n",
       "      <th>2020</th>\n",
       "      <th>2021</th>\n",
       "      <th>Unnamed: 66</th>\n",
       "    </tr>\n",
       "  </thead>\n",
       "  <tbody>\n",
       "    <tr>\n",
       "      <th>0</th>\n",
       "      <td>Australia</td>\n",
       "      <td>AUS</td>\n",
       "      <td>Poverty headcount ratio at $2.15 a day (2017 P...</td>\n",
       "      <td>SI.POV.DDAY</td>\n",
       "      <td>NaN</td>\n",
       "      <td>NaN</td>\n",
       "      <td>NaN</td>\n",
       "      <td>NaN</td>\n",
       "      <td>NaN</td>\n",
       "      <td>NaN</td>\n",
       "      <td>...</td>\n",
       "      <td>NaN</td>\n",
       "      <td>0.5</td>\n",
       "      <td>NaN</td>\n",
       "      <td>0.5</td>\n",
       "      <td>NaN</td>\n",
       "      <td>0.5</td>\n",
       "      <td>NaN</td>\n",
       "      <td>NaN</td>\n",
       "      <td>NaN</td>\n",
       "      <td>NaN</td>\n",
       "    </tr>\n",
       "    <tr>\n",
       "      <th>1</th>\n",
       "      <td>Chile</td>\n",
       "      <td>CHL</td>\n",
       "      <td>Poverty headcount ratio at $2.15 a day (2017 P...</td>\n",
       "      <td>SI.POV.DDAY</td>\n",
       "      <td>NaN</td>\n",
       "      <td>NaN</td>\n",
       "      <td>NaN</td>\n",
       "      <td>NaN</td>\n",
       "      <td>NaN</td>\n",
       "      <td>NaN</td>\n",
       "      <td>...</td>\n",
       "      <td>0.5</td>\n",
       "      <td>NaN</td>\n",
       "      <td>0.4</td>\n",
       "      <td>NaN</td>\n",
       "      <td>0.3</td>\n",
       "      <td>NaN</td>\n",
       "      <td>NaN</td>\n",
       "      <td>0.7</td>\n",
       "      <td>NaN</td>\n",
       "      <td>NaN</td>\n",
       "    </tr>\n",
       "    <tr>\n",
       "      <th>2</th>\n",
       "      <td>Hong Kong</td>\n",
       "      <td>HKG</td>\n",
       "      <td>Poverty headcount ratio at $2.15 a day (2017 P...</td>\n",
       "      <td>SI.POV.DDAY</td>\n",
       "      <td>NaN</td>\n",
       "      <td>NaN</td>\n",
       "      <td>NaN</td>\n",
       "      <td>NaN</td>\n",
       "      <td>NaN</td>\n",
       "      <td>NaN</td>\n",
       "      <td>...</td>\n",
       "      <td>NaN</td>\n",
       "      <td>NaN</td>\n",
       "      <td>NaN</td>\n",
       "      <td>NaN</td>\n",
       "      <td>NaN</td>\n",
       "      <td>NaN</td>\n",
       "      <td>NaN</td>\n",
       "      <td>NaN</td>\n",
       "      <td>NaN</td>\n",
       "      <td>NaN</td>\n",
       "    </tr>\n",
       "    <tr>\n",
       "      <th>3</th>\n",
       "      <td>Hungary</td>\n",
       "      <td>HUN</td>\n",
       "      <td>Poverty headcount ratio at $2.15 a day (2017 P...</td>\n",
       "      <td>SI.POV.DDAY</td>\n",
       "      <td>NaN</td>\n",
       "      <td>NaN</td>\n",
       "      <td>NaN</td>\n",
       "      <td>NaN</td>\n",
       "      <td>NaN</td>\n",
       "      <td>NaN</td>\n",
       "      <td>...</td>\n",
       "      <td>0.2</td>\n",
       "      <td>0.7</td>\n",
       "      <td>0.6</td>\n",
       "      <td>1.3</td>\n",
       "      <td>0.6</td>\n",
       "      <td>0.2</td>\n",
       "      <td>0.3</td>\n",
       "      <td>NaN</td>\n",
       "      <td>NaN</td>\n",
       "      <td>NaN</td>\n",
       "    </tr>\n",
       "    <tr>\n",
       "      <th>4</th>\n",
       "      <td>United States</td>\n",
       "      <td>USA</td>\n",
       "      <td>Poverty headcount ratio at $2.15 a day (2017 P...</td>\n",
       "      <td>SI.POV.DDAY</td>\n",
       "      <td>NaN</td>\n",
       "      <td>NaN</td>\n",
       "      <td>NaN</td>\n",
       "      <td>NaN</td>\n",
       "      <td>NaN</td>\n",
       "      <td>NaN</td>\n",
       "      <td>...</td>\n",
       "      <td>1.0</td>\n",
       "      <td>1.2</td>\n",
       "      <td>1.2</td>\n",
       "      <td>1.0</td>\n",
       "      <td>1.2</td>\n",
       "      <td>1.0</td>\n",
       "      <td>1.0</td>\n",
       "      <td>NaN</td>\n",
       "      <td>NaN</td>\n",
       "      <td>NaN</td>\n",
       "    </tr>\n",
       "  </tbody>\n",
       "</table>\n",
       "<p>5 rows × 67 columns</p>\n",
       "</div>"
      ],
      "text/plain": [
       "    Country Name Country Code  \\\n",
       "0      Australia          AUS   \n",
       "1          Chile          CHL   \n",
       "2      Hong Kong          HKG   \n",
       "3        Hungary          HUN   \n",
       "4  United States          USA   \n",
       "\n",
       "                                      Indicator Name Indicator Code  1960  \\\n",
       "0  Poverty headcount ratio at $2.15 a day (2017 P...    SI.POV.DDAY   NaN   \n",
       "1  Poverty headcount ratio at $2.15 a day (2017 P...    SI.POV.DDAY   NaN   \n",
       "2  Poverty headcount ratio at $2.15 a day (2017 P...    SI.POV.DDAY   NaN   \n",
       "3  Poverty headcount ratio at $2.15 a day (2017 P...    SI.POV.DDAY   NaN   \n",
       "4  Poverty headcount ratio at $2.15 a day (2017 P...    SI.POV.DDAY   NaN   \n",
       "\n",
       "   1961  1962  1963  1964  1965  ...  2013  2014  2015  2016  2017  2018  \\\n",
       "0   NaN   NaN   NaN   NaN   NaN  ...   NaN   0.5   NaN   0.5   NaN   0.5   \n",
       "1   NaN   NaN   NaN   NaN   NaN  ...   0.5   NaN   0.4   NaN   0.3   NaN   \n",
       "2   NaN   NaN   NaN   NaN   NaN  ...   NaN   NaN   NaN   NaN   NaN   NaN   \n",
       "3   NaN   NaN   NaN   NaN   NaN  ...   0.2   0.7   0.6   1.3   0.6   0.2   \n",
       "4   NaN   NaN   NaN   NaN   NaN  ...   1.0   1.2   1.2   1.0   1.2   1.0   \n",
       "\n",
       "   2019  2020  2021  Unnamed: 66  \n",
       "0   NaN   NaN   NaN          NaN  \n",
       "1   NaN   0.7   NaN          NaN  \n",
       "2   NaN   NaN   NaN          NaN  \n",
       "3   0.3   NaN   NaN          NaN  \n",
       "4   1.0   NaN   NaN          NaN  \n",
       "\n",
       "[5 rows x 67 columns]"
      ]
     },
     "execution_count": 28,
     "metadata": {},
     "output_type": "execute_result"
    }
   ],
   "source": [
    "pov_file = \"Resources/WB_Poverty_Data.csv\"\n",
    "life_ex_file = \"Resources/Life_expectancy_data_Proj_1.csv\"\n",
    "\n",
    "pov_data_raw = pd.read_csv(pov_file)\n",
    "life_ex_data = pd.read_csv(life_ex_file)\n",
    "\n",
    "pov_data_raw.head()"
   ]
  },
  {
   "cell_type": "code",
   "execution_count": 29,
   "metadata": {},
   "outputs": [
    {
     "data": {
      "text/html": [
       "<div>\n",
       "<style scoped>\n",
       "    .dataframe tbody tr th:only-of-type {\n",
       "        vertical-align: middle;\n",
       "    }\n",
       "\n",
       "    .dataframe tbody tr th {\n",
       "        vertical-align: top;\n",
       "    }\n",
       "\n",
       "    .dataframe thead th {\n",
       "        text-align: right;\n",
       "    }\n",
       "</style>\n",
       "<table border=\"1\" class=\"dataframe\">\n",
       "  <thead>\n",
       "    <tr style=\"text-align: right;\">\n",
       "      <th>Country Name</th>\n",
       "      <th>Australia</th>\n",
       "      <th>Chile</th>\n",
       "      <th>Hungary</th>\n",
       "      <th>United States</th>\n",
       "    </tr>\n",
       "  </thead>\n",
       "  <tbody>\n",
       "    <tr>\n",
       "      <th>2008</th>\n",
       "      <td>0.4</td>\n",
       "      <td>0.0</td>\n",
       "      <td>0.0</td>\n",
       "      <td>1.0</td>\n",
       "    </tr>\n",
       "    <tr>\n",
       "      <th>2009</th>\n",
       "      <td>0.0</td>\n",
       "      <td>1.7</td>\n",
       "      <td>0.1</td>\n",
       "      <td>1.0</td>\n",
       "    </tr>\n",
       "    <tr>\n",
       "      <th>2010</th>\n",
       "      <td>0.3</td>\n",
       "      <td>0.0</td>\n",
       "      <td>0.1</td>\n",
       "      <td>1.0</td>\n",
       "    </tr>\n",
       "    <tr>\n",
       "      <th>2011</th>\n",
       "      <td>0.0</td>\n",
       "      <td>0.9</td>\n",
       "      <td>0.1</td>\n",
       "      <td>1.0</td>\n",
       "    </tr>\n",
       "    <tr>\n",
       "      <th>2012</th>\n",
       "      <td>0.0</td>\n",
       "      <td>0.0</td>\n",
       "      <td>0.3</td>\n",
       "      <td>1.0</td>\n",
       "    </tr>\n",
       "    <tr>\n",
       "      <th>2013</th>\n",
       "      <td>0.0</td>\n",
       "      <td>0.5</td>\n",
       "      <td>0.2</td>\n",
       "      <td>1.0</td>\n",
       "    </tr>\n",
       "    <tr>\n",
       "      <th>2014</th>\n",
       "      <td>0.5</td>\n",
       "      <td>0.0</td>\n",
       "      <td>0.7</td>\n",
       "      <td>1.2</td>\n",
       "    </tr>\n",
       "    <tr>\n",
       "      <th>2015</th>\n",
       "      <td>0.0</td>\n",
       "      <td>0.4</td>\n",
       "      <td>0.6</td>\n",
       "      <td>1.2</td>\n",
       "    </tr>\n",
       "    <tr>\n",
       "      <th>2016</th>\n",
       "      <td>0.5</td>\n",
       "      <td>0.0</td>\n",
       "      <td>1.3</td>\n",
       "      <td>1.0</td>\n",
       "    </tr>\n",
       "    <tr>\n",
       "      <th>2017</th>\n",
       "      <td>0.0</td>\n",
       "      <td>0.3</td>\n",
       "      <td>0.6</td>\n",
       "      <td>1.2</td>\n",
       "    </tr>\n",
       "    <tr>\n",
       "      <th>2018</th>\n",
       "      <td>0.5</td>\n",
       "      <td>0.0</td>\n",
       "      <td>0.2</td>\n",
       "      <td>1.0</td>\n",
       "    </tr>\n",
       "  </tbody>\n",
       "</table>\n",
       "</div>"
      ],
      "text/plain": [
       "Country Name  Australia  Chile  Hungary  United States\n",
       "2008                0.4    0.0      0.0            1.0\n",
       "2009                0.0    1.7      0.1            1.0\n",
       "2010                0.3    0.0      0.1            1.0\n",
       "2011                0.0    0.9      0.1            1.0\n",
       "2012                0.0    0.0      0.3            1.0\n",
       "2013                0.0    0.5      0.2            1.0\n",
       "2014                0.5    0.0      0.7            1.2\n",
       "2015                0.0    0.4      0.6            1.2\n",
       "2016                0.5    0.0      1.3            1.0\n",
       "2017                0.0    0.3      0.6            1.2\n",
       "2018                0.5    0.0      0.2            1.0"
      ]
     },
     "execution_count": 29,
     "metadata": {},
     "output_type": "execute_result"
    }
   ],
   "source": [
    "pov_data_filtered = pov_data_raw[[\"Country Name\", \"2008\", \"2009\", \"2010\", \"2011\", \"2012\", \"2013\", \"2014\", \"2015\", \"2016\", \"2017\", \"2018\"]]\n",
    "pov_data_filtered.set_index(\"Country Name\", inplace=True)\n",
    "pov_data_T = pov_data_filtered.T\n",
    "pov_data_clean = pov_data_T.fillna(0)\n",
    "pov_data_clean[\"Australia\"] = pd.to_numeric(pov_data_clean[\"Australia\"])\n",
    "pov_data_clean[\"Chile\"] = pd.to_numeric(pov_data_clean[\"Chile\"])\n",
    "pov_data_clean[\"Hong Kong\"] = pd.to_numeric(pov_data_clean[\"Hong Kong\"])\n",
    "pov_data_clean[\"Hungary\"] = pd.to_numeric(pov_data_clean[\"Hungary\"])\n",
    "pov_data_clean[\"United States\"] = pd.to_numeric(pov_data_clean[\"United States\"])\n",
    "\n",
    "pov_data_final = pov_data_clean[[\"Australia\", \"Chile\", \"Hungary\", \"United States\"]]\n",
    "\n",
    "pov_data_final"
   ]
  },
  {
   "cell_type": "code",
   "execution_count": 30,
   "metadata": {},
   "outputs": [
    {
     "ename": "TypeError",
     "evalue": "'str' object is not callable",
     "output_type": "error",
     "traceback": [
      "\u001b[0;31m---------------------------------------------------------------------------\u001b[0m",
      "\u001b[0;31mTypeError\u001b[0m                                 Traceback (most recent call last)",
      "\u001b[0;32m/var/folders/xw/z2rhr7zj1kvg3zdq580t0_340000gp/T/ipykernel_93268/560503583.py\u001b[0m in \u001b[0;36m<module>\u001b[0;34m\u001b[0m\n\u001b[1;32m      1\u001b[0m \u001b[0mpoverty_bar_plot\u001b[0m \u001b[0;34m=\u001b[0m \u001b[0mpov_data_final\u001b[0m\u001b[0;34m.\u001b[0m\u001b[0mplot\u001b[0m\u001b[0;34m.\u001b[0m\u001b[0mbar\u001b[0m\u001b[0;34m(\u001b[0m\u001b[0;34m)\u001b[0m\u001b[0;34m\u001b[0m\u001b[0;34m\u001b[0m\u001b[0m\n\u001b[0;32m----> 2\u001b[0;31m \u001b[0mplt\u001b[0m\u001b[0;34m.\u001b[0m\u001b[0mxlabel\u001b[0m\u001b[0;34m(\u001b[0m\u001b[0;34m\"Year\"\u001b[0m\u001b[0;34m)\u001b[0m\u001b[0;34m\u001b[0m\u001b[0;34m\u001b[0m\u001b[0m\n\u001b[0m\u001b[1;32m      3\u001b[0m \u001b[0mplt\u001b[0m\u001b[0;34m.\u001b[0m\u001b[0mylabel\u001b[0m\u001b[0;34m(\u001b[0m\u001b[0;34m\"Poverty headcount ratio at $2.15 a day\"\u001b[0m\u001b[0;34m)\u001b[0m\u001b[0;34m\u001b[0m\u001b[0;34m\u001b[0m\u001b[0m\n\u001b[1;32m      4\u001b[0m \u001b[0mpoverty_bar_plot\u001b[0m\u001b[0;34m\u001b[0m\u001b[0;34m\u001b[0m\u001b[0m\n\u001b[1;32m      5\u001b[0m \u001b[0mplt\u001b[0m\u001b[0;34m.\u001b[0m\u001b[0msavefig\u001b[0m\u001b[0;34m(\u001b[0m\u001b[0;34m\"Resources/Poverty_Bar_Graph.png\"\u001b[0m\u001b[0;34m)\u001b[0m\u001b[0;34m\u001b[0m\u001b[0;34m\u001b[0m\u001b[0m\n",
      "\u001b[0;31mTypeError\u001b[0m: 'str' object is not callable"
     ]
    },
    {
     "data": {
      "image/png": "[encoded data removed]",
      "text/plain": [
       "<Figure size 640x480 with 1 Axes>"
      ]
     },
     "metadata": {},
     "output_type": "display_data"
    }
   ],
   "source": [
    "poverty_bar_plot = pov_data_final.plot.bar()\n",
    "plt.xlabel(\"Year\")\n",
    "plt.ylabel(\"Poverty headcount ratio at $2.15 a day\")\n",
    "poverty_bar_plot\n",
    "plt.savefig(\"Resources/Poverty_Bar_Graph.png\")"
   ]
  },
  {
   "cell_type": "code",
   "execution_count": null,
   "metadata": {},
   "outputs": [],
   "source": []
  }
 ],
 "metadata": {
  "kernelspec": {
   "display_name": "Python 3 (ipykernel)",
   "language": "python",
   "name": "python3"
  },
  "language_info": {
   "codemirror_mode": {
    "name": "ipython",
    "version": 3
   },
   "file_extension": ".py",
   "mimetype": "text/x-python",
   "name": "python",
   "nbconvert_exporter": "python",
   "pygments_lexer": "ipython3",
   "version": "3.9.13"
  },
  "vscode": {
   "interpreter": {
    "hash": "a5387b9da968551e43e0ccab31c37bebadc093c630309dcd510e17231b5b064a"
   }
  }
 },
 "nbformat": 4,
 "nbformat_minor": 4
}

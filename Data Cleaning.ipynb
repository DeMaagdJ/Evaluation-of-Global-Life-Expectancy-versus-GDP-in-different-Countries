{
 "cells": [
  {
   "cell_type": "code",
   "execution_count": 50,
   "metadata": {},
   "outputs": [],
   "source": [
    "import pandas as pd\n",
    "import os"
   ]
  },
  {
   "cell_type": "code",
   "execution_count": 51,
   "metadata": {},
   "outputs": [],
   "source": [
    "csv = os.path.join(\"Resources/Australia.csv\")"
   ]
  },
  {
   "cell_type": "code",
   "execution_count": 52,
   "metadata": {},
   "outputs": [
    {
     "data": {
      "text/plain": [
       "'/Users/Justin/Documents/Bootcamp_Home folder/Project_1'"
      ]
     },
     "execution_count": 52,
     "metadata": {},
     "output_type": "execute_result"
    }
   ],
   "source": [
    "pwd"
   ]
  },
  {
   "cell_type": "code",
   "execution_count": 59,
   "metadata": {},
   "outputs": [],
   "source": [
    "df = pd.read_csv(csv)"
   ]
  },
  {
   "cell_type": "code",
   "execution_count": 60,
   "metadata": {},
   "outputs": [
    {
     "data": {
      "text/plain": [
       "Country     object\n",
       "Year         int64\n",
       "Female     float64\n",
       "Male       float64\n",
       "Total      float64\n",
       "dtype: object"
      ]
     },
     "execution_count": 60,
     "metadata": {},
     "output_type": "execute_result"
    }
   ],
   "source": [
    "df.dropna(how='any')\n",
    "df.dtypes"
   ]
  },
  {
   "cell_type": "code",
   "execution_count": 61,
   "metadata": {},
   "outputs": [
    {
     "data": {
      "text/html": [
       "<div>\n",
       "<style scoped>\n",
       "    .dataframe tbody tr th:only-of-type {\n",
       "        vertical-align: middle;\n",
       "    }\n",
       "\n",
       "    .dataframe tbody tr th {\n",
       "        vertical-align: top;\n",
       "    }\n",
       "\n",
       "    .dataframe thead th {\n",
       "        text-align: right;\n",
       "    }\n",
       "</style>\n",
       "<table border=\"1\" class=\"dataframe\">\n",
       "  <thead>\n",
       "    <tr style=\"text-align: right;\">\n",
       "      <th></th>\n",
       "      <th>Country</th>\n",
       "      <th>Year</th>\n",
       "      <th>Female</th>\n",
       "      <th>Male</th>\n",
       "      <th>Total</th>\n",
       "    </tr>\n",
       "  </thead>\n",
       "  <tbody>\n",
       "    <tr>\n",
       "      <th>0</th>\n",
       "      <td>Australia</td>\n",
       "      <td>1921</td>\n",
       "      <td>63.18</td>\n",
       "      <td>59.10</td>\n",
       "      <td>60.97</td>\n",
       "    </tr>\n",
       "    <tr>\n",
       "      <th>1</th>\n",
       "      <td>Australia</td>\n",
       "      <td>1922</td>\n",
       "      <td>65.11</td>\n",
       "      <td>60.88</td>\n",
       "      <td>62.83</td>\n",
       "    </tr>\n",
       "    <tr>\n",
       "      <th>2</th>\n",
       "      <td>Australia</td>\n",
       "      <td>1923</td>\n",
       "      <td>63.66</td>\n",
       "      <td>59.98</td>\n",
       "      <td>61.68</td>\n",
       "    </tr>\n",
       "    <tr>\n",
       "      <th>3</th>\n",
       "      <td>Australia</td>\n",
       "      <td>1924</td>\n",
       "      <td>64.51</td>\n",
       "      <td>60.77</td>\n",
       "      <td>62.48</td>\n",
       "    </tr>\n",
       "    <tr>\n",
       "      <th>4</th>\n",
       "      <td>Australia</td>\n",
       "      <td>1925</td>\n",
       "      <td>65.38</td>\n",
       "      <td>61.30</td>\n",
       "      <td>63.17</td>\n",
       "    </tr>\n",
       "  </tbody>\n",
       "</table>\n",
       "</div>"
      ],
      "text/plain": [
       "     Country  Year  Female   Male  Total\n",
       "0  Australia  1921   63.18  59.10  60.97\n",
       "1  Australia  1922   65.11  60.88  62.83\n",
       "2  Australia  1923   63.66  59.98  61.68\n",
       "3  Australia  1924   64.51  60.77  62.48\n",
       "4  Australia  1925   65.38  61.30  63.17"
      ]
     },
     "execution_count": 61,
     "metadata": {},
     "output_type": "execute_result"
    }
   ],
   "source": [
    "df.head()"
   ]
  },
  {
   "cell_type": "code",
   "execution_count": 78,
   "metadata": {},
   "outputs": [
    {
     "data": {
      "text/plain": [
       "Country    100\n",
       "Year       100\n",
       "Female     100\n",
       "Male       100\n",
       "Total      100\n",
       "dtype: int64"
      ]
     },
     "execution_count": 78,
     "metadata": {},
     "output_type": "execute_result"
    }
   ],
   "source": [
    "df.count()"
   ]
  },
  {
   "cell_type": "code",
   "execution_count": 63,
   "metadata": {},
   "outputs": [],
   "source": [
    "#Convert data types to relevant object\n",
    "# df= df.astype{}, errors='raise'"
   ]
  },
  {
   "cell_type": "code",
   "execution_count": 92,
   "metadata": {},
   "outputs": [],
   "source": [
    "life_df1 = df.loc[df[\"Year\"] > 2007, [\"Country\", \"Year\", \"Female\", \"Male\", \"Total\"]]"
   ]
  },
  {
   "cell_type": "code",
   "execution_count": 93,
   "metadata": {},
   "outputs": [],
   "source": [
    "life_df2 = life_df1.loc[life_df1[\"Year\"] < 2019, [\"Country\", \"Year\", \"Female\", \"Male\", \"Total\"]]"
   ]
  },
  {
   "cell_type": "code",
   "execution_count": 94,
   "metadata": {},
   "outputs": [
    {
     "data": {
      "text/html": [
       "<div>\n",
       "<style scoped>\n",
       "    .dataframe tbody tr th:only-of-type {\n",
       "        vertical-align: middle;\n",
       "    }\n",
       "\n",
       "    .dataframe tbody tr th {\n",
       "        vertical-align: top;\n",
       "    }\n",
       "\n",
       "    .dataframe thead th {\n",
       "        text-align: right;\n",
       "    }\n",
       "</style>\n",
       "<table border=\"1\" class=\"dataframe\">\n",
       "  <thead>\n",
       "    <tr style=\"text-align: right;\">\n",
       "      <th></th>\n",
       "      <th>Country</th>\n",
       "      <th>Year</th>\n",
       "      <th>Female</th>\n",
       "      <th>Male</th>\n",
       "      <th>Total</th>\n",
       "    </tr>\n",
       "  </thead>\n",
       "  <tbody>\n",
       "    <tr>\n",
       "      <th>87</th>\n",
       "      <td>Australia</td>\n",
       "      <td>2008</td>\n",
       "      <td>83.70</td>\n",
       "      <td>79.14</td>\n",
       "      <td>81.43</td>\n",
       "    </tr>\n",
       "    <tr>\n",
       "      <th>88</th>\n",
       "      <td>Australia</td>\n",
       "      <td>2009</td>\n",
       "      <td>84.00</td>\n",
       "      <td>79.44</td>\n",
       "      <td>81.73</td>\n",
       "    </tr>\n",
       "    <tr>\n",
       "      <th>89</th>\n",
       "      <td>Australia</td>\n",
       "      <td>2010</td>\n",
       "      <td>84.20</td>\n",
       "      <td>79.81</td>\n",
       "      <td>82.02</td>\n",
       "    </tr>\n",
       "    <tr>\n",
       "      <th>90</th>\n",
       "      <td>Australia</td>\n",
       "      <td>2011</td>\n",
       "      <td>84.25</td>\n",
       "      <td>79.92</td>\n",
       "      <td>82.09</td>\n",
       "    </tr>\n",
       "    <tr>\n",
       "      <th>91</th>\n",
       "      <td>Australia</td>\n",
       "      <td>2012</td>\n",
       "      <td>84.30</td>\n",
       "      <td>80.27</td>\n",
       "      <td>82.30</td>\n",
       "    </tr>\n",
       "    <tr>\n",
       "      <th>92</th>\n",
       "      <td>Australia</td>\n",
       "      <td>2013</td>\n",
       "      <td>84.62</td>\n",
       "      <td>80.47</td>\n",
       "      <td>82.55</td>\n",
       "    </tr>\n",
       "    <tr>\n",
       "      <th>93</th>\n",
       "      <td>Australia</td>\n",
       "      <td>2014</td>\n",
       "      <td>84.50</td>\n",
       "      <td>80.53</td>\n",
       "      <td>82.52</td>\n",
       "    </tr>\n",
       "    <tr>\n",
       "      <th>94</th>\n",
       "      <td>Australia</td>\n",
       "      <td>2015</td>\n",
       "      <td>84.62</td>\n",
       "      <td>80.57</td>\n",
       "      <td>82.60</td>\n",
       "    </tr>\n",
       "    <tr>\n",
       "      <th>95</th>\n",
       "      <td>Australia</td>\n",
       "      <td>2016</td>\n",
       "      <td>84.85</td>\n",
       "      <td>80.75</td>\n",
       "      <td>82.81</td>\n",
       "    </tr>\n",
       "    <tr>\n",
       "      <th>96</th>\n",
       "      <td>Australia</td>\n",
       "      <td>2017</td>\n",
       "      <td>84.75</td>\n",
       "      <td>80.69</td>\n",
       "      <td>82.72</td>\n",
       "    </tr>\n",
       "    <tr>\n",
       "      <th>97</th>\n",
       "      <td>Australia</td>\n",
       "      <td>2018</td>\n",
       "      <td>85.30</td>\n",
       "      <td>81.22</td>\n",
       "      <td>83.26</td>\n",
       "    </tr>\n",
       "  </tbody>\n",
       "</table>\n",
       "</div>"
      ],
      "text/plain": [
       "      Country  Year  Female   Male  Total\n",
       "87  Australia  2008   83.70  79.14  81.43\n",
       "88  Australia  2009   84.00  79.44  81.73\n",
       "89  Australia  2010   84.20  79.81  82.02\n",
       "90  Australia  2011   84.25  79.92  82.09\n",
       "91  Australia  2012   84.30  80.27  82.30\n",
       "92  Australia  2013   84.62  80.47  82.55\n",
       "93  Australia  2014   84.50  80.53  82.52\n",
       "94  Australia  2015   84.62  80.57  82.60\n",
       "95  Australia  2016   84.85  80.75  82.81\n",
       "96  Australia  2017   84.75  80.69  82.72\n",
       "97  Australia  2018   85.30  81.22  83.26"
      ]
     },
     "execution_count": 94,
     "metadata": {},
     "output_type": "execute_result"
    }
   ],
   "source": [
    "life_df2.head(20)"
   ]
  },
  {
   "cell_type": "code",
   "execution_count": null,
   "metadata": {},
   "outputs": [],
   "source": []
  }
 ],
 "metadata": {
  "kernelspec": {
   "display_name": "PythonData",
   "language": "python",
   "name": "pythondata"
  },
  "language_info": {
   "codemirror_mode": {
    "name": "ipython",
    "version": 3
   },
   "file_extension": ".py",
   "mimetype": "text/x-python",
   "name": "python",
   "nbconvert_exporter": "python",
   "pygments_lexer": "ipython3",
   "version": "3.7.7"
  }
 },
 "nbformat": 4,
 "nbformat_minor": 4
}
